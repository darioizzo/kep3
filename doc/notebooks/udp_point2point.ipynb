{
 "cells": [
  {
   "cell_type": "markdown",
   "metadata": {},
   "source": [
    "# Point to point low-thrust transfer"
   ]
  },
  {
   "cell_type": "code",
   "execution_count": 1,
   "metadata": {},
   "outputs": [],
   "source": [
    "import pykep as pk\n",
    "import numpy as np\n",
    "import time\n",
    "import pygmo as pg\n",
    "import pygmo_plugins_nonfree as ppnf\n",
    "import time\n",
    "\n",
    "from matplotlib import pyplot as plt"
   ]
  },
  {
   "cell_type": "code",
   "execution_count": 2,
   "metadata": {},
   "outputs": [],
   "source": [
    "class direct_point2point:\n",
    "    \"\"\"Represents a direct transcription of the optimal low-thrust transfer between two fixed points.\n",
    "\n",
    "    This problem works using a Sims-Flanagan leg and manipulating its transfer time T, final mass mf and the controls.\n",
    "\n",
    "    The decision vector is::\n",
    "\n",
    "        z = [mf, throttles, tof]\n",
    "\n",
    "    where throttles is a vector [u0x, u0y,u0z, ...]\n",
    "\n",
    "    \"\"\"\n",
    "\n",
    "    def __init__(\n",
    "        self,\n",
    "        rvs=[\n",
    "            np.array([1, 0.1, -0.1]) * pk.AU,\n",
    "            np.array([0.2, 1, -0.2]) * pk.EARTH_VELOCITY,\n",
    "        ],\n",
    "        rvf=[\n",
    "            np.array([-1.2, -0.1, 0.1]) * pk.AU,\n",
    "            np.array([0.2, -1.023, 0.44]) * pk.EARTH_VELOCITY,\n",
    "        ],\n",
    "        ms=1000,\n",
    "        mu=pk.MU_SUN,\n",
    "        max_thrust=0.12,\n",
    "        isp=3000,\n",
    "        tof_bounds=[80, 400],\n",
    "        mf_bounds=[200.0, 1000.0],\n",
    "        nseg=10,\n",
    "        cut=0.6,\n",
    "        mass_scaling=1000,\n",
    "        r_scaling=pk.AU,\n",
    "        v_scaling=pk.EARTH_VELOCITY,\n",
    "        with_gradient=True,\n",
    "    ):\n",
    "        # We add as data member one single Sims-Flanagan leg using the problem data\n",
    "        # and some temporary (and unused, thus irrelelvant) values for the to-be-optimzed parameters throttles, tof and mf.\n",
    "        throttles = np.random.uniform(-1, 1, size=(nseg * 3))\n",
    "        self.leg = pk.leg.sims_flanagan(\n",
    "            rvs=rvs,\n",
    "            ms=ms,\n",
    "            throttles=throttles,\n",
    "            rvf=rvf,\n",
    "            mf=np.mean(mf_bounds),\n",
    "            tof=np.mean(tof_bounds) * pk.DAY2SEC,\n",
    "            max_thrust=max_thrust,\n",
    "            isp=isp,\n",
    "            mu=mu,\n",
    "            cut=cut,\n",
    "        )\n",
    "        self.tof_bounds = tof_bounds\n",
    "        self.mf_bounds = mf_bounds\n",
    "        self.mass_scaling = mass_scaling\n",
    "        self.r_scaling = r_scaling\n",
    "        self.v_scaling = v_scaling\n",
    "        self.with_gradient = with_gradient\n",
    "\n",
    "    def get_bounds(self):\n",
    "        lb = [self.mf_bounds[0]] + [-1, -1, -1] * self.leg.nseg + [self.tof_bounds[0]]\n",
    "        ub = [self.mf_bounds[1]] + [1, 1, 1] * self.leg.nseg + [self.tof_bounds[1]]\n",
    "        return (lb, ub)\n",
    "\n",
    "    def _set_leg_from_x(self, x):\n",
    "        # We set the leg using data in the decision vector\n",
    "        self.leg.tof = x[-1] * pk.DAY2SEC\n",
    "        self.leg.mf = x[0]\n",
    "        self.leg.throttles = x[1:-1]\n",
    "\n",
    "    def fitness(self, x):\n",
    "        # 1 - We set the leg using data in the decision vector\n",
    "        self._set_leg_from_x(x)\n",
    "        obj = -x[0] / self.mass_scaling\n",
    "\n",
    "        # 2 - We compute the constraints violations (mismatch+throttle)\n",
    "        ceq = self.leg.compute_mismatch_constraints()\n",
    "        cineq = self.leg.compute_throttle_constraints()\n",
    "        retval = np.array([obj] + ceq + cineq)  # here we can sum lists\n",
    "\n",
    "        # 3 - We scale the values in nd units (numerical solvers are sensitive to well-scaled values)\n",
    "        retval[1:4] /= self.r_scaling\n",
    "        retval[4:7] /=  self.v_scaling\n",
    "        retval[7] /= self.mass_scaling\n",
    "\n",
    "        return retval\n",
    "\n",
    "    def has_gradient(self):\n",
    "        return self.with_gradient\n",
    "\n",
    "    def gradient(self, x):\n",
    "        self._set_leg_from_x(x)\n",
    "        _, mcg_xf, mcg_th_tof = self.leg.compute_mc_grad()\n",
    "        tcg_th = self.leg.compute_tc_grad()\n",
    "\n",
    "        # 1 - The gradient of the objective function (obj = -mf)\n",
    "        retval = [-1.0 / self.mass_scaling]\n",
    "        # 2 - The gradient of the mismatch contraints (mcg). We divide them in pos, vel mass as they have different scaling units\n",
    "        # pos\n",
    "        for i in range(3):\n",
    "            # First w.r.t. mf\n",
    "            retval.append(mcg_xf[i, -1] / self.r_scaling)\n",
    "            # Then the [throttles, tof]\n",
    "            retval.extend(mcg_th_tof[i, :] / self.r_scaling)\n",
    "            retval[-1] *= pk.DAY2SEC\n",
    "        # vel\n",
    "        for i in range(3, 6):\n",
    "            # First w.r.t. mf\n",
    "            retval.append(mcg_xf[i, -1] / self.v_scaling)\n",
    "            # Then the [throttles, tof]\n",
    "            retval.extend(mcg_th_tof[i, :] / self.v_scaling)\n",
    "            retval[-1] *= pk.DAY2SEC\n",
    "        # mass\n",
    "        for i in range(6, 7):\n",
    "            # First w.r.t. mf\n",
    "            retval.append(mcg_xf[i, -1] / self.mass_scaling)\n",
    "            # Then the [throttles, tof]\n",
    "            retval.extend(mcg_th_tof[i, :] / self.mass_scaling)\n",
    "            retval[-1] *= pk.DAY2SEC\n",
    "        # 3 -  The gradient of the throttle constraints\n",
    "        for i in range(self.leg.nseg):\n",
    "            retval.extend(tcg_th[i, 3 * i : 3 * i + 3])\n",
    "\n",
    "        return retval\n",
    "\n",
    "    def gradient_sparsity(self):\n",
    "        dim = 2 + 3 * self.leg.nseg\n",
    "        # The objective function only depends on the final mass, which is in the chromosome.\n",
    "        retval = [[0, 0]]\n",
    "        # The mismatch constraints depend on all variables.\n",
    "        for i in range(1, 8):\n",
    "            for j in range(dim):\n",
    "                retval.append([i, j])\n",
    "        # The throttle constraints only depend on the specific throttles (3).\n",
    "        for i in range(self.leg.nseg):\n",
    "            retval.append([8 + i, 3 * i + 1])\n",
    "            retval.append([8 + i, 3 * i + 2])\n",
    "            retval.append([8 + i, 3 * i + 3])\n",
    "        # We return the sparsity pattern\n",
    "        return retval\n",
    "\n",
    "    def get_nec(self):\n",
    "        return 7\n",
    "\n",
    "    def get_nic(self):\n",
    "        return self.leg.nseg\n",
    "    \n",
    "    def pretty(self, x):\n",
    "        self._set_leg_from_x(x)\n",
    "        print(self.leg)\n",
    "        \n",
    "    def plot(self, x, ax = None, units = pk.AU, show_midpoints=False,\n",
    "        show_gridpoints=False,\n",
    "        show_throttles=False,\n",
    "        length=0.1,\n",
    "        arrow_length_ratio=0.05,\n",
    "        **kwargs):\n",
    "        \n",
    "        self._set_leg_from_x(x)\n",
    "        sf = self.leg\n",
    "        # Making the axis\n",
    "        if ax is None:\n",
    "            ax = pk.plot.make_3Daxis(figsize = (7,7))\n",
    "\n",
    "        rs, _ = sf.rvs\n",
    "        rf, _ = sf.rvf\n",
    "        ax.scatter(rs[0]/pk.AU, rs[1]/units, rs[2]/units, c = 'k', s=20)\n",
    "        ax.scatter(rf[0]/pk.AU, rf[1]/units, rf[2]/units, c = 'k', s=20)\n",
    "\n",
    "        # Plotting the trajctory leg\n",
    "        ax = pk.plot.add_sf_leg(ax, sf, units=units, show_throttles=show_throttles, length=length, show_gridpoints=show_gridpoints, show_midpoints=show_midpoints, arrow_length_ratio=arrow_length_ratio, **kwargs)\n",
    "        \n",
    "        return ax\n",
    "\n",
    "\n"
   ]
  },
  {
   "cell_type": "code",
   "execution_count": 3,
   "metadata": {},
   "outputs": [],
   "source": [
    "# Problem data\n",
    "mu = pk.MU_SUN\n",
    "max_thrust = 0.12\n",
    "isp = 3000\n",
    "\n",
    "# Initial state\n",
    "ms = 1500.0\n",
    "rs = np.array([1, 0., -0.0]) * pk.AU\n",
    "vs = np.array([0.01, 1, -0.0]) * pk.EARTH_VELOCITY\n",
    "\n",
    "# Final state\n",
    "mf = 1300.0\n",
    "rf = np.array([-0.0, 1.0, 0.0]) * pk.AU\n",
    "vf = np.array([-1, -0, 0.01]) * pk.EARTH_VELOCITY\n",
    "\n",
    "# Throttles and tof\n",
    "nseg = 3\n",
    "throttles = np.random.uniform(-1, 1, size=(nseg * 3))\n",
    "tof = 2 * np.pi * np.sqrt(pk.AU**3 / pk.MU_SUN) / 4\n",
    "\n",
    "udp_nog = direct_point2point(\n",
    "    rvs=[rs, vs],\n",
    "    rvf=[rf, vf],\n",
    "    mu=pk.MU_SUN,\n",
    "    max_thrust=0.12,\n",
    "    isp=3000,\n",
    "    tof_bounds=[80, 200],\n",
    "    mf_bounds=[200.0, 1000.0],\n",
    "    nseg=nseg,\n",
    "    cut=0.6,\n",
    "    with_gradient=False,\n",
    ")\n",
    "\n",
    "udp_g = direct_point2point(\n",
    "    rvs=[rs, vs],\n",
    "    rvf=[rf, vf],\n",
    "    mu=pk.MU_SUN,\n",
    "    max_thrust=0.12,\n",
    "    isp=3000,\n",
    "    tof_bounds=[80, 200],\n",
    "    mf_bounds=[200.0, 1000.0],\n",
    "    nseg=nseg,\n",
    "    cut=0.6,\n",
    "    with_gradient=True,\n",
    ")"
   ]
  },
  {
   "cell_type": "code",
   "execution_count": 4,
   "metadata": {},
   "outputs": [],
   "source": [
    "snopt72 = \"/usr/local/lib/libsnopt7_c.so\"\n",
    "uda = ppnf.snopt7(library=snopt72, minor_version=2, screen_output=False)\n",
    "uda.set_integer_option(\"Major iterations limit\", 200)\n",
    "uda.set_integer_option(\"Iterations limit\", 20000)\n",
    "uda.set_numeric_option(\"Major optimality tolerance\", 1e-3)\n",
    "uda.set_numeric_option(\"Major feasibility tolerance\", 1e-12)\n",
    "algo = pg.algorithm(uda)"
   ]
  },
  {
   "cell_type": "code",
   "execution_count": 5,
   "metadata": {},
   "outputs": [
    {
     "name": "stdout",
     "output_type": "stream",
     "text": [
      "True\n"
     ]
    }
   ],
   "source": [
    "prob_nog = pg.problem(udp_nog)\n",
    "prob_nog.c_tol = 1e-8\n",
    "prob_g = pg.problem(udp_g)\n",
    "prob_g.c_tol = 1e-8\n",
    "pop_nog = pg.population(prob_nog, 1)\n",
    "pop_nog = algo.evolve(pop_nog)\n",
    "print(prob_nog.feasibility_f(pop_nog.champion_f))"
   ]
  },
  {
   "cell_type": "code",
   "execution_count": 7,
   "metadata": {},
   "outputs": [
    {
     "name": "stdout",
     "output_type": "stream",
     "text": [
      "Number of segments: 3\n",
      "Number of fwd segments: 1\n",
      "Number of bck segments: 2\n",
      "Maximum thrust: 0.12\n",
      "Central body gravitational parameter: 1.32712440018e+20\n",
      "Specific impulse: 3000\n",
      "\n",
      "Time of flight: 7915147.214074621\n",
      "Initial mass: 1000\n",
      "Final mass: 976.5227098306607\n",
      "State at departure: [[149597870700, 0, -0], [297.8469183169681, 29784.691831696804, -0]]\n",
      "State at arrival: [[-0, 149597870700, 0], [-29784.691831696804, 0, 297.8469183169681]]\n",
      "Throttles values: [-0.8542334875530178, -0.35892347885276005, -0.3761104692559768, -0.06892928029519925, 0.041899408279490194, 0.16228924067093015, 0.05013885345041663, 0.36055680373374666, 0.9313886873000529]\n",
      "\n",
      "Mismatch constraints: [0.0008392333984375, -0.0009918212890625, 4.264712333679199e-05, 1.964508555829525e-10, 3.637978807091713e-11, -2.9899638320785016e-11, -5.659217094944324e-09]\n",
      "Throttle constraints: [1.2710499319723567e-11, -0.9671553962662673, 1.7453349876461743e-10]\n",
      "\n",
      "\n"
     ]
    }
   ],
   "source": [
    "udp_nog.pretty(pop_nog.champion_x)"
   ]
  },
  {
   "cell_type": "code",
   "execution_count": 12,
   "metadata": {},
   "outputs": [
    {
     "name": "stderr",
     "output_type": "stream",
     "text": [
      " 28%|██▊       | 564/2000 [00:25<01:02, 23.13it/s]"
     ]
    }
   ],
   "source": [
    "from tqdm import tqdm\n",
    "cpu_nog = []\n",
    "cpu_g = []\n",
    "\n",
    "fail_g=0\n",
    "fail_nog=0\n",
    "\n",
    "for i in tqdm(range(2000)):\n",
    "    pop_nog = pg.population(prob_nog, 1)\n",
    "\n",
    "    pop_g = pg.population(prob_g)\n",
    "    pop_g.push_back(pop_nog.get_x()[0])\n",
    "\n",
    "    start = time.time()\n",
    "    pop_g = algo.evolve(pop_g)\n",
    "    end = time.time()\n",
    "    cpu_g.append(end-start)\n",
    "    if not prob_g.feasibility_f(pop_g.champion_f):\n",
    "        fail_g+=1\n",
    "\n",
    "    start = time.time()\n",
    "    pop_nog = algo.evolve(pop_nog)\n",
    "    end = time.time()\n",
    "    cpu_nog.append(end-start)\n",
    "    if not prob_nog.feasibility_f(pop_nog.champion_f):\n",
    "        fail_nog+=1\n",
    "\n",
    "print(f\"Gradient: {np.mean(cpu_g):.4e}s\")\n",
    "print(f\"No Gradient: {np.mean(cpu_nog):.4e}s\")\n",
    "\n",
    "print(f\"Gradient: {fail_g}\")\n",
    "print(f\"No Gradient: {fail_nog}\")"
   ]
  },
  {
   "cell_type": "code",
   "execution_count": 9,
   "metadata": {},
   "outputs": [
    {
     "data": {
      "text/plain": [
       "Text(0, 0.5, 'N. occurrences')"
      ]
     },
     "execution_count": 9,
     "metadata": {},
     "output_type": "execute_result"
    },
    {
     "data": {
      "image/png": "[encoded data removed]",
      "text/plain": [
       "<Figure size 640x480 with 1 Axes>"
      ]
     },
     "metadata": {},
     "output_type": "display_data"
    }
   ],
   "source": [
    "plt.hist(cpu_g, bins=50, label=\"gradient\", density=True)\n",
    "plt.hist(cpu_nog, bins=50, label=\"no_gradient\", density=True);\n",
    "plt.xlim([0,0.05])\n",
    "plt.legend()\n",
    "np.mean(cpu_g)\n",
    "plt.xlabel(\"CPU time\")\n",
    "plt.ylabel(\"N. occurrences\")\n",
    "\n"
   ]
  },
  {
   "cell_type": "code",
   "execution_count": 8,
   "metadata": {},
   "outputs": [
    {
     "data": {
      "image/png": "[encoded data removed]",
      "text/plain": [
       "<Figure size 700x700 with 1 Axes>"
      ]
     },
     "metadata": {},
     "output_type": "display_data"
    }
   ],
   "source": [
    "# Making the axis\n",
    "ax = pk.plot.make_3Daxis(figsize = (7,7))\n",
    "\n",
    "# Adding the Sun Earth and the boundary states\n",
    "udpla = pk.udpla.jpl_lp(body=\"EARTH\")\n",
    "earth = pk.planet(udpla)\n",
    "pk.plot.add_sun(ax, s=40)\n",
    "pk.plot.add_planet_orbit(ax, earth)\n",
    "ax.scatter(rs[0]/pk.AU, rs[1]/pk.AU, rs[2]/pk.AU, c = 'k', s=20)\n",
    "ax.scatter(rf[0]/pk.AU, rf[1]/pk.AU, rf[2]/pk.AU, c = 'k', s=20)\n",
    "\n",
    "# Plotting the trajctory leg\n",
    "udp_nog._set_leg_from_x(pop_nog.champion_x)\n",
    "sf = udp_nog.leg\n",
    "ax = pk.plot.add_sf_leg(ax, sf, units=pk.AU, show_throttles=True, length=0.4, show_midpoints=True, arrow_length_ratio=0.1)\n",
    "\n",
    "# Making the axis nicer\n",
    "D=1\n",
    "ax.set_xlim(-D,D)\n",
    "ax.set_ylim(-D/2,D*3/2)\n",
    "ax.view_init(90,0)\n",
    "ax.axis('off');\n"
   ]
  },
  {
   "cell_type": "code",
   "execution_count": 10,
   "metadata": {},
   "outputs": [
    {
     "data": {
      "text/plain": [
       "[[149597870700.0, 0.0, -0.0], [297.8469183169681, 29784.691831696804, -0.0]]"
      ]
     },
     "execution_count": 10,
     "metadata": {},
     "output_type": "execute_result"
    }
   ],
   "source": [
    "sf.rvs"
   ]
  }
 ],
 "metadata": {
  "kernelspec": {
   "display_name": "kep3_devel",
   "language": "python",
   "name": "python3"
  },
  "language_info": {
   "codemirror_mode": {
    "name": "ipython",
    "version": 3
   },
   "file_extension": ".py",
   "mimetype": "text/x-python",
   "name": "python",
   "nbconvert_exporter": "python",
   "pygments_lexer": "ipython3",
   "version": "3.11.9"
  },
  "orig_nbformat": 4
 },
 "nbformat": 4,
 "nbformat_minor": 2
}
