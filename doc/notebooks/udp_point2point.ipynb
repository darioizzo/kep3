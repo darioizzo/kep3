{
 "cells": [
  {
   "cell_type": "markdown",
   "metadata": {},
   "source": [
    "# Point to point low-thrust transfer"
   ]
  },
  {
   "cell_type": "code",
   "execution_count": 1,
   "metadata": {},
   "outputs": [],
   "source": [
    "import pykep as pk\n",
    "import numpy as np\n",
    "import time\n",
    "import pygmo as pg\n",
    "import pygmo_plugins_nonfree as ppnf\n",
    "\n",
    "from matplotlib import pyplot as plt"
   ]
  },
  {
   "cell_type": "code",
   "execution_count": 225,
   "metadata": {},
   "outputs": [],
   "source": [
    "class direct_point2point:\n",
    "    \"\"\"Represents a direct transcription of the optimal low-thrust transfer between two fixed points.\n",
    "\n",
    "    This problem works using a Sims-Flanagan leg and manipulating its transfer time T, final mass mf and the controls.\n",
    "\n",
    "    The decision vector is::\n",
    "\n",
    "        z = [mf, throttles, tof]\n",
    "\n",
    "    where throttles is a vector [u0x, u0y,u0z, ...]\n",
    "\n",
    "    \"\"\"\n",
    "\n",
    "    def __init__(\n",
    "        self,\n",
    "        rvs=[\n",
    "            np.array([1, 0.1, -0.1]) * pk.AU,\n",
    "            np.array([0.2, 1, -0.2]) * pk.EARTH_VELOCITY,\n",
    "        ],\n",
    "        rvf=[\n",
    "            np.array([-1.2, -0.1, 0.1]) * pk.AU,\n",
    "            np.array([0.2, -1.023, 0.44]) * pk.EARTH_VELOCITY,\n",
    "        ],\n",
    "        ms=1000,\n",
    "        mu=pk.MU_SUN,\n",
    "        max_thrust=0.12,\n",
    "        isp=3000,\n",
    "        tof_bounds=[80, 400],\n",
    "        mf_bounds=[200.0, 1000.0],\n",
    "        nseg=10,\n",
    "        cut=0.6,\n",
    "        mass_scaling = 1000\n",
    "    ):\n",
    "        # We add as data member one single Sims-Flanagan leg using the problem data\n",
    "        # and some temporary (and unused, thus irrelelvant) values for the to-be-optimzed parameters throttles, tof and mf.\n",
    "        throttles = np.random.uniform(-1, 1, size=(nseg * 3))\n",
    "        self.leg = pk.leg.sims_flanagan(\n",
    "            rvs=rvs,\n",
    "            ms=ms,\n",
    "            throttles=throttles,\n",
    "            rvf=rvf,\n",
    "            mf=np.mean(mf_bounds),\n",
    "            tof=np.mean(tof_bounds) * pk.DAY2SEC,\n",
    "            max_thrust=max_thrust,\n",
    "            isp=isp,\n",
    "            mu=mu,\n",
    "            cut=cut,\n",
    "            )\n",
    "        self.tof_bounds = tof_bounds\n",
    "        self.mf_bounds = mf_bounds\n",
    "        self.mass_scaling = mass_scaling\n",
    "\n",
    "    def get_bounds(self):\n",
    "        lb = [self.mf_bounds[0]] + [-1, -1, -1] * self.leg.nseg + [self.tof_bounds[0]]\n",
    "        ub = [self.mf_bounds[1]] + [1, 1, 1] * self.leg.nseg + [self.tof_bounds[1]]\n",
    "        return (lb, ub)\n",
    "\n",
    "    def _set_leg_from_x(self, x):\n",
    "        # We set the leg using data in the decision vector\n",
    "        self.leg.tof = x[-1] * pk.DAY2SEC\n",
    "        self.leg.mf = x[0]\n",
    "        self.leg.throttles = x[1:-1]\n",
    "\n",
    "    def fitness(self, x):\n",
    "        # 1 - We set the leg using data in the decision vector\n",
    "        self._set_leg_from_x(x)\n",
    "        obj = -x[0] / self.mass_scaling\n",
    "\n",
    "        # 2 - We compute the constraints violations (mismatch+throttle)\n",
    "        ceq = self.leg.compute_mismatch_constraints()\n",
    "        cineq = self.leg.compute_throttle_constraints()\n",
    "        retval = np.array([obj] + ceq + cineq)  # here we can sum lists\n",
    "\n",
    "        # 3 - We scale the values in nd units (numerical solvers are sensitive to well-scaled values)\n",
    "        retval[1:4] /= pk.AU\n",
    "        retval[4:7] /= pk.EARTH_VELOCITY\n",
    "        retval[7] /= self.mass_scaling\n",
    "\n",
    "        return retval\n",
    "\n",
    "    def gradientTMP(self, x):\n",
    "        self._set_leg_from_x(x)\n",
    "        mcg_xs, mcg_xf, mcg_th_tof = self.leg.compute_mc_grad()\n",
    "        tcg_th = self.leg.compute_tc_grad()\n",
    "        \n",
    "        # The gradient of the objective function (obj = -mf)\n",
    "        retval = [-1. / self.mass_scaling]\n",
    "        # The gradient of the mismatch contraints (mcg). We divide them in pos, vel mass as they have different scaling units\n",
    "        # pos\n",
    "        for i in range(3):\n",
    "            # First w.r.t. mf\n",
    "            retval.append(mcg_xf[i,-1] / pk.AU)\n",
    "            # Then the [throttles, tof]\n",
    "            retval.extend(mcg_th_tof[i,:] / pk.AU)\n",
    "            retval[-1] *= pk.DAY2SEC\n",
    "        # vel\n",
    "        for i in range(3,6):\n",
    "            # First w.r.t. mf\n",
    "            retval.append(mcg_xf[i,-1]/ pk.EARTH_VELOCITY)\n",
    "            # Then the [throttles, tof]\n",
    "            retval.extend(mcg_th_tof[i,:]/ pk.EARTH_VELOCITY)\n",
    "            retval[-1] *= pk.DAY2SEC\n",
    "        # mass\n",
    "        for i in range(6,7):\n",
    "            # First w.r.t. mf\n",
    "            retval.append(mcg_xf[i,-1] / self.mass_scaling)\n",
    "            # Then the [throttles, tof]\n",
    "            retval.extend(mcg_th_tof[i,:]/self.mass_scaling)\n",
    "            retval[-1] *= pk.DAY2SEC\n",
    "        \n",
    "        return retval\n",
    "    \n",
    "    def sparsity_pattern(self):\n",
    "        dim = 2 + 3 * self.leg.nseg\n",
    "        # The objective function only depends on the final mass, which is in the chromosome.\n",
    "        retval = [[0,0]]\n",
    "        # The mismatch constraints depend on all variables.\n",
    "        for i in range(1,8):\n",
    "            for j in range(dim):\n",
    "                retval.append([i, j])\n",
    "        # The throttle constraints only depend on the specific throttles (3).\n",
    "        for i in range(self.leg.nseg):\n",
    "            retval.append([8+i, 3*i+1])\n",
    "            retval.append([8+i, 3*i+2])\n",
    "            retval.append([8+i, 3*i+3])\n",
    "        # We return the sparsity pattern\n",
    "        return retval\n",
    "        \n",
    "    def get_nec(self):\n",
    "        return 7\n",
    "\n",
    "    def get_nic(self):\n",
    "        return self.leg.nseg\n",
    "    \n",
    "udp = direct_point2point(\n",
    "    rvs=[rs, vs],\n",
    "    rvf=[rf, vf],\n",
    "    mu=pk.MU_SUN,\n",
    "    max_thrust=0.12,\n",
    "    isp=3000,\n",
    "    tof_bounds=[80, 200],\n",
    "    mf_bounds=[200.0, 1000.0],\n",
    "    nseg=nseg,\n",
    "    cut=0.6,\n",
    ")\n",
    "x = pg.population(prob, 1).get_x()[0]\n",
    "\n"
   ]
  },
  {
   "cell_type": "code",
   "execution_count": 226,
   "metadata": {},
   "outputs": [
    {
     "data": {
      "text/plain": [
       "[-1.4694721245265518e-05,\n",
       " 0.006813221805208961,\n",
       " 0.00024430842703371714,\n",
       " 4.925681352913288e-07,\n",
       " -0.01311342691525777,\n",
       " -0.0005014600058762055,\n",
       " -7.176711271919772e-07,\n",
       " -0.012056461006290039,\n",
       " 1.0223476528838442e-05,\n",
       " 0.0002459535545847036,\n",
       " 0.0066233232757768315,\n",
       " 3.6692385943127215e-07,\n",
       " -0.0004978984473423457,\n",
       " -0.013475900194643495]"
      ]
     },
     "execution_count": 226,
     "metadata": {},
     "output_type": "execute_result"
    }
   ],
   "source": [
    "udp.gradientTMP(x)[1:15]"
   ]
  },
  {
   "cell_type": "code",
   "execution_count": 227,
   "metadata": {},
   "outputs": [
    {
     "data": {
      "text/plain": [
       "array([ 1.46947212e-05,  6.81322181e-03,  2.44308427e-04,  4.92568139e-07,\n",
       "       -1.31134269e-02, -5.01460006e-04, -7.17671120e-07, -1.20564610e-02,\n",
       "       -1.02234765e-05,  2.45953555e-04,  6.62332328e-03,  3.66923860e-07,\n",
       "       -4.97898447e-04, -1.34759002e-02, -9.38387522e-07,  1.22893180e-02,\n",
       "        4.30503734e-06,  5.01568579e-07,  3.70761390e-07,  6.45138920e-03,\n",
       "       -7.25251065e-07, -9.56086319e-07, -1.27542482e-02,  2.88265433e-06,\n",
       "       -3.48545582e-05,  1.75302490e-02,  1.88221314e-03,  4.60277248e-06,\n",
       "        3.29808297e-02,  3.88879645e-03,  7.60535628e-06, -1.17575587e-02,\n",
       "        2.33262850e-05,  1.90636474e-03,  1.66101347e-02,  3.87551494e-06,\n",
       "        3.83641005e-03,  3.46299510e-02,  8.75315844e-06, -1.20734686e-02,\n",
       "       -1.00550366e-05,  4.73490516e-06,  3.93185252e-06,  1.50889482e-02,\n",
       "        7.71684839e-06,  9.01348745e-06,  2.97849419e-02,  9.27052114e-05,\n",
       "       -9.99709368e-04, -1.50740597e-02,  2.55059386e-03, -5.64533104e-03,\n",
       "       -1.35506791e-02,  9.43088628e-03, -3.97304270e-03, -3.10933867e-04,\n",
       "        0.00000000e+00,  1.91521373e+00, -3.24062161e-01,  7.17259696e-01,\n",
       "        0.00000000e+00,  0.00000000e+00,  0.00000000e+00,  0.00000000e+00,\n",
       "        0.00000000e+00,  0.00000000e+00,  0.00000000e+00,  0.00000000e+00,\n",
       "        1.16387585e+00, -8.10024404e-01,  3.41246989e-01,  0.00000000e+00])"
      ]
     },
     "execution_count": 227,
     "metadata": {},
     "output_type": "execute_result"
    }
   ],
   "source": [
    "pg.estimate_gradient_h(udp.fitness, x)[8:]"
   ]
  },
  {
   "cell_type": "code",
   "execution_count": 203,
   "metadata": {},
   "outputs": [
    {
     "data": {
      "text/plain": [
       "0.00013955916376220278"
      ]
     },
     "execution_count": 203,
     "metadata": {},
     "output_type": "execute_result"
    }
   ],
   "source": [
    "udp._set_leg_from_x(x)\n",
    "mcg_xs, mcg_xf, mcg_th_tof = udp.leg.compute_mc_grad()\n",
    "mcg_xf[1,-1]/pk.AU\n"
   ]
  },
  {
   "cell_type": "code",
   "execution_count": 207,
   "metadata": {},
   "outputs": [],
   "source": [
    "# Problem data\n",
    "mu = pk.MU_SUN\n",
    "max_thrust = 0.12\n",
    "isp = 3000\n",
    "\n",
    "# Initial state\n",
    "ms = 1500.0\n",
    "rs = np.array([1, 0., -0.0]) * pk.AU\n",
    "vs = np.array([0.01, 1, -0.0]) * pk.EARTH_VELOCITY\n",
    "\n",
    "# Final state\n",
    "mf = 1300.0\n",
    "rf = np.array([-0.0, 1.0, 0.0]) * pk.AU\n",
    "vf = np.array([-1, -0, 0]) * pk.EARTH_VELOCITY\n",
    "\n",
    "# Throttles and tof\n",
    "nseg = 2\n",
    "throttles = np.random.uniform(-1, 1, size=(nseg * 3))\n",
    "tof = 2 * np.pi * np.sqrt(pk.AU**3 / pk.MU_SUN) / 4\n",
    "\n",
    "sf = pk.leg.sims_flanagan(\n",
    "    rvs=[rs, vs],\n",
    "    ms=ms,\n",
    "    throttles=throttles,\n",
    "    rvf=[rf, vf],\n",
    "    mf=mf,\n",
    "    tof=tof,\n",
    "    max_thrust=max_thrust,\n",
    "    isp=isp,\n",
    "    mu=mu,\n",
    "    cut=0.6,\n",
    ")\n",
    "udp = direct_point2point(\n",
    "    rvs=[rs, vs],\n",
    "    rvf=[rf, vf],\n",
    "    mu=pk.MU_SUN,\n",
    "    max_thrust=0.12,\n",
    "    isp=3000,\n",
    "    tof_bounds=[80, 200],\n",
    "    mf_bounds=[200.0, 1000.0],\n",
    "    nseg=nseg,\n",
    "    cut=0.6,\n",
    ")"
   ]
  },
  {
   "cell_type": "code",
   "execution_count": 209,
   "metadata": {},
   "outputs": [],
   "source": [
    "snopt72 = \"/usr/local/lib/libsnopt7_c.so\"\n",
    "uda = ppnf.snopt7(library=snopt72, minor_version=2, screen_output=True)\n",
    "uda.set_integer_option(\"Major iterations limit\", 700)\n",
    "uda.set_integer_option(\"Iterations limit\", 20000)\n",
    "uda.set_numeric_option(\"Major optimality tolerance\", 1e-3)\n",
    "uda.set_numeric_option(\"Major feasibility tolerance\", 1e-9)\n",
    "algo = pg.algorithm(uda)"
   ]
  },
  {
   "cell_type": "code",
   "execution_count": 211,
   "metadata": {},
   "outputs": [
    {
     "name": "stdout",
     "output_type": "stream",
     "text": [
      " ==============================\n",
      "   SNOPT  C interface  2.0.0   \n",
      " ==============================\n",
      " S N O P T  7.2-4    (Jun 2006)\n",
      " ==============================\n",
      " \n",
      " SNMEMA EXIT 100 -- finished successfully\n",
      " SNMEMA INFO 104 -- memory requirements estimated\n",
      " \n",
      "\n",
      " Nonlinear constraints       9     Linear constraints       0\n",
      " Nonlinear variables         8     Linear variables         0\n",
      " Jacobian  variables         8     Objective variables      8\n",
      " Total constraints           9     Total variables          8\n",
      " \n",
      "\n",
      " \n",
      " The user has defined       0   out of      80   first  derivatives\n",
      " \n",
      "\n",
      " Major Minors     Step   nCon Feasible  Optimal  MeritFunction    nS Penalty\n",
      "     0     10               1  3.0E-03  1.9E+00  4.4281307E+04                 r i\n",
      "     1     12  7.3E-03      2  3.0E-03  6.1E-01  4.3958919E+04     2         n rli\n",
      "     2      1  3.4E-01      4  2.9E-03  4.0E-01  4.0784665E+04     2         n rli\n",
      "     3      4  1.0E+00      6  3.2E-03  3.8E-02  3.3622881E+04     3         n r i\n",
      "     4     14  1.0E+00      8  2.1E-03  1.3E+00  2.7226988E+04     2         sm  i\n",
      "     5     20  1.0E+00     10  8.9E-04  2.8E-02  2.4698458E+03     2          m  i\n",
      "     6      2  1.0E+00     12  8.7E-04  1.3E-02  2.4900716E+03     1 3.5E+04  m  i\n",
      "     7      7  1.0E+00     14  8.4E-04  3.2E-02  2.4509449E+03     1 7.5E+06  m  i\n",
      "     8      7  1.0E+00     16  5.5E-04  1.0E-01  1.2812529E+03     1 3.6E+03  m  i\n",
      "     9      4  1.0E+00     18  1.7E-03  2.1E-02  8.8880465E+01     1 1.2E+02  m  i\n",
      "\n",
      " Major Minors     Step   nCon Feasible  Optimal  MeritFunction    nS Penalty\n",
      "    10      3  1.0E+00     19  4.2E-04  9.9E-03  7.5243681E+01       1.5E+02\n",
      "    11      0  1.0E+00     20  7.3E-05  2.8E-02 -6.7639996E-01       3.3E+01\n",
      "    12      1  1.0E+00     21  5.6E-07  1.4E-02 -9.7255476E-01     1 3.3E+01\n",
      "    13      1  1.0E+00     22 (4.2E-10) 1.6E-02 -9.7275294E-01     1 3.3E+01\n",
      "    14      1  6.7E-02     23  1.3E-07  6.6E-03 -9.7410775E-01     1 3.3E+01\n",
      "    15      1  7.2E-02     24  2.6E-07  5.6E-03 -9.7532076E-01     1 3.3E+01\n",
      "    16      1  8.2E-02     25  3.7E-07  4.7E-03 -9.7639079E-01     1 3.3E+01\n",
      "    17      1  9.1E-02     26  4.6E-07  4.0E-03 -9.7732654E-01     1 3.3E+01\n",
      "    18      1  1.0E-01     27  5.3E-07  3.7E-03 -9.7813750E-01     1 3.3E+01\n",
      "    19      1  1.1E-01     28  5.8E-07  3.6E-03 -9.7883376E-01     1 3.3E+01\n",
      "\n",
      " Major Minors     Step   nCon Feasible  Optimal  MeritFunction    nS Penalty\n",
      "    20      1  1.2E-01     29  6.2E-07  3.4E-03 -9.7942573E-01     1 3.3E+01\n",
      "    21      1  1.3E-01     30  6.3E-07  3.1E-03 -9.7992370E-01     1 3.3E+01\n",
      "    22      1  1.4E-01     31  6.2E-07  2.8E-03 -9.8033741E-01     1 3.3E+01\n",
      "    23      1  1.5E-01     32  6.0E-07  2.4E-03 -9.8067570E-01     1 3.3E+01\n",
      "    24      1  1.7E-01     33  5.7E-07  1.9E-03 -9.8094624E-01     1 3.3E+01\n",
      "    25      1  2.0E-01     34  5.2E-07  1.5E-03 -9.8115537E-01     1 3.3E+01\n",
      "    26      1  1.3E-01     35  4.7E-07  1.1E-03 -9.8124091E-01     1 3.3E+01\n",
      "    27      1  1.7E-01     36  4.1E-07 (9.4E-04)-9.8131835E-01     1 3.3E+01\n",
      "    28      1  1.4E-01     37  3.6E-07 (8.0E-04)-9.8136073E-01     1 3.3E+01\n",
      "    29      1  2.0E-01     38  3.0E-07 (6.4E-04)-9.8140057E-01     1 3.3E+01\n",
      "\n",
      " Major Minors     Step   nCon Feasible  Optimal  MeritFunction    nS Penalty\n",
      "    30      1  2.4E-01     39  2.4E-07 (4.8E-04)-9.8142918E-01     1 3.3E+01\n",
      "    31      1  3.9E-01     40  1.6E-07 (2.8E-04)-9.8145158E-01     1 3.3E+01\n",
      "    32      1  1.0E+00     41  3.4E-08 (3.2E-05)-9.8146287E-01     1 3.3E+01\n",
      "    33      1  1.0E+00     42 (1.6E-10)(1.5E-06)-9.8146293E-01     1 3.3E+01\n",
      " \n",
      " SNOPTA EXIT   0 -- finished successfully\n",
      " SNOPTA INFO   1 -- optimality conditions satisfied\n",
      "\n",
      " Problem name                 <class '\n",
      " No. of iterations                 106   Objective value     -9.8146298656E-01\n",
      " No. of major iterations            33   Linear objective     0.0000000000E+00\n",
      " Penalty parameter           3.270E+01   Nonlinear objective -9.8146298656E-01\n",
      " No. of calls to funobj            486   No. of calls to funcon            486\n",
      " Calls with modes 1,2 (known g)     42   Calls with modes 1,2 (known g)     42\n",
      " Calls for forward differencing    336   Calls for forward differencing    336\n",
      " Calls for central differencing      0   Calls for central differencing      0\n",
      " No. of superbasics                  1   No. of basic nonlinears             7\n",
      " No. of degenerate steps             0   Percentage                       0.00\n",
      " Max x                       1 9.8E+02   Max pi                      1 1.6E+00\n",
      " Max Primal infeas           0 0.0E+00   Max Dual infeas             3 3.7E-06\n",
      " Nonlinear constraint violn    5.9E-08\n",
      "\n",
      " Solution not printed\n",
      " \n",
      " Time for MPS input                             0.00 seconds\n",
      " Time for solving problem                      -0.00 seconds\n",
      " Time for solution output                       0.00 seconds\n",
      " Time for constraint functions         ************* seconds\n",
      " Time for objective function                    0.00 seconds\n"
     ]
    }
   ],
   "source": [
    "prob = pg.problem(udp)\n",
    "pop = pg.population(prob, 1)\n",
    "pop = algo.evolve(pop)"
   ]
  },
  {
   "cell_type": "code",
   "execution_count": 164,
   "metadata": {},
   "outputs": [
    {
     "data": {
      "text/plain": [
       "array([-0.58381587,  0.13544511, -0.08880357, -0.00328173,  0.10637389,\n",
       "        0.13912857,  0.00177073,  0.38522962,  0.44054429,  0.77396517,\n",
       "       -0.13554324, -0.02249726, -0.25650703])"
      ]
     },
     "execution_count": 164,
     "metadata": {},
     "output_type": "execute_result"
    }
   ],
   "source": [
    "pop.get_f()[0]"
   ]
  },
  {
   "cell_type": "code",
   "execution_count": 63,
   "metadata": {},
   "outputs": [
    {
     "data": {
      "text/plain": [
       "91.3125"
      ]
     },
     "execution_count": 63,
     "metadata": {},
     "output_type": "execute_result"
    }
   ],
   "source": [
    "365.25/4"
   ]
  },
  {
   "cell_type": "code",
   "execution_count": null,
   "metadata": {},
   "outputs": [],
   "source": []
  }
 ],
 "metadata": {
  "kernelspec": {
   "display_name": "kep3_devel",
   "language": "python",
   "name": "python3"
  },
  "language_info": {
   "codemirror_mode": {
    "name": "ipython",
    "version": 3
   },
   "file_extension": ".py",
   "mimetype": "text/x-python",
   "name": "python",
   "nbconvert_exporter": "python",
   "pygments_lexer": "ipython3",
   "version": "3.11.9"
  },
  "orig_nbformat": 4
 },
 "nbformat": 4,
 "nbformat_minor": 2
}
