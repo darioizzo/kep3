{
 "cells": [
  {
   "cell_type": "markdown",
   "metadata": {},
   "source": [
    "# Planet to planet low-thrust transfer\n",
    "\n",
    "In this tutorial we show the use of the {class}`pykep.trajopt.direct_pl2pl` to find a low-thrust trajectory connecting two moving planets. \n",
    "\n",
    "The decision vector for this class, compatible with {cite:p}`pagmo` UDPs (User Defined Problems), is:\n",
    "\n",
    "$$\n",
    "\\mathbf x = [t_0, m_f, V_{sx}^\\infty, V^\\infty_{sy}, V^\\infty_{sz}, V^\\infty_{fx}, V^\\infty_{fy}, V^\\infty_{fz}, u_{x0}, u_{y0}, u_{z0}, u_{x1}, u_{y1}, u_{z1}, ..., T_{tof}]\n",
    "$$\n",
    "\n",
    "containing the starting epoch $t_0$ as a MJD2000, the final mass $m_f$ as well as the starting and final $V^{\\infty}$, throttles and the time-of-flight $T_{tof}$.\n",
    "\n",
    ":::{note}\n",
    "This notebook makes use of the commercial solver SNOPT 7 and to run needs a valid `snopt_7_c` library installed in the system. In case SNOPT7 is not available, you can still run the notebook using, for example `uda = pg.algorithm.nlopt(\"slsqp\")` with minor modifications.\n",
    "\n",
    "Basic imports:"
   ]
  },
  {
   "cell_type": "code",
   "execution_count": 7,
   "metadata": {},
   "outputs": [],
   "source": [
    "import pykep as _pk\n",
    "import numpy as _np\n",
    "import time\n",
    "import pygmo as pg\n",
    "import pygmo_plugins_nonfree as ppnf\n",
    "import time\n",
    "\n",
    "from matplotlib import pyplot as plt"
   ]
  },
  {
   "cell_type": "code",
   "execution_count": 61,
   "metadata": {},
   "outputs": [],
   "source": [
    "import numpy as _np\n",
    "import pykep as _pk\n",
    "\n",
    "earth = _pk.planet_to_keplerian(_pk.planet(_pk.udpla.jpl_lp(body=\"EARTH\")), when=_pk.epoch(5000))\n",
    "mars = _pk.planet_to_keplerian(_pk.planet(_pk.udpla.jpl_lp(body=\"MARS\")), when=_pk.epoch(5000))\n",
    "\n",
    "\n",
    "class direct_pl2pl:\n",
    "    \"\"\"Represents the optimal low-thrust transfer between two :class:`~pykep.planet` using a direct method.\n",
    "\n",
    "    This problem works internally using the :class:`~pykep.leg.sims_flanagan` and manipulates its initial and final states, as well as its transfer time T, final mass mf\n",
    "    and the controls as to link the two planets with a low-thrust trajectory.\n",
    "\n",
    "    The particular transcription used is suitable only for few revolutions, after which convergence will start to be problematic.\n",
    "\n",
    "    The decision vector is::\n",
    "\n",
    "        z = [t0, mf, Vsx, Vsy, Vsz, Vfx, Vfy, Vfz, throttles, tof]\n",
    "\n",
    "    where throttles is a vector of throttles structured as [u0x, u0y,u0z, ...]. By throttles we intend non dimensiona thrust levels in [0,1].\n",
    "\n",
    "    \"\"\"\n",
    "\n",
    "    def __init__(\n",
    "        self,\n",
    "        pls=earth,\n",
    "        plf=mars,\n",
    "        ms=1000,\n",
    "        mu=_pk.MU_SUN,\n",
    "        max_thrust=0.12,\n",
    "        isp=3000,\n",
    "        t0_bounds=[4000.0, 5000],\n",
    "        tof_bounds=[80, 400],\n",
    "        mf_bounds=[200.0, 1000.0],\n",
    "        vinfs=1e-3,\n",
    "        vinff=1e-3,\n",
    "        nseg=10,\n",
    "        cut=0.6,\n",
    "        mass_scaling=1000,\n",
    "        r_scaling=_pk.AU,\n",
    "        v_scaling=_pk.EARTH_VELOCITY,\n",
    "        with_gradient=True,\n",
    "    ):\n",
    "        \"\"\"\n",
    "        Initializes the direct_pl2pl instance with given parameters.\n",
    "\n",
    "        Args:\n",
    "            *pls* (:class:`~pykep.planet`): Initial planet.\n",
    "\n",
    "            *plf* (:class:`~pykep.planet`): Final planet.\n",
    "\n",
    "            *ms* (:class:`float`): Initial spacecraft mass in kg. Defaults to 1000 kg.\n",
    "\n",
    "            *mu* (:class:`float`): Gravitational parameter, default is for the Sun (:class:`~pykep.MU_SUN`).\n",
    "\n",
    "            *max_thrust* (:class:`float`): Maximum thrust in Newtons. Defaults to 0.12 N.\n",
    "\n",
    "            *isp* (:class:`float`): Specific impulse in seconds. Defaults to 3000 s.\n",
    "\n",
    "            *t0_bounds* (:class:`list`): Bounds for departure epoch in MJD2000. Defaults to [4000, 5000] days.\n",
    "\n",
    "            *tof_bounds* (:class:`list`): Bounds for time of flight in days. Defaults to [0, 400] days.\n",
    "\n",
    "            *mf_bounds* (:class:`list`): Bounds for final mass in kg. Defaults to [200.0, 1000.0] kg.\n",
    "\n",
    "            *vinfs* (:class:`float`): Allowed magnitude for the departure's relative velocity in km/s. Defaults to 1e-3.\n",
    "\n",
    "            *vinff* (:class:`float`): Allowed magnitude for the arrival's relative velocity in km/s. Defaults to 1e-3.\n",
    "\n",
    "            *nseg* (:class:`int`): Number of segments for the trajectory. Defaults to 10.\n",
    "\n",
    "            *cut* (:class:`float`): Cut parameter for the :class:`~pykep.leg.sims_flanagan`. Defaults to 0.6.\n",
    "\n",
    "            *mass_scaling* (:class:`float`): Scaling factor for mass (used to scale constraints). Defaults to 1000.\n",
    "\n",
    "            *r_scaling* (:class:`float`): Scaling factor for distance, (used to scale constraints). Defaults AU (:class:`~pykep.AU`).\n",
    "\n",
    "            *v_scaling* (:class:`float`): Scaling factor for velocity (used to scale constraints). Defaults the Earth's velocity (:class:`~pykep.EARTH_VELOCITY`).\n",
    "\n",
    "            *with_gradient* (:class:`bool`): Indicates if gradient information should be used. Defaults True.\n",
    "\n",
    "        \"\"\"\n",
    "        # We add as data member one single Sims-Flanagan leg and set it using problem data\n",
    "        self.leg = _pk.leg.sims_flanagan()\n",
    "        self.leg.ms = ms\n",
    "        self.leg.max_thrust = max_thrust\n",
    "        self.leg.isp = isp\n",
    "        self.leg.mu = mu\n",
    "        self.leg.cut = cut\n",
    "\n",
    "        # We define some additional datamembers useful later-on\n",
    "        self.pls = pls\n",
    "        self.plf = plf\n",
    "        self.t0_bounds = t0_bounds\n",
    "        self.tof_bounds = tof_bounds\n",
    "        self.mf_bounds = mf_bounds\n",
    "        self.vinfs = vinfs * 1000\n",
    "        self.vinff = vinff * 1000\n",
    "        self.nseg = nseg\n",
    "        self.mass_scaling = mass_scaling\n",
    "        self.r_scaling = r_scaling\n",
    "        self.v_scaling = v_scaling\n",
    "        self.with_gradient = with_gradient\n",
    "\n",
    "    # z = [t0, mf, Vsx, Vsy, Vsz, Vfx, Vfy, Vfz, throttles, tof]\n",
    "    def get_bounds(self):\n",
    "        lb = (\n",
    "            [self.t0_bounds[0], self.mf_bounds[0]]\n",
    "            + [-self.vinfs] * 3  # in m/s.\n",
    "            + [-self.vinff] * 3  # in m/s.\n",
    "            + [-1, -1, -1] * self.nseg\n",
    "            + [self.tof_bounds[0]]\n",
    "        )\n",
    "        ub = (\n",
    "            [self.t0_bounds[1], self.mf_bounds[1]]\n",
    "            + [self.vinfs] * 3  # in m/s.\n",
    "            + [self.vinff] * 3  # in m/s.\n",
    "            + [1, 1, 1] * self.nseg\n",
    "            + [self.tof_bounds[1]]\n",
    "        )\n",
    "        return (lb, ub)\n",
    "\n",
    "    def _set_leg_from_x(self, x):\n",
    "        # We set the leg using data in the decision vector\n",
    "        rs, vs = self.pls.eph(x[0])\n",
    "        rf, vf = self.plf.eph(x[0] + x[-1])\n",
    "        self.leg.rvs = [rs, [a + b for a, b in zip(vs, x[2:5])]]  # we added vinfs\n",
    "        self.leg.rvf = [rf, [a + b for a, b in zip(vf, x[5:8])]]  # we added vinfs\n",
    "        self.leg.tof = x[-1] * _pk.DAY2SEC\n",
    "        self.leg.mf = x[1]\n",
    "        self.leg.throttles = x[8:-1]\n",
    "\n",
    "    # z = [t0, mf, Vsx, Vsy, Vsz, Vfx, Vfy, Vfz, throttles, tof]\n",
    "    def fitness(self, x):\n",
    "        # 1 - We set the optimality principle\n",
    "        mf = x[1]\n",
    "\n",
    "        # 2 - We compute the constraints violations (mismatch+throttle)\n",
    "        self._set_leg_from_x(x)  # set the leg\n",
    "        ceq = self.leg.compute_mismatch_constraints()\n",
    "        cineq = self.leg.compute_throttle_constraints()\n",
    "        # We add the departure vinfs constraint (quadratic)\n",
    "        cineq = cineq + [\n",
    "            (x[2] ** 2 + x[3] ** 2 + x[4] ** 2 - self.vinfs**2) / (self.v_scaling**2)\n",
    "        ]\n",
    "        # We add the departure vinff constraint (quadratic)\n",
    "        cineq = cineq + [\n",
    "            (x[5] ** 2 + x[6] ** 2 + x[7] ** 2 - self.vinff**2) / (self.v_scaling**2)\n",
    "        ]\n",
    "        retval = _np.array([-mf] + ceq + cineq)  # here we can sum lists\n",
    "\n",
    "        # 3 - We scale the values in nd units (numerical solvers are sensitive to well-scaled values)\n",
    "        retval[0] /= self.mass_scaling\n",
    "        retval[1:4] /= self.r_scaling\n",
    "        retval[4:7] /= self.v_scaling\n",
    "        retval[7] /= self.mass_scaling\n",
    "\n",
    "        return retval\n",
    "\n",
    "    # def has_gradient(self):\n",
    "    #    return self.with_gradient\n",
    "\n",
    "    def gradient(self, x):\n",
    "        self._set_leg_from_x(x)\n",
    "        mcg_xs, mcg_xf, mcg_th_tof = self.leg.compute_mc_grad()\n",
    "        tcg_th = self.leg.compute_tc_grad()\n",
    "        rs, vs = self.pls.eph(x[0])\n",
    "        rf, vf = self.plf.eph(x[0] + x[-1])\n",
    "\n",
    "        # 1 - The gradient of the objective function (obj = -mf)\n",
    "        retval = [-1.0 / self.mass_scaling]\n",
    "        # 2 - The gradient of the mismatch contraints (mcg). We divide them in pos, vel mass as they have different scaling units\n",
    "\n",
    "        ## pos\n",
    "        for i in range(3):\n",
    "            # First w.r.t. t0 (it is in days in the decision vector, so we will need to convert)\n",
    "            tmp = (\n",
    "                +_np.dot(mcg_xs[i, :3], vs)\n",
    "                - _np.dot(mcg_xs[i, 3:6], rs) * self.leg.mu / (_np.linalg.norm(rs) ** 3) \n",
    "                + _np.dot(mcg_xf[i, :3], vf)\n",
    "                - _np.dot(mcg_xf[i, 3:6], rf) * self.leg.mu / (_np.linalg.norm(rf) ** 3)\n",
    "            )\n",
    "            retval.append(tmp  / self.r_scaling / _pk.SEC2DAY)\n",
    "            ## First w.r.t. mf\n",
    "            # retval.append(mcg_xf[i, -1] / self.r_scaling)\n",
    "            ## Then the [throttles, tof]\n",
    "            # retval.extend(mcg_th_tof[i, :] / self.r_scaling)\n",
    "            # retval[-1] *= _pk.DAY2SEC\n",
    "        ## vel\n",
    "        # for i in range(3, 6):\n",
    "        #    # First w.r.t. mf\n",
    "        #    retval.append(mcg_xf[i, -1] / self.v_scaling)\n",
    "        #    # Then the [throttles, tof]\n",
    "        #    retval.extend(mcg_th_tof[i, :] / self.v_scaling)\n",
    "        #    retval[-1] *= _pk.DAY2SEC\n",
    "        ## mass\n",
    "        # for i in range(6, 7):\n",
    "        #    # First w.r.t. mf\n",
    "        #    retval.append(mcg_xf[i, -1] / self.mass_scaling)\n",
    "        #    # Then the [throttles, tof]\n",
    "        #    retval.extend(mcg_th_tof[i, :] / self.mass_scaling)\n",
    "        #    retval[-1] *= _pk.DAY2SEC\n",
    "        ## 3 -  The gradient of the throttle constraints\n",
    "        # for i in range(self.leg.nseg):\n",
    "        #    retval.extend(tcg_th[i, 3 * i : 3 * i + 3])\n",
    "\n",
    "        return retval\n",
    "\n",
    "    def gradient_sparsity(self):\n",
    "        dim = 9 + 3 * self.nseg\n",
    "        # The objective function only depends on the final mass, which is in the chromosome.\n",
    "        retval = [[0, 1]]\n",
    "        # The mismatch constraints on x,y,z,vx,vy,vz depend on all variables.\n",
    "        for i in range(1, 7):\n",
    "            for j in range(dim):\n",
    "                retval.append([i, j])\n",
    "        # The mismatch constraints on m depend on all variables except the vinfs, vinff, t0\n",
    "        retval.append([7, 1])\n",
    "        for j in range(8, dim):\n",
    "            retval.append([7, j])\n",
    "        # The throttle constraints only depend on the specific throttles (3).\n",
    "        for i in range(self.nseg):\n",
    "            retval.append([8 + i, 3 * i + 8])\n",
    "            retval.append([8 + i, 3 * i + 9])\n",
    "            retval.append([8 + i, 3 * i + 10])\n",
    "        # The constraints on vinfs, vinff only depend on the vinfs, vinff\n",
    "        for j in range(2, 5):\n",
    "            retval.append([8 + self.nseg, j])\n",
    "        for j in range(5, 8):\n",
    "            retval.append([9 + self.nseg, j])\n",
    "        # We return the sparsity pattern\n",
    "        return retval\n",
    "\n",
    "    def get_nec(self):\n",
    "        return 7\n",
    "\n",
    "    def get_nic(self):\n",
    "        return self.nseg + 2\n",
    "\n",
    "    def pretty(self, x):\n",
    "        \"\"\"\n",
    "        Prints a detailed representation of the Point to point problem.\n",
    "\n",
    "        Args:\n",
    "            *x* (:class:`list`): The decision vector containing final mass, thrust direction, and time of flight.\n",
    "        \"\"\"\n",
    "        self._set_leg_from_x(x)\n",
    "        print(self.leg)\n",
    "\n",
    "    def plot(\n",
    "        self,\n",
    "        x,\n",
    "        ax=None,\n",
    "        units=_pk.AU,\n",
    "        show_midpoints=False,\n",
    "        show_gridpoints=False,\n",
    "        show_throttles=False,\n",
    "        length=0.1,\n",
    "        arrow_length_ratio=0.05,\n",
    "        **kwargs\n",
    "    ):\n",
    "        \"\"\"\n",
    "        Plots the trajectory leg  3D axes.\n",
    "        Args:\n",
    "            *x* (:class:`list`): The decision vector containing final mass, thrust direction, and time of flight.\n",
    "            *ax* (:class:`mpl_toolkits.mplot3d.axes3d.Axes3D`, optional): The 3D axis to plot on. Defaults to None.\n",
    "            *units* (:class:`float`, optional): The unit scale for the plot. Defaults to _pk.AU.\n",
    "            *show_midpoints* (:class:`bool`, optional): Whether to show midpoints on the trajectory. Defaults to False.\n",
    "            *show_gridpoints* (:class:`bool`, optional): Whether to show grid points on the trajectory. Defaults to False.\n",
    "            *show_throttles* (:class:`bool`, optional): Whether to show throttle vectors. Defaults to False.\n",
    "            *length* (:class:`float`, optional): Length of the throttle vectors. Defaults to 0.1.\n",
    "            *arrow_length_ratio* (:class:`float`, optional): Arrow length ratio for the throttle vectors. Defaults to 0.05.\n",
    "            *\\*\\*kwargs*: Additional keyword arguments for the plot.\n",
    "        Returns:\n",
    "            :class:`mpl_toolkits.mplot3d.axes3d.Axes3D`: The 3D axis with the plotted trajectory.\n",
    "        \"\"\"\n",
    "        self._set_leg_from_x(x)\n",
    "        sf = self.leg\n",
    "        # Making the axis\n",
    "        if ax is None:\n",
    "            ax = _pk.plot.make_3Daxis(figsize=(7, 7))\n",
    "        rs, _ = sf.rvs\n",
    "        rf, _ = sf.rvf\n",
    "        ax.scatter(rs[0] / _pk.AU, rs[1] / units, rs[2] / units, c=\"k\", s=20)\n",
    "        ax.scatter(rf[0] / _pk.AU, rf[1] / units, rf[2] / units, c=\"k\", s=20)\n",
    "\n",
    "        # Plotting planets\n",
    "        ax = _pk.plot.add_planet(ax, self.pls, when=x[0])\n",
    "        ax = _pk.plot.add_planet_orbit(ax, self.pls, c=\"gray\", alpha=0.5)\n",
    "        ax = _pk.plot.add_planet(ax, self.plf, when=x[0] + x[-1])\n",
    "        ax = _pk.plot.add_planet_orbit(ax, self.plf, c=\"gray\", alpha=0.5)\n",
    "\n",
    "        # Plotting the trajctory leg\n",
    "        ax = _pk.plot.add_sf_leg(\n",
    "            ax,\n",
    "            sf,\n",
    "            units=units,\n",
    "            show_throttles=show_throttles,\n",
    "            length=length,\n",
    "            show_gridpoints=show_gridpoints,\n",
    "            show_midpoints=show_midpoints,\n",
    "            arrow_length_ratio=arrow_length_ratio,\n",
    "            **kwargs\n",
    "        )\n",
    "\n",
    "        return ax"
   ]
  },
  {
   "cell_type": "code",
   "execution_count": 62,
   "metadata": {},
   "outputs": [],
   "source": [
    "# Problem data\n",
    "mu = _pk.MU_SUN\n",
    "max_thrust = 0.3\n",
    "isp = 3000\n",
    "\n",
    "# Initial state\n",
    "ms = 1500.0\n",
    "pls = earth\n",
    "\n",
    "# Final state\n",
    "plf = mars\n",
    "\n",
    "# Throttles and tof\n",
    "nseg = 2\n",
    "\n",
    "udp_nog = direct_pl2pl(\n",
    "        pls=pls,\n",
    "        plf=plf,\n",
    "        ms=ms,\n",
    "        mu=_pk.MU_SUN,\n",
    "        max_thrust=max_thrust,\n",
    "        isp=3000,\n",
    "        t0_bounds=[6000.0, 7000.0],\n",
    "        tof_bounds=[180.0, 900.0],\n",
    "        mf_bounds=[1300., ms],\n",
    "        vinfs=3.,\n",
    "        vinff=0.,\n",
    "        nseg=nseg,\n",
    "        cut=0.6,\n",
    "        mass_scaling=ms,\n",
    "        r_scaling=_pk.AU,\n",
    "        v_scaling=_pk.EARTH_VELOCITY,\n",
    "        with_gradient=False,\n",
    ")"
   ]
  },
  {
   "cell_type": "code",
   "execution_count": 63,
   "metadata": {},
   "outputs": [],
   "source": [
    "    # z = [t0, mf, Vsx, Vsy, Vsz, Vfx, Vfy, Vfz, throttles, tof]"
   ]
  },
  {
   "cell_type": "code",
   "execution_count": 93,
   "metadata": {},
   "outputs": [
    {
     "data": {
      "text/plain": [
       "array([-0.00367905,  0.02803834, -0.00240343])"
      ]
     },
     "execution_count": 93,
     "metadata": {},
     "output_type": "execute_result"
    }
   ],
   "source": [
    "pop = pg.population(udp_nog, 1)\n",
    "_np.array(udp_nog.gradient(pop.champion_x)[1:4])\n"
   ]
  },
  {
   "cell_type": "code",
   "execution_count": 94,
   "metadata": {},
   "outputs": [
    {
     "data": {
      "text/plain": [
       "array([1.00000001, 1.        , 1.        ])"
      ]
     },
     "execution_count": 94,
     "metadata": {},
     "output_type": "execute_result"
    }
   ],
   "source": [
    "_np.array(udp_nog.gradient(pop.champion_x)[1:4]) / pg.estimate_gradient_h(udp_nog.fitness, pop.champion_x, dx=1e-8)[[15,15+15, 15+15+15]]"
   ]
  },
  {
   "cell_type": "code",
   "execution_count": 77,
   "metadata": {},
   "outputs": [
    {
     "name": "stdout",
     "output_type": "stream",
     "text": [
      "\u001b[0;31mDocstring:\u001b[0m\n",
      "estimate_gradient_h(callable, x, dx = 1e-8)\n",
      "\n",
      "Performs a numerical estimation of the sparsity pattern of same callable object by numerically\n",
      "computing it around the input point *x* and detecting the components that are changed.\n",
      "\n",
      "The *callable* must accept an iterable as input and return an array-like object. The gradient returned will be dense\n",
      "and contain, in the lexicographic order requested by :func:`~pygmo.problem.gradient`, :math:`\\frac{df_i}{dx_j}`.\n",
      "\n",
      "The numerical approximation of each derivative is made by central difference, according to the formula:\n",
      "\n",
      ".. math::\n",
      "   \\frac{df}{dx} \\approx \\frac 32 m_1 - \\frac 35 m_2 +\\frac 1{10} m_3 + O(dx^6)\n",
      "\n",
      "where:\n",
      "\n",
      ".. math::\n",
      "   m_i = \\frac{f(x + i dx) - f(x-i dx)}{2i dx}\n",
      "\n",
      "The overall cost, in terms of calls to *callable* will thus be 6:math:`n` where :math:`n` is the size of *x*.\n",
      "\n",
      "Args:\n",
      "    callable (a callable object): The function we want to estimate sparsity (typically a fitness).\n",
      "    x (array-like object): decision vector to use when testing for sparisty.\n",
      "    dx (:class:`float`): To detect the sparsity each component of *x* will be changed by :math:`\\max(|x_i|,1) dx`.\n",
      "\n",
      "Raises:\n",
      "    unspecified: any exception thrown by the *callable* object when called on *x*.\n",
      "    TypeError: if *x* cannot be converted to a vector of floats or *callable* is not callable.\n",
      "\n",
      "Returns:\n",
      "    2D NumPy float array: the dense gradient of *callable* detected around *x*\n",
      "\n",
      "Examples:\n",
      "    >>> import pygmo as pg\n",
      "    >>> def my_fun(x):\n",
      "    ...     return [x[0]+x[3], x[2], x[1]]\n",
      "    >>> pg.estimate_gradient_h(callable = my_fun, x = [0]*4, dx = 1e-2) # doctest: +NORMALIZE_WHITESPACE\n",
      "    array([1., 0., 0., 1., 0., 0., 1., 0., 0., 1., 0., 0.])\n",
      "\u001b[0;31mType:\u001b[0m      builtin_function_or_method"
     ]
    }
   ],
   "source": [
    "pg.estimate_gradient_h?"
   ]
  },
  {
   "cell_type": "code",
   "execution_count": 49,
   "metadata": {},
   "outputs": [],
   "source": [
    "x = pop.champion_x\n",
    "udp_nog._set_leg_from_x(x)\n",
    "mcg_xs, mcg_xf, _ = udp_nog.leg.compute_mc_grad()\n",
    "rs, vs = udp_nog.pls.eph(x[0])\n",
    "rf, vf = udp_nog.plf.eph(x[0] + x[-1])\n",
    "\n",
    "# 1 - The gradient of the objective function (obj = -mf)\n",
    "retval = [-1.0 / udp_nog.mass_scaling]\n",
    "# 2 - The gradient of the mismatch contraints (mcg). We divide them in pos, vel mass as they have different scaling units\n",
    "\n",
    "## pos\n",
    "for i in range(3):\n",
    "    # First w.r.t. t0 (it is in days in the decision vector, so we will need to convert)\n",
    "    tmp = (\n",
    "        +_np.dot(mcg_xs[i, :3], vs)\n",
    "        - _np.dot(mcg_xs[i, 3:6], rs) * udp_nog.leg.mu / (_np.linalg.norm(rs) ** 3)\n",
    "        + _np.dot(mcg_xf[i, :3], vf)\n",
    "        - _np.dot(mcg_xf[i, 3:6], rf) * udp_nog.leg.mu / (_np.linalg.norm(rf) ** 3)\n",
    "    )\n",
    "    retval.append(tmp)"
   ]
  },
  {
   "cell_type": "code",
   "execution_count": 50,
   "metadata": {},
   "outputs": [
    {
     "data": {
      "text/plain": [
       "4948.737213724092"
      ]
     },
     "execution_count": 50,
     "metadata": {},
     "output_type": "execute_result"
    }
   ],
   "source": [
    "_np.dot(mcg_xs[i, :3], vs)"
   ]
  },
  {
   "cell_type": "code",
   "execution_count": 51,
   "metadata": {},
   "outputs": [
    {
     "data": {
      "text/plain": [
       "-891.2705702145909"
      ]
     },
     "execution_count": 51,
     "metadata": {},
     "output_type": "execute_result"
    }
   ],
   "source": [
    "_np.dot(mcg_xs[i, 3:6], rs) * udp_nog.leg.mu / (_np.linalg.norm(rs) ** 3)"
   ]
  },
  {
   "cell_type": "code",
   "execution_count": 7,
   "metadata": {},
   "outputs": [
    {
     "data": {
      "text/plain": [
       "array([ 0.00000000e+00, -1.00000000e+00,  0.00000000e+00,  0.00000000e+00,\n",
       "        0.00000000e+00,  0.00000000e+00,  0.00000000e+00,  0.00000000e+00,\n",
       "        0.00000000e+00,  0.00000000e+00,  0.00000000e+00,  0.00000000e+00,\n",
       "        0.00000000e+00,  0.00000000e+00,  0.00000000e+00,  3.41052962e+04,\n",
       "       -1.21058896e+07,  3.83819889e+07, -8.27876901e+06, -6.61311235e+05,\n",
       "        1.78629100e+07, -6.12939352e+06, -3.40242621e+05,  2.08816311e+10,\n",
       "        7.72821422e+09, -3.31724749e+08, -2.15237289e+10,  2.33351966e+09,\n",
       "        1.12153070e+08,  2.34432280e+09, -7.54122583e+03, -1.15792679e+07,\n",
       "        2.95138624e+07,  3.24340029e+06, -6.66039326e+05, -7.68938555e+06,\n",
       "        1.82482953e+07,  4.11122595e+05,  1.26641001e+10,  3.57424427e+10,\n",
       "       -9.08993181e+08,  2.42512818e+09, -2.49055794e+10, -2.28065759e+08,\n",
       "        3.63205634e+08,  1.58024959e+02,  3.84591298e+06, -1.51385645e+06,\n",
       "        2.68103224e+04, -5.32335079e+05, -4.02162491e+05,  3.92694242e+05,\n",
       "        1.04017905e+07, -5.14314353e+08, -8.79470471e+08,  1.32531773e+10,\n",
       "        1.16958065e+08, -2.28774503e+08, -2.02108290e+10, -5.82985876e+07,\n",
       "       -1.80602608e-03,  1.15356819e+00, -7.72203362e-01,  9.18570582e-01,\n",
       "       -1.69715183e-02, -1.10722826e+00,  1.12634592e+00,  5.84107914e-02,\n",
       "        6.58450477e+02,  2.57597093e+02, -1.44141071e+01,  2.55917302e+03,\n",
       "       -8.29855538e+02, -4.05778030e+01, -1.06012257e+02,  3.25878616e-03,\n",
       "        1.75683416e+00,  9.30626680e+00,  4.03896537e-02, -2.17458904e-01,\n",
       "        1.78017793e+00, -2.48907007e+00, -1.22079936e-01,  3.70267670e+03,\n",
       "        1.04211899e+04, -4.13504833e+02, -9.10184491e+02,  4.44350404e+03,\n",
       "        1.11788922e+02,  3.32990503e+02,  2.60389613e-04, -3.89182429e-01,\n",
       "       -3.08097879e-01, -7.92419471e-02, -1.02109496e+00,  8.83970471e-02,\n",
       "       -1.17684151e-01, -1.14328806e-01, -1.41855409e+02, -3.92898990e+02,\n",
       "       -1.42888478e+02, -4.47911691e+01,  1.12410400e+02,  2.18351417e+03,\n",
       "        8.09308143e-01,  0.00000000e+00, -9.91377518e-01,  0.00000000e+00,\n",
       "        0.00000000e+00,  0.00000000e+00,  0.00000000e+00,  0.00000000e+00,\n",
       "        0.00000000e+00, -1.24180057e+02, -2.17534565e+01, -5.43866310e+01,\n",
       "        1.26646690e+02,  1.07883267e+02, -3.94486041e+01, -9.91693309e-01,\n",
       "        0.00000000e+00,  0.00000000e+00,  0.00000000e+00,  0.00000000e+00,\n",
       "        0.00000000e+00,  0.00000000e+00,  0.00000000e+00,  0.00000000e+00,\n",
       "        1.68232520e+00,  2.94704230e-01,  7.36801077e-01,  0.00000000e+00,\n",
       "        0.00000000e+00,  0.00000000e+00,  0.00000000e+00,  0.00000000e+00,\n",
       "        0.00000000e+00,  0.00000000e+00,  0.00000000e+00,  0.00000000e+00,\n",
       "        0.00000000e+00,  0.00000000e+00,  0.00000000e+00,  0.00000000e+00,\n",
       "        0.00000000e+00,  0.00000000e+00, -1.83406395e+00, -1.56233701e+00,\n",
       "        5.71284277e-01,  0.00000000e+00,  0.00000000e+00,  0.00000000e+00,\n",
       "        7.92318808e-07, -4.32374955e-06,  1.00895148e-06,  0.00000000e+00,\n",
       "        0.00000000e+00,  0.00000000e+00,  0.00000000e+00,  0.00000000e+00,\n",
       "        0.00000000e+00,  0.00000000e+00,  0.00000000e+00,  0.00000000e+00,\n",
       "        0.00000000e+00,  0.00000000e+00,  0.00000000e+00,  0.00000000e+00,\n",
       "        0.00000000e+00,  0.00000000e+00,  0.00000000e+00,  0.00000000e+00,\n",
       "        0.00000000e+00,  0.00000000e+00,  0.00000000e+00,  0.00000000e+00,\n",
       "        0.00000000e+00,  0.00000000e+00,  0.00000000e+00,  0.00000000e+00])"
      ]
     },
     "execution_count": 7,
     "metadata": {},
     "output_type": "execute_result"
    }
   ],
   "source": [
    "pg.estimate_gradient_h(udp_nog.fitness, pop.champion_x)"
   ]
  },
  {
   "cell_type": "code",
   "execution_count": 289,
   "metadata": {},
   "outputs": [
    {
     "data": {
      "text/plain": [
       "[-0.0006666666666666666,\n",
       " 58071.32879884658,\n",
       " 21669.193155864745,\n",
       " -309.904803576337]"
      ]
     },
     "execution_count": 289,
     "metadata": {},
     "output_type": "execute_result"
    }
   ],
   "source": [
    "retval"
   ]
  },
  {
   "cell_type": "code",
   "execution_count": 56,
   "metadata": {},
   "outputs": [
    {
     "data": {
      "text/plain": [
       "array([-1.09055021, -3.79201405, -0.07243956])"
      ]
     },
     "execution_count": 56,
     "metadata": {},
     "output_type": "execute_result"
    }
   ],
   "source": [
    "mcg_xf[1,:3]"
   ]
  },
  {
   "cell_type": "code",
   "execution_count": 57,
   "metadata": {},
   "outputs": [
    {
     "data": {
      "text/plain": [
       "[24693.296050618905, 6744.649639373833, -465.55587850730313]"
      ]
     },
     "execution_count": 57,
     "metadata": {},
     "output_type": "execute_result"
    }
   ],
   "source": [
    "vf"
   ]
  },
  {
   "cell_type": "code",
   "execution_count": 4,
   "metadata": {},
   "outputs": [],
   "source": [
    "prob_nog = pg.problem(udp_nog)\n",
    "prob_nog.c_tol = 1e-6\n",
    "pop_nog = pg.population(prob_nog, 1)\n"
   ]
  },
  {
   "cell_type": "code",
   "execution_count": 5,
   "metadata": {},
   "outputs": [],
   "source": [
    "snopt72 = \"/Users/dario.izzo/opt/libsnopt7_c.dylib\"\n",
    "uda = ppnf.snopt7(library=snopt72, minor_version=2, screen_output=False)\n",
    "uda.set_integer_option(\"Major iterations limit\", 2000)\n",
    "uda.set_integer_option(\"Iterations limit\", 20000)\n",
    "uda.set_numeric_option(\"Major optimality tolerance\", 1e-4)\n",
    "uda.set_numeric_option(\"Major feasibility tolerance\", 1e-11)\n",
    "\n",
    "# uda = pg.nlopt(\"slsqp\")\n",
    "algo = pg.algorithm(uda)"
   ]
  },
  {
   "cell_type": "code",
   "execution_count": 6,
   "metadata": {},
   "outputs": [
    {
     "ename": "ValueError",
     "evalue": "\nfunction: check_gradient_vector\nwhere: /Users/runner/miniforge3/conda-bld/pagmo_1713851870833/work/src/problem.cpp, 908\nwhat: Gradients returned: 4, should be 111\n",
     "output_type": "error",
     "traceback": [
      "\u001b[0;31m---------------------------------------------------------------------------\u001b[0m",
      "\u001b[0;31mValueError\u001b[0m                                Traceback (most recent call last)",
      "Cell \u001b[0;32mIn[6], line 5\u001b[0m\n\u001b[1;32m      3\u001b[0m prob_nog\u001b[38;5;241m.\u001b[39mc_tol \u001b[38;5;241m=\u001b[39m \u001b[38;5;241m1e-6\u001b[39m\n\u001b[1;32m      4\u001b[0m pop_nog \u001b[38;5;241m=\u001b[39m pg\u001b[38;5;241m.\u001b[39mpopulation(prob_nog, \u001b[38;5;241m1\u001b[39m)\n\u001b[0;32m----> 5\u001b[0m pop_nog \u001b[38;5;241m=\u001b[39m \u001b[43malgo\u001b[49m\u001b[38;5;241;43m.\u001b[39;49m\u001b[43mevolve\u001b[49m\u001b[43m(\u001b[49m\u001b[43mpop_nog\u001b[49m\u001b[43m)\u001b[49m\n\u001b[1;32m      6\u001b[0m \u001b[38;5;28;01mif\u001b[39;00m(prob_nog\u001b[38;5;241m.\u001b[39mfeasibility_f(pop_nog\u001b[38;5;241m.\u001b[39mchampion_f)):\n\u001b[1;32m      7\u001b[0m     \u001b[38;5;28mprint\u001b[39m(\u001b[38;5;124m\"\u001b[39m\u001b[38;5;124m.\u001b[39m\u001b[38;5;124m\"\u001b[39m)\n",
      "\u001b[0;31mValueError\u001b[0m: \nfunction: check_gradient_vector\nwhere: /Users/runner/miniforge3/conda-bld/pagmo_1713851870833/work/src/problem.cpp, 908\nwhat: Gradients returned: 4, should be 111\n"
     ]
    }
   ],
   "source": [
    "for i in range(10):\n",
    "    prob_nog = pg.problem(udp_nog)\n",
    "    prob_nog.c_tol = 1e-6\n",
    "    pop_nog = pg.population(prob_nog, 1)\n",
    "    pop_nog = algo.evolve(pop_nog)\n",
    "    if(prob_nog.feasibility_f(pop_nog.champion_f)):\n",
    "        print(\".\")\n",
    "        break\n",
    "    print(\"x\", end =\"\")\n",
    "print(\"mass is: \", pop_nog.get_x()[0][1])"
   ]
  },
  {
   "cell_type": "code",
   "execution_count": 27,
   "metadata": {},
   "outputs": [
    {
     "data": {
      "image/png": "[encoded data removed]",
      "text/plain": [
       "<Figure size 700x700 with 1 Axes>"
      ]
     },
     "metadata": {},
     "output_type": "display_data"
    }
   ],
   "source": [
    "ax = udp_nog.plot(pop_nog.get_x()[0], show_gridpoints=True)\n",
    "ax.view_init(90, 0)"
   ]
  },
  {
   "cell_type": "code",
   "execution_count": 28,
   "metadata": {},
   "outputs": [],
   "source": [
    "pop_nog = pg.population(prob_nog, 1)\n",
    "a = pg.estimate_sparsity(udp_nog.fitness, pop_nog.champion_x)\n",
    "b = udp_nog.gradient_sparsity()"
   ]
  },
  {
   "cell_type": "code",
   "execution_count": 29,
   "metadata": {},
   "outputs": [
    {
     "data": {
      "text/plain": [
       "True"
      ]
     },
     "execution_count": 29,
     "metadata": {},
     "output_type": "execute_result"
    }
   ],
   "source": [
    "_np.all(a==b)"
   ]
  },
  {
   "cell_type": "code",
   "execution_count": null,
   "metadata": {},
   "outputs": [],
   "source": []
  },
  {
   "cell_type": "code",
   "execution_count": null,
   "metadata": {},
   "outputs": [],
   "source": []
  }
 ],
 "metadata": {
  "kernelspec": {
   "display_name": "kep3_devel",
   "language": "python",
   "name": "python3"
  },
  "language_info": {
   "codemirror_mode": {
    "name": "ipython",
    "version": 3
   },
   "file_extension": ".py",
   "mimetype": "text/x-python",
   "name": "python",
   "nbconvert_exporter": "python",
   "pygments_lexer": "ipython3",
   "version": "3.11.9"
  },
  "orig_nbformat": 4
 },
 "nbformat": 4,
 "nbformat_minor": 2
}
