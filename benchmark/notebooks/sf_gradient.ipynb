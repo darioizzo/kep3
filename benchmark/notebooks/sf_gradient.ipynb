{
 "cells": [
  {
   "cell_type": "markdown",
   "metadata": {},
   "source": [
    "# The Sims-Flanagan gradients\n",
    "This notebook is the result of a few days of blood shed with manual derivatives assembly. \n",
    "It benchmarks a python version of the computation of a sims-flanagan leg and the same done using heyoka."
   ]
  },
  {
   "cell_type": "code",
   "execution_count": 23,
   "metadata": {},
   "outputs": [],
   "source": [
    "import heyoka as hy\n",
    "import numpy as np\n",
    "import pykep as pk"
   ]
  },
  {
   "cell_type": "code",
   "execution_count": 24,
   "metadata": {},
   "outputs": [],
   "source": [
    "# Problem data\n",
    "mu = pk.MU_SUN\n",
    "max_thrust = 0.12\n",
    "isp = 100\n",
    "veff = isp * 9.80665\n",
    "\n",
    "# Leg dimension\n",
    "nseg=5\n",
    "nseg_fwd=3\n",
    "nseg_bck=2\n",
    "\n",
    "# Initial state\n",
    "ms = 1500.0\n",
    "rs = np.array([1, 0.1, -0.1]) * pk.AU\n",
    "vs = np.array([0.2, 1, -0.2]) * pk.EARTH_VELOCITY\n",
    "\n",
    "# Final state\n",
    "mf = 1300.0\n",
    "rf = np.array([1.2, -0.1, 0.1]) * pk.AU\n",
    "vf = np.array([-0.2, 1.023, -0.44]) * pk.EARTH_VELOCITY\n",
    "\n",
    "# Thrust\n",
    "throttles = np.array([0.10, 0.11, 0.12, 0.13, 0.14, 0.15, 0.16, 0.17, 0.18, 0.19, 0.2,  0.21, 0.22, 0.23, 0.24])\n",
    "tof = 324.0 * pk.DAY2SEC"
   ]
  },
  {
   "cell_type": "markdown",
   "metadata": {},
   "source": [
    "We first build the leg in the symbolic heyoka manipulator."
   ]
  },
  {
   "cell_type": "code",
   "execution_count": 25,
   "metadata": {},
   "outputs": [],
   "source": [
    "def propagate_lagrangian_heyoka(pos_0, vel_0, mu, tof):\n",
    "    x0, y0, z0 = pos_0\n",
    "    vx0, vy0, vz0 = vel_0\n",
    "    v02 = vx0**2 + vy0**2 + vz0**2\n",
    "    r0 = hy.sqrt(x0**2 + y0**2 + z0**2)\n",
    "    eps = v02 * 0.5 - mu / r0\n",
    "    a = -mu / (2.0 * eps)\n",
    "\n",
    "    sigma0 = np.dot(pos_0, vel_0) / np.sqrt(mu)\n",
    "    s0 = sigma0 / hy.sqrt(a)\n",
    "    c0 = 1.0 - r0 / a\n",
    "\n",
    "    n = hy.sqrt(mu / (a * a * a))\n",
    "    DM = n * tof\n",
    "\n",
    "    DE = hy.kepDE(s0, c0, DM)\n",
    "\n",
    "    # Compute cos(DE) and sin(DE).\n",
    "    cDE = hy.cos(DE)\n",
    "    sDE = hy.sin(DE)\n",
    "\n",
    "    r = a + (r0 - a) * cDE + sigma0 * hy.sqrt(a) * sDE\n",
    "\n",
    "    F = 1.0 - a / r0 * (1.0 - cDE)\n",
    "    G = a * sigma0 / np.sqrt(mu) * (1.0 - cDE) + r0 * hy.sqrt(a / mu) * sDE\n",
    "    Ft = -hy.sqrt(mu * a) / (r * r0) * sDE\n",
    "    Gt = 1 - a / r * (1.0 - cDE)\n",
    "\n",
    "    pos = F * pos_0 + G * vel_0\n",
    "    vel = Ft * pos_0 + Gt * vel_0\n",
    "\n",
    "    return [pos, vel]\n",
    "\n",
    "# Forward computation for the mismatch state\n",
    "def multiple_impulses_fwd_heyoka(xs, ys, zs, vxs, vys, vzs, ms, throttles_vars, tof, veff):\n",
    "    nseg = int(len(throttles_vars) / 3)\n",
    "    dt = tof / nseg\n",
    "    c = max_thrust * dt\n",
    "    \n",
    "    pos = np.array([xs, ys, zs])\n",
    "    vel = np.array([vxs, vys, vzs])\n",
    "    m=ms\n",
    "\n",
    "    for i in range(nseg):\n",
    "        ux, uy, uz = throttles_vars[3*i:3*i+3]\n",
    "        if i == 0:\n",
    "            pos, vel = propagate_lagrangian_heyoka(pos, vel, mu, dt/2)\n",
    "        else:\n",
    "            pos, vel = propagate_lagrangian_heyoka(pos, vel, mu, dt)  \n",
    "        vel = vel + np.array([ux, uy, uz]) * c / m\n",
    "        m = m * hy.exp(-hy.sqrt(ux**2+uy**2+uz**2) * c / veff / m)\n",
    "    # 4\n",
    "    pos, vel = propagate_lagrangian_heyoka(pos, vel, mu, dt/2)\n",
    "    retval = np.hstack([pos, vel, m])\n",
    "    return retval\n",
    "\n",
    "# Backward computation for the mismatch state\n",
    "def multiple_impulses_bck_heyoka(xf, yf, zf, vxf, vyf, vzf, mf, throttles_vars, tof, veff):\n",
    "    nseg = int(len(throttles_vars) / 3)\n",
    "    dt = tof / nseg\n",
    "    c = max_thrust * dt\n",
    "    \n",
    "    pos = np.array([xf, yf, zf])\n",
    "    vel = np.array([-vxf, -vyf, -vzf])\n",
    "    m=mf\n",
    "\n",
    "    for i in range(nseg):\n",
    "        ux, uy, uz = throttles_vars[3*i:3*i+3]\n",
    "        if i == 0:\n",
    "            pos, vel = propagate_lagrangian_heyoka(pos, vel, mu, dt/2)\n",
    "        else:\n",
    "            pos, vel = propagate_lagrangian_heyoka(pos, vel, mu, dt)  \n",
    "        vel = vel + np.array([ux, uy, uz]) * c / m # note here is plus too!\n",
    "        m = m * hy.exp(hy.sqrt(ux**2+uy**2+uz**2) * c / veff / m)\n",
    "    # 4\n",
    "    pos, vel = propagate_lagrangian_heyoka(pos, vel, mu, dt/2)\n",
    "    retval = np.hstack([pos, -vel, m])\n",
    "    return retval"
   ]
  },
  {
   "cell_type": "markdown",
   "metadata": {},
   "source": [
    "Lets define the symbolic variables"
   ]
  },
  {
   "cell_type": "code",
   "execution_count": 26,
   "metadata": {},
   "outputs": [],
   "source": [
    "# The symbolic variables\n",
    "xs_var, ys_var, zs_var = hy.make_vars(\"xs\", \"ys\", \"zs\")\n",
    "vxs_var, vys_var, vzs_var = hy.make_vars(\"vxs\", \"vys\", \"vzs\")\n",
    "ms_var, = hy.make_vars(\"ms\")\n",
    "\n",
    "xf_var, yf_var, zf_var = hy.make_vars(\"xf\", \"yf\", \"zf\")\n",
    "vxf_var, vyf_var, vzf_var = hy.make_vars(\"vxf\", \"vyf\", \"vzf\")\n",
    "mf_var, = hy.make_vars(\"mf\")\n",
    "\n",
    "tof_var, = hy.make_vars(\"t\")\n",
    "throttles_symbols = []\n",
    "for i in range(nseg):\n",
    "    throttles_symbols.extend([\"ux\"+str(i), \"uy\"+str(i), \"uz\"+str(i)])\n",
    "\n",
    "throttles_vars = hy.make_vars(*throttles_symbols)\n",
    "throttles_vars_fwd=throttles_vars[:nseg_fwd*3]\n",
    "throttles_vars_bck=throttles_vars[nseg_fwd*3:]\n",
    "throttles_vars_bck.reverse()\n",
    "for i in range(nseg_bck):\n",
    "    throttles_vars_bck[3*i:3*i+3] = throttles_vars_bck[3*i:3*i+3][::-1]"
   ]
  },
  {
   "cell_type": "code",
   "execution_count": 27,
   "metadata": {},
   "outputs": [],
   "source": [
    "# Here we define the symbolic function\n",
    "xf_fwd = multiple_impulses_fwd_heyoka(xs_var, ys_var, zs_var, vxs_var, vys_var, vzs_var, ms_var, throttles_vars_fwd, tof_var/nseg*nseg_fwd, veff)\n",
    "xf_bck = multiple_impulses_bck_heyoka(xf_var, yf_var, zf_var, vxf_var, vyf_var, vzf_var, mf_var, throttles_vars_bck, tof_var/nseg*nseg_bck, veff)\n",
    "mc = xf_fwd - xf_bck"
   ]
  },
  {
   "cell_type": "markdown",
   "metadata": {},
   "source": [
    "... and compile them into compiled functions"
   ]
  },
  {
   "cell_type": "code",
   "execution_count": 28,
   "metadata": {},
   "outputs": [],
   "source": [
    "cf = hy.make_cfunc(mc, vars=[xs_var, ys_var, zs_var, vxs_var, vys_var, vzs_var, ms_var, xf_var, yf_var, zf_var, vxf_var, vyf_var, vzf_var, mf_var, *throttles_vars, tof_var])\n",
    "cf_fwd = hy.make_cfunc(xf_fwd, vars=[xs_var, ys_var, zs_var, vxs_var, vys_var, vzs_var, ms_var, *throttles_vars, tof_var])\n",
    "cf_bck = hy.make_cfunc(xf_bck, vars=[xf_var, yf_var, zf_var, vxf_var, vyf_var, vzf_var, mf_var, *throttles_vars, tof_var])"
   ]
  },
  {
   "cell_type": "code",
   "execution_count": 29,
   "metadata": {},
   "outputs": [
    {
     "name": "stdout",
     "output_type": "stream",
     "text": [
      "mc: [-1.97012748e+11  4.69650442e+11 -1.50075233e+11 -2.99751515e+04\n",
      " -2.82649162e+04  1.02648068e+04 -8.28076734e+02]\n",
      "fwd: [-9.40485284e+10  1.89308399e+11 -2.55430190e+10 -1.70307347e+04\n",
      " -1.18576938e+04  3.73575653e+03  1.03182925e+03]\n",
      "bck: [ 1.02964220e+11 -2.80342043e+11  1.24532214e+11  1.29444167e+04\n",
      "  1.64072224e+04 -6.52905027e+03  1.85990598e+03]\n"
     ]
    }
   ],
   "source": [
    "print(\"mc:\", cf(list(rs)+list(vs)+[ms]+list(rf)+list(vf)+[mf]+ throttles.tolist() + [tof]))\n",
    "print(\"fwd:\", cf_fwd(list(rs)+list(vs)+[ms]+throttles.tolist() + [tof]))\n",
    "print(\"bck:\", cf_bck(list(rf)+list(vf)+[mf]+ throttles.tolist() + [tof]))"
   ]
  },
  {
   "cell_type": "markdown",
   "metadata": {},
   "source": [
    "... and the same for the gradients"
   ]
  },
  {
   "cell_type": "code",
   "execution_count": 30,
   "metadata": {},
   "outputs": [],
   "source": [
    "dtens = hy.diff_tensors(mc,\n",
    "                    diff_args=[*throttles_vars, tof_var],\n",
    "                    diff_order=1\n",
    "                    )\n",
    "jac = dtens.jacobian   \n",
    "\n",
    "d_cf = hy.make_cfunc(jac.flatten(),\n",
    "                       # Specify the order in which the input\n",
    "                       # variables are passed to the compiled\n",
    "                       # function.\n",
    "                       vars=[xs_var, ys_var, zs_var, vxs_var, vys_var, vzs_var, ms_var, xf_var, yf_var, zf_var, vxf_var, vyf_var, vzf_var, mf_var, *throttles_vars, tof_var])"
   ]
  },
  {
   "cell_type": "code",
   "execution_count": 31,
   "metadata": {},
   "outputs": [
    {
     "name": "stdout",
     "output_type": "stream",
     "text": [
      "9.79 µs ± 27.6 ns per loop (mean ± std. dev. of 7 runs, 100,000 loops each)\n"
     ]
    }
   ],
   "source": [
    "%%timeit\n",
    "d_cf(list(rs)+list(vs)+[ms]+list(rf)+list(vf)+[mf]+ throttles.tolist() + [tof])"
   ]
  },
  {
   "cell_type": "code",
   "execution_count": 32,
   "metadata": {},
   "outputs": [],
   "source": [
    "res_hy = d_cf(list(rs)+list(vs)+[ms]+list(rf)+list(vf)+[mf]+ throttles.tolist() + [tof]).reshape(7, nseg*3+1)"
   ]
  },
  {
   "cell_type": "markdown",
   "metadata": {},
   "source": [
    "# Non Heyoka\n",
    "We perform the same computations not using heyoka, but numerically"
   ]
  },
  {
   "cell_type": "code",
   "execution_count": 33,
   "metadata": {},
   "outputs": [],
   "source": [
    "# The dynamics\n",
    "def dyn(r, v, mu):\n",
    "    R3 = np.linalg.norm(r) ** 3\n",
    "    f = [v[0], v[1], v[2], -mu / R3 * r[0], -mu / R3 * r[1], -mu / R3 * r[2]]\n",
    "    return np.array(f).reshape(-1, 1)\n",
    "\n",
    "\n",
    "# This is the main computation ported to C++. Manual assembly of the gradients.\n",
    "def gradients_multiple_impulses(xs, ys, zs, vxs, vys, vzs, ms, throttles, tof, veff):\n",
    "    nseg = int(throttles.shape[0] / 3)\n",
    "    c = max_thrust * tof / nseg\n",
    "    a = 1.0 / veff\n",
    "    dt = tof / nseg\n",
    "    m0 = ms\n",
    "\n",
    "    # We define the indepedent variables\n",
    "    u = []\n",
    "    un = []\n",
    "    du = []\n",
    "    m = [m0]\n",
    "\n",
    "    for i in range(nseg):\n",
    "        u.append(np.array(throttles[i * 3 : i * 3 + 3]).reshape(1, 3))\n",
    "        du.append(np.zeros((3, 3 * nseg + 2)))\n",
    "        du[i][:, 3 * i : 3 * i + 3] = np.eye(3)\n",
    "\n",
    "    dm = [np.hstack((np.zeros((1, 3 * nseg)), np.eye(1), np.zeros((1, 1))))]\n",
    "    dtof = np.hstack((np.zeros((1, 3 * nseg + 1)), np.eye(1)))\n",
    "    Dv = []\n",
    "    dDv = []\n",
    "\n",
    "    # 1 - We compute the mass schedule and related quantities\n",
    "\n",
    "    for i in range(nseg):\n",
    "        Dv.append(c / m[i] * u[i])\n",
    "        un = np.sqrt(u[i][0][0] ** 2 + u[i][0][1] ** 2 + u[i][0][2] ** 2)\n",
    "        Dvn = c / m[i] * un\n",
    "        dDv.append(\n",
    "            c / m[i] * du[i]\n",
    "            - c / m[i] ** 2 * u[i].T @ dm[i]\n",
    "            + max_thrust / m[i] * u[i].T @ dtof / nseg\n",
    "        )\n",
    "        dDvn = (\n",
    "            c / m[i] / un * u[i] @ du[i]\n",
    "            - c / m[i] ** 2 * un * dm[i]\n",
    "            + max_thrust / m[i] * un * dtof / nseg\n",
    "        )\n",
    "        m.append(m[i] * np.exp(-Dvn * a))\n",
    "        dm.append(-m[i + 1] * a * dDvn + np.exp(-Dvn * a) * dm[i])\n",
    "\n",
    "    M = []\n",
    "    f = []\n",
    "    rv_it = [[xs, ys, zs], [vxs, vys, vzs]]\n",
    "    tofs = [dt] * (nseg + 1)\n",
    "    tofs[0] /= 2.0\n",
    "    tofs[-1] /= 2.0\n",
    "\n",
    "    # 2 - We compute the state transition matrices\n",
    "    for i in range(nseg + 1):\n",
    "        rv_it, M_it = pk.propagate_lagrangian(rv=rv_it, tof=tofs[i], mu=mu, stm=True)\n",
    "        M.append(M_it)\n",
    "        # We compute f (before impulse)\n",
    "        r = rv_it[0]\n",
    "        f.append(dyn(r, rv_it[1], mu))\n",
    "        # And add the impulse if needed\n",
    "        if i < nseg:\n",
    "            rv_it[1] = [a + b for a, b in zip(rv_it[1], Dv[i].flatten())]\n",
    "\n",
    "    # 3 - We assemble the gradients\n",
    "    Iv = np.diag((0, 0, 0, 1, 1, 1))[:, 3:]\n",
    "\n",
    "    # Mc will contain [Mn@..@M0,Mn@..@M1, Mn]\n",
    "    Mc = [0] * (nseg + 1)\n",
    "    Mc[-1] = M[-1]\n",
    "    for i in range(1, len(M)):\n",
    "        Mc[-1 - i] = Mc[-1 - i + 1] @ M[-1 - i]\n",
    "\n",
    "    # grad_tof\n",
    "    grad_tof = 0.5 * f[-1]\n",
    "    for i in range(nseg - 1):\n",
    "        grad_tof += Mc[i + 2] @ f[i + 1]\n",
    "\n",
    "    grad_tof += 0.5 * Mc[1] @ f[0]\n",
    "    grad_tof /= nseg\n",
    "    for i in range(nseg):\n",
    "        grad_tof += Mc[i + 1] @ Iv @ dDv[i][:, -1:]\n",
    "\n",
    "    # grad u\n",
    "    grad_u = 0\n",
    "    for i in range(nseg):\n",
    "        grad_u += Mc[i + 1] @ Iv @ dDv[i][:, :-2]\n",
    "\n",
    "    # grad ms\n",
    "    grad_ms = 0\n",
    "    for i in range(nseg):\n",
    "        grad_ms += Mc[i + 1] @ Iv @ dDv[i][:, -2:-1]\n",
    "\n",
    "    # grad xs\n",
    "    grad_xs = Mc[0]\n",
    "\n",
    "    # Assembling te return value\n",
    "    # grad will contain the gradient of the final posvelm with respect to the throttles and the tof\n",
    "    grad = np.hstack((grad_u, grad_tof))\n",
    "    grad = np.vstack((grad, dm[-1][:, :-1]))\n",
    "    grad[-1, -1] = dm[-1][:, -1][0]\n",
    "    # grad_ic will contain the gradient of the final posvelm with respect to the initial posvelm\n",
    "    grad_ic = np.vstack((grad_xs, np.zeros((1, 6))))\n",
    "    grad_ic = np.hstack((grad_ic, np.zeros((7, 1))))\n",
    "    grad_ic[:6, -1:] = grad_ms\n",
    "    grad_ic[-1, -1] = dm[-1][:, -2][0]\n",
    "    return (grad, grad_ic)\n",
    "\n",
    "\n",
    "def gradients_fwd(xs, ys, zs, vxs, vys, vzs, ms, throttles_fwd, tof, veff):\n",
    "    return gradients_multiple_impulses(xs, ys, zs, vxs, vys, vzs, ms, throttles_fwd, tof, veff)\n",
    "\n",
    "\n",
    "def gradients_bck(xf, yf, zf, vxf, vyf, vzf, mf, throttles_bck, tof, veff):\n",
    "    throttles_bck_l = list(throttles_bck)\n",
    "    throttles_bck_l.reverse()\n",
    "    for i in range(int(len(throttles_bck_l) / 3)):\n",
    "        throttles_bck_l[3 * i : 3 * i + 3] = throttles_bck_l[3 * i : 3 * i + 3][::-1]\n",
    "\n",
    "    grad, grad_ic = gradients_multiple_impulses(xf, yf, zf, -vxf, -vyf, -vzf, mf, np.array(throttles_bck_l), tof, -veff)\n",
    "    grad_ic[3:6, :] *= -1\n",
    "    grad_ic[:, 3:6] *= -1\n",
    "    grad[3:6, :] *= -1\n",
    "    grad[:, :-1]*=-1\n",
    "\n",
    "    # Note that the throttles in xgrad are ordered in reverse. Before returning we must restore the forward order\n",
    "    grad[:, :-1] = np.flip(grad[:, :-1], axis=1)\n",
    "    for i in range(int(len(throttles_bck_l) / 3)):\n",
    "        grad[:, 3 * i : i * 3 + 3] = np.flip(grad[:, 3 * i : i * 3 + 3], axis=1)\n",
    "\n",
    "    # We return\n",
    "    return (grad, grad_ic)\n",
    "\n",
    "\n",
    "def grad_mc(rs, vs, ms, rf, vf, mf, throttles, tof):\n",
    "    grad_fwd, grad_ic_fwd = gradients_fwd(*rs, *vs, ms, np.array(throttles[: nseg_fwd * 3]), tof / nseg * nseg_fwd, veff)\n",
    "    grad_bck, grad_ic_bck = gradients_bck(*rf, *vf, mf, np.array(throttles[nseg_fwd * 3 :]), tof / nseg * nseg_bck, veff)\n",
    "    return (grad_fwd, grad_bck, grad_ic_bck)"
   ]
  },
  {
   "cell_type": "code",
   "execution_count": 34,
   "metadata": {},
   "outputs": [
    {
     "name": "stdout",
     "output_type": "stream",
     "text": [
      "613 µs ± 7.62 µs per loop (mean ± std. dev. of 7 runs, 1,000 loops each)\n"
     ]
    }
   ],
   "source": [
    "%%timeit\n",
    "grad_mc(list(rs),list(vs),ms,list(rf),list(vf),mf, throttles, tof)"
   ]
  },
  {
   "cell_type": "markdown",
   "metadata": {},
   "source": [
    "Let us perform the computation and check that is the same"
   ]
  },
  {
   "cell_type": "code",
   "execution_count": 35,
   "metadata": {},
   "outputs": [],
   "source": [
    "fwd, bck, ic_bck = grad_mc(list(rs),list(vs),ms,list(rf),list(vf),mf, throttles, tof)\n",
    "# This is the actual gradient to compare with the c++ code\n",
    "res = np.hstack((fwd[:,:-1], bck[:,:-1], fwd[:,-1:]*nseg_fwd/nseg - bck[:,-1:]*nseg_bck/nseg, ic_bck[:,-1:]))\n",
    "# This is without the last column mf\n",
    "res_no_hy = np.hstack((fwd[:,:-1], bck[:,:-1], fwd[:,-1:]*nseg_fwd/nseg - bck[:,-1:]*nseg_bck/nseg,))"
   ]
  },
  {
   "cell_type": "code",
   "execution_count": 36,
   "metadata": {},
   "outputs": [
    {
     "name": "stdout",
     "output_type": "stream",
     "text": [
      "Compare this to the result of the C++ code in the leg_sims_flanagan_test.cpp (grad_test):  [ 3.27858926e-02  9.23774757e-03 -6.27370268e-04  2.42975689e-02\n",
      " -5.16519045e-04  6.38519017e-04  1.02031523e-02 -1.58197319e-04\n",
      "  2.34809677e-05 -7.81363717e-03  4.77353349e-05 -2.14219032e-05\n",
      " -2.90780417e-02  3.56703937e-03 -9.91240785e-04 -2.92171589e-03\n",
      " -5.61091576e-06]\n"
     ]
    }
   ],
   "source": [
    "# In the C++ we have non dimensional units for the mc so we need to rescale the gradient too\n",
    "res[:3,:]/=pk.AU\n",
    "res[3:6,:]/=pk.EARTH_VELOCITY\n",
    "res[7:,:]/=1e8\n",
    "res[:, -2] = res[:, -2] * pk.DAY2SEC\n",
    "print(\"Compare this to the result of the C++ code in the leg_sims_flanagan_test.cpp (grad_test): \", res[0,:])"
   ]
  },
  {
   "cell_type": "markdown",
   "metadata": {},
   "source": [
    "Here we compare the heyoka to the numerical computations."
   ]
  },
  {
   "cell_type": "code",
   "execution_count": 37,
   "metadata": {},
   "outputs": [
    {
     "data": {
      "text/plain": [
       "array([[ 5.83322753e-16, -5.17570896e-16, -7.93854246e-16,\n",
       "         1.44302728e-15,  1.40776843e-14,  1.09199061e-15,\n",
       "         1.09339820e-15, -1.55837074e-14, -3.26109791e-14,\n",
       "        -0.00000000e+00, -5.07322759e-14,  3.05144793e-15,\n",
       "        -2.19234814e-16, -5.58491791e-16, -3.61757912e-15,\n",
       "        -5.39351358e-16],\n",
       "       [ 9.93523663e-16,  1.59757151e-16,  5.21060317e-16,\n",
       "        -1.32810694e-13,  3.53283583e-16,  1.63761833e-15,\n",
       "        -1.77077302e-14,  9.01132337e-16,  1.02239797e-14,\n",
       "        -2.05878611e-14,  4.03927777e-16,  9.25450906e-15,\n",
       "         2.16077559e-15, -1.70184070e-15, -4.37339583e-15,\n",
       "         2.14642219e-15],\n",
       "       [ 1.61150012e-15, -0.00000000e+00,  2.22097082e-16,\n",
       "        -3.23362247e-15,  3.81707965e-16,  7.83034381e-16,\n",
       "        -1.98585356e-14,  6.28373566e-15,  9.41376183e-16,\n",
       "         7.01244578e-14, -3.56380908e-14, -6.12117919e-16,\n",
       "         3.07959618e-15, -5.60495647e-15, -5.92198060e-16,\n",
       "         1.03779099e-15],\n",
       "       [ 2.22549801e-15, -3.20477719e-15, -1.51960493e-15,\n",
       "        -1.64559108e-16, -1.24214384e-15, -1.47340135e-16,\n",
       "         0.00000000e+00,  1.23329592e-16,  1.28614155e-15,\n",
       "         1.37063707e-16, -5.84469003e-15, -2.03235513e-15,\n",
       "         1.16532792e-16,  2.46680567e-15,  5.10333414e-15,\n",
       "        -1.89290831e-15],\n",
       "       [ 1.43676714e-15, -1.25115212e-16, -0.00000000e+00,\n",
       "        -6.57397530e-15, -1.18846731e-16, -0.00000000e+00,\n",
       "        -2.48617880e-15,  0.00000000e+00,  1.33264671e-15,\n",
       "        -1.29646884e-16,  1.33039695e-16,  3.31275076e-15,\n",
       "         7.12765982e-16, -3.89227898e-16, -3.66943322e-16,\n",
       "        -9.77813503e-16],\n",
       "       [ 3.78553827e-15, -2.16805496e-16,  0.00000000e+00,\n",
       "        -1.59277423e-15, -3.72724922e-16,  3.46164211e-16,\n",
       "        -6.49517827e-16, -1.66911839e-16,  2.16638528e-16,\n",
       "         2.89831788e-15, -2.42102871e-15,  1.37040791e-16,\n",
       "         1.53175317e-15, -3.68247928e-16, -5.33098474e-16,\n",
       "        -6.54298359e-15],\n",
       "       [-1.76320443e-16, -1.60291312e-16, -2.93867405e-16,\n",
       "        -0.00000000e+00,  1.64507307e-16,  1.53540154e-16,\n",
       "        -0.00000000e+00, -0.00000000e+00, -0.00000000e+00,\n",
       "         1.30561437e-16,  2.48066731e-16,  2.36254029e-16,\n",
       "         2.46694051e-16, -0.00000000e+00, -0.00000000e+00,\n",
       "        -1.81928277e-16]])"
      ]
     },
     "execution_count": 37,
     "metadata": {},
     "output_type": "execute_result"
    }
   ],
   "source": [
    "(res_no_hy-res_hy)/res_hy"
   ]
  }
 ],
 "metadata": {
  "kernelspec": {
   "display_name": "kep3_devel",
   "language": "python",
   "name": "python3"
  },
  "language_info": {
   "codemirror_mode": {
    "name": "ipython",
    "version": 3
   },
   "file_extension": ".py",
   "mimetype": "text/x-python",
   "name": "python",
   "nbconvert_exporter": "python",
   "pygments_lexer": "ipython3",
   "version": "3.11.6"
  }
 },
 "nbformat": 4,
 "nbformat_minor": 2
}
