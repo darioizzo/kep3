{
 "cells": [
  {
   "cell_type": "markdown",
   "metadata": {},
   "source": [
    "# The Sims-Flanagan gradients\n",
    "This notebook is the result of a few days of blood shed with manual derivatives assembly. \n",
    "It benchmarks a python version of the computation of a sims-flanagan leg and the same done using heyoka."
   ]
  },
  {
   "cell_type": "code",
   "execution_count": 1,
   "metadata": {},
   "outputs": [],
   "source": [
    "import heyoka as hy\n",
    "import numpy as np\n",
    "import pykep as pk"
   ]
  },
  {
   "cell_type": "code",
   "execution_count": 2,
   "metadata": {},
   "outputs": [],
   "source": [
    "# Problem data\n",
    "mu = pk.MU_SUN\n",
    "max_thrust = 0.12\n",
    "isp = 100\n",
    "veff = isp * 9.80665\n",
    "\n",
    "# Leg dimension\n",
    "nseg=5\n",
    "nseg_fwd=3\n",
    "nseg_bck=2\n",
    "\n",
    "# Initial state\n",
    "ms = 1500.0\n",
    "rs = np.array([1, 0.1, -0.1]) * pk.AU\n",
    "vs = np.array([0.2, 1, -0.2]) * pk.EARTH_VELOCITY\n",
    "\n",
    "# Final state\n",
    "mf = 1300.0\n",
    "rf = np.array([1.2, -0.1, 0.1]) * pk.AU\n",
    "vf = np.array([-0.2, 1.023, -0.44]) * pk.EARTH_VELOCITY\n",
    "\n",
    "# Thrust\n",
    "throttles = np.array([0.10, 0.11, 0.12, 0.13, 0.14, 0.15, 0.16, 0.17, 0.18, 0.19, 0.2,  0.21, 0.22, 0.23, 0.24])\n",
    "tof = 324.0 * pk.DAY2SEC"
   ]
  },
  {
   "cell_type": "markdown",
   "metadata": {},
   "source": [
    "We first build the leg in the symbolic heyoka manipulator."
   ]
  },
  {
   "cell_type": "code",
   "execution_count": 3,
   "metadata": {},
   "outputs": [],
   "source": [
    "def propagate_lagrangian_heyoka(pos_0, vel_0, mu, tof):\n",
    "    x0, y0, z0 = pos_0\n",
    "    vx0, vy0, vz0 = vel_0\n",
    "    v02 = vx0**2 + vy0**2 + vz0**2\n",
    "    r0 = hy.sqrt(x0**2 + y0**2 + z0**2)\n",
    "    eps = v02 * 0.5 - mu / r0\n",
    "    a = -mu / (2.0 * eps)\n",
    "\n",
    "    sigma0 = np.dot(pos_0, vel_0) / np.sqrt(mu)\n",
    "    s0 = sigma0 / hy.sqrt(a)\n",
    "    c0 = 1.0 - r0 / a\n",
    "\n",
    "    n = hy.sqrt(mu / (a * a * a))\n",
    "    DM = n * tof\n",
    "\n",
    "    DE = hy.kepDE(s0, c0, DM)\n",
    "\n",
    "    # Compute cos(DE) and sin(DE).\n",
    "    cDE = hy.cos(DE)\n",
    "    sDE = hy.sin(DE)\n",
    "\n",
    "    r = a + (r0 - a) * cDE + sigma0 * hy.sqrt(a) * sDE\n",
    "\n",
    "    F = 1.0 - a / r0 * (1.0 - cDE)\n",
    "    G = a * sigma0 / np.sqrt(mu) * (1.0 - cDE) + r0 * hy.sqrt(a / mu) * sDE\n",
    "    Ft = -hy.sqrt(mu * a) / (r * r0) * sDE\n",
    "    Gt = 1 - a / r * (1.0 - cDE)\n",
    "\n",
    "    pos = F * pos_0 + G * vel_0\n",
    "    vel = Ft * pos_0 + Gt * vel_0\n",
    "\n",
    "    return [pos, vel]\n",
    "\n",
    "# Forward computation for the mismatch state\n",
    "def multiple_impulses_heyoka(xs, ys, zs, vxs, vys, vzs, ms, throttles_vars, tof, veff):\n",
    "    nseg = int(len(throttles_vars) / 3)\n",
    "    dt = tof / nseg\n",
    "    c = max_thrust * dt\n",
    "    \n",
    "    pos = np.array([xs, ys, zs])\n",
    "    vel = np.array([vxs, vys, vzs])\n",
    "    m=ms\n",
    "\n",
    "    for i in range(nseg):\n",
    "        ux, uy, uz = throttles_vars[3*i:3*i+3]\n",
    "        if i == 0:\n",
    "            pos, vel = propagate_lagrangian_heyoka(pos, vel, mu, dt/2)\n",
    "        else:\n",
    "            pos, vel = propagate_lagrangian_heyoka(pos, vel, mu, dt)  \n",
    "        vel = vel + np.array([ux, uy, uz]) * c / m\n",
    "        m = m * hy.exp(-hy.sqrt(ux**2+uy**2+uz**2) * c / veff / m)\n",
    "    # 4\n",
    "    pos, vel = propagate_lagrangian_heyoka(pos, vel, mu, dt/2)\n",
    "    retval = np.hstack([pos, vel, m])\n",
    "    return retval"
   ]
  },
  {
   "cell_type": "markdown",
   "metadata": {},
   "source": [
    "Lets define the symbolic variables"
   ]
  },
  {
   "cell_type": "code",
   "execution_count": 4,
   "metadata": {},
   "outputs": [],
   "source": [
    "# The symbolic variables\n",
    "xs_var, ys_var, zs_var = hy.make_vars(\"xs\", \"ys\", \"zs\")\n",
    "vxs_var, vys_var, vzs_var = hy.make_vars(\"vxs\", \"vys\", \"vzs\")\n",
    "ms_var, veff_var= hy.make_vars(\"ms\", \"veff\")\n",
    "\n",
    "xf_var, yf_var, zf_var = hy.make_vars(\"xf\", \"yf\", \"zf\")\n",
    "vxf_var, vyf_var, vzf_var = hy.make_vars(\"vxf\", \"vyf\", \"vzf\")\n",
    "mf_var = hy.make_vars(\"mf\")\n",
    "\n",
    "tof_var = hy.make_vars(\"t\")\n",
    "throttles_symbols = []\n",
    "for i in range(nseg):\n",
    "    throttles_symbols.extend([\"ux\"+str(i), \"uy\"+str(i), \"uz\"+str(i)])\n",
    "\n",
    "throttles_vars = hy.make_vars(*throttles_symbols)\n",
    "throttles_vars_fwd=throttles_vars[:nseg_fwd*3]\n",
    "throttles_vars_bck=throttles_vars[nseg_fwd*3:]\n",
    "throttles_vars_bck.reverse()\n",
    "for i in range(nseg_bck):\n",
    "    throttles_vars_bck[3*i:3*i+3] = throttles_vars_bck[3*i:3*i+3][::-1]"
   ]
  },
  {
   "cell_type": "code",
   "execution_count": 5,
   "metadata": {},
   "outputs": [],
   "source": [
    "# Here we define the symbolic function\n",
    "xf_fwd = multiple_impulses_heyoka(xs_var, ys_var, zs_var, vxs_var, vys_var, vzs_var, ms_var, throttles_vars_fwd, tof_var/nseg*nseg_fwd, veff_var)\n",
    "xf_bck = multiple_impulses_heyoka(xf_var, yf_var, zf_var, -vxf_var, -vyf_var, -vzf_var, mf_var, throttles_vars_bck, tof_var/nseg*nseg_bck, -veff_var)\n",
    "xf_bck[3:6]*=-1\n",
    "mc = xf_fwd - xf_bck"
   ]
  },
  {
   "cell_type": "markdown",
   "metadata": {},
   "source": [
    "... and compile them into compiled functions"
   ]
  },
  {
   "cell_type": "code",
   "execution_count": 6,
   "metadata": {},
   "outputs": [],
   "source": [
    "mc_cf = hy.cfunc(mc, vars=[xs_var, ys_var, zs_var, vxs_var, vys_var, vzs_var, ms_var, xf_var, yf_var, zf_var, vxf_var, vyf_var, vzf_var, mf_var, *throttles_vars, tof_var, veff_var])"
   ]
  },
  {
   "cell_type": "code",
   "execution_count": 7,
   "metadata": {},
   "outputs": [
    {
     "name": "stdout",
     "output_type": "stream",
     "text": [
      "mc: [-1.97012748e+11  4.69650442e+11 -1.50075233e+11 -2.99751515e+04\n",
      " -2.82649162e+04  1.02648068e+04 -8.28076734e+02]\n"
     ]
    }
   ],
   "source": [
    "print(\"mc:\", mc_cf(list(rs)+list(vs)+[ms]+list(rf)+list(vf)+[mf]+ throttles.tolist() + [tof, veff]))"
   ]
  },
  {
   "cell_type": "markdown",
   "metadata": {},
   "source": [
    "... and the same for the gradients"
   ]
  },
  {
   "cell_type": "code",
   "execution_count": 8,
   "metadata": {},
   "outputs": [],
   "source": [
    "dtens1 = hy.diff_tensors(mc,\n",
    "                    diff_args=[xs_var, ys_var, zs_var, vxs_var, vys_var, vzs_var, ms_var],\n",
    "                    diff_order=1\n",
    "                    )\n",
    "\n",
    "dtens2 = hy.diff_tensors(mc,\n",
    "                    diff_args=[xf_var, yf_var, zf_var, vxf_var, vyf_var, vzf_var, mf_var],\n",
    "                    diff_order=1\n",
    "                    )\n",
    "\n",
    "dtens3 = hy.diff_tensors(mc,\n",
    "                    diff_args=[*throttles_vars, tof_var],\n",
    "                    diff_order=1\n",
    "                    )\n",
    "\n",
    "jac1 = dtens1.jacobian   \n",
    "jac2 = dtens2.jacobian   \n",
    "jac3 = dtens3.jacobian   \n",
    "\n",
    "\n",
    "mcg_xs_hy_func = hy.cfunc(jac1.flatten(),\n",
    "                       # Specify the order in which the input\n",
    "                       # variables are passed to the compiled\n",
    "                       # function.\n",
    "                       vars=[xs_var, ys_var, zs_var, vxs_var, vys_var, vzs_var, ms_var, xf_var, yf_var, zf_var, vxf_var, vyf_var, vzf_var, mf_var, *throttles_vars, tof_var, veff_var])\n",
    "\n",
    "mcg_xf_hy_func = hy.cfunc(jac2.flatten(),\n",
    "                       # Specify the order in which the input\n",
    "                       # variables are passed to the compiled\n",
    "                       # function.\n",
    "                       vars=[xs_var, ys_var, zs_var, vxs_var, vys_var, vzs_var, ms_var, xf_var, yf_var, zf_var, vxf_var, vyf_var, vzf_var, mf_var, *throttles_vars, tof_var, veff_var])\n",
    "\n",
    "mcg_th_tof_hy_func = hy.cfunc(jac3.flatten(),\n",
    "                       # Specify the order in which the input\n",
    "                       # variables are passed to the compiled\n",
    "                       # function.\n",
    "                       vars=[xs_var, ys_var, zs_var, vxs_var, vys_var, vzs_var, ms_var, xf_var, yf_var, zf_var, vxf_var, vyf_var, vzf_var, mf_var, *throttles_vars, tof_var, veff_var])"
   ]
  },
  {
   "cell_type": "code",
   "execution_count": 10,
   "metadata": {},
   "outputs": [
    {
     "name": "stdout",
     "output_type": "stream",
     "text": [
      "5.25 μs ± 42.8 ns per loop (mean ± std. dev. of 7 runs, 100,000 loops each)\n"
     ]
    }
   ],
   "source": [
    "%%timeit\n",
    "mcg_xs_hy_func(list(rs)+list(vs)+[ms]+list(rf)+list(vf)+[mf]+ throttles.tolist() + [tof, veff])"
   ]
  },
  {
   "cell_type": "code",
   "execution_count": 11,
   "metadata": {},
   "outputs": [],
   "source": [
    "mcg_xs_hy = mcg_xs_hy_func(list(rs)+list(vs)+[ms]+list(rf)+list(vf)+[mf]+ throttles.tolist() + [tof, veff]).reshape(7, -1)\n",
    "mcg_xf_hy = mcg_xf_hy_func(list(rs)+list(vs)+[ms]+list(rf)+list(vf)+[mf]+ throttles.tolist() + [tof, veff]).reshape(7, -1)\n",
    "mcg_th_tof_hy = mcg_th_tof_hy_func(list(rs)+list(vs)+[ms]+list(rf)+list(vf)+[mf]+ throttles.tolist() + [tof, veff]).reshape(7, -1)"
   ]
  },
  {
   "cell_type": "markdown",
   "metadata": {},
   "source": [
    "we set a sf leg from the c++ code"
   ]
  },
  {
   "cell_type": "code",
   "execution_count": 12,
   "metadata": {},
   "outputs": [],
   "source": [
    "sf_leg = pk.leg.sims_flanagan()\n",
    "sf_leg.rvs = [rs, vs]\n",
    "sf_leg.rvf = [rf, vf]\n",
    "sf_leg.tof = tof\n",
    "sf_leg.ms=ms\n",
    "sf_leg.mf=mf\n",
    "sf_leg.throttles=throttles\n",
    "sf_leg.mu = mu\n",
    "sf_leg.max_thrust=max_thrust\n",
    "sf_leg.isp=isp\n",
    "sf_leg.cut=0.6"
   ]
  },
  {
   "cell_type": "code",
   "execution_count": 13,
   "metadata": {},
   "outputs": [
    {
     "name": "stdout",
     "output_type": "stream",
     "text": [
      "Different in mismatch constraints between heyoka cfunc and the c++ code [ 3.09803080e-16 -2.59917380e-16 -8.13394122e-16 -2.42732972e-16\n",
      " -5.14840205e-16  0.00000000e+00 -0.00000000e+00]\n"
     ]
    }
   ],
   "source": [
    "err = (mc_cf([*rs,*vs,ms,*rf,*vf,mf,*throttles,tof,veff])-np.array(sf_leg.compute_mismatch_constraints()))/np.array(sf_leg.compute_mismatch_constraints())\n",
    "print(\"Different in mismatch constraints between heyoka cfunc and the c++ code\", err)"
   ]
  },
  {
   "cell_type": "code",
   "execution_count": 15,
   "metadata": {},
   "outputs": [
    {
     "name": "stdout",
     "output_type": "stream",
     "text": [
      "Max difference on mcg_xs:  2.5079055870093578e-14\n",
      "Max difference on mcg_xf:  6.333256510692337e-15\n",
      "Max difference on mcg_th_tof:  9.742677536541831e-14\n"
     ]
    }
   ],
   "source": [
    "mcg_xs, mcg_xf, mcg_th_tof = sf_leg.compute_mc_grad()\n",
    "eps = 1e-30\n",
    "print(\"Max difference on mcg_xs: \", np.max(np.abs((mcg_xs-mcg_xs_hy) / (mcg_xs_hy+eps))))\n",
    "print(\"Max difference on mcg_xf: \", np.max(np.abs((mcg_xf-mcg_xf_hy) / (mcg_xf_hy+eps))))\n",
    "print(\"Max difference on mcg_th_tof: \", np.max(np.abs((mcg_th_tof-mcg_th_tof_hy) / (mcg_th_tof_hy+eps))))"
   ]
  },
  {
   "cell_type": "markdown",
   "metadata": {},
   "source": [
    "Coe to estimate numerically"
   ]
  },
  {
   "cell_type": "code",
   "execution_count": 16,
   "metadata": {},
   "outputs": [
    {
     "data": {
      "text/plain": [
       "array([-2.18195555e+00,  7.31859658e-01, -4.01041457e-01,  1.29887813e+07,\n",
       "       -2.57342254e+06,  1.27466361e+06,  8.39381051e+05,  1.00244597e+00,\n",
       "       -7.64056237e-01,  2.58933482e-01, -2.93141622e+06,  1.15461634e+07,\n",
       "       -1.17307810e+06,  8.16365590e+05, -5.15896647e-01,  2.46191906e-01,\n",
       "       -3.94008353e-01,  1.42698746e+06, -1.15655018e+06,  9.66632480e+06,\n",
       "        8.97445464e+05,  1.32836662e-07, -1.02924961e-07,  5.43186030e-08,\n",
       "       -1.18665018e+00,  5.08767181e-01, -2.44188177e-01, -1.22273512e-01,\n",
       "       -1.80621026e-07,  7.65340442e-09, -5.10854337e-08,  6.35027810e-01,\n",
       "       -1.25653396e+00,  3.13309785e-01, -1.18516807e-01,  8.73770616e-08,\n",
       "       -4.74593633e-08, -6.83509638e-08, -2.98022301e-01,  3.07553676e-01,\n",
       "       -7.34518838e-01, -1.30918860e-01,  0.00000000e+00,  0.00000000e+00,\n",
       "        0.00000000e+00,  0.00000000e+00,  0.00000000e+00,  0.00000000e+00,\n",
       "       -9.62784376e-01])"
      ]
     },
     "execution_count": 16,
     "metadata": {},
     "output_type": "execute_result"
    }
   ],
   "source": [
    "import pygmo as pg\n",
    "def mc(x):\n",
    "    sf_leg.rvf = [x[:3], x[3:6]]\n",
    "    sf_leg.mf = x[6]\n",
    "    return sf_leg.compute_mismatch_constraints()\n",
    "pg.estimate_gradient_h(mc, [*rf,*vf,mf])"
   ]
  },
  {
   "cell_type": "markdown",
   "metadata": {},
   "source": [
    "# Non Heyoka\n",
    "We perform the same computations not using heyoka, but numerically"
   ]
  },
  {
   "cell_type": "code",
   "execution_count": 17,
   "metadata": {},
   "outputs": [],
   "source": [
    "# The dynamics\n",
    "def dyn(r, v, mu):\n",
    "    R3 = np.linalg.norm(r) ** 3\n",
    "    f = [v[0], v[1], v[2], -mu / R3 * r[0], -mu / R3 * r[1], -mu / R3 * r[2]]\n",
    "    return np.array(f).reshape(-1, 1)\n",
    "\n",
    "\n",
    "# This is the main computation ported to C++. Manual assembly of the gradients.\n",
    "def gradients_multiple_impulses(xs, ys, zs, vxs, vys, vzs, ms, throttles, tof, veff):\n",
    "    nseg = int(throttles.shape[0] / 3)\n",
    "    c = max_thrust * tof / nseg\n",
    "    a = 1.0 / veff\n",
    "    dt = tof / nseg\n",
    "    m0 = ms\n",
    "\n",
    "    # We define the indepedent variables\n",
    "    u = []\n",
    "    un = []\n",
    "    du = []\n",
    "    m = [m0]\n",
    "\n",
    "    for i in range(nseg):\n",
    "        u.append(np.array(throttles[i * 3 : i * 3 + 3]).reshape(1, 3))\n",
    "        du.append(np.zeros((3, 3 * nseg + 2)))\n",
    "        du[i][:, 3 * i : 3 * i + 3] = np.eye(3)\n",
    "\n",
    "    dm = [np.hstack((np.zeros((1, 3 * nseg)), np.eye(1), np.zeros((1, 1))))]\n",
    "    dtof = np.hstack((np.zeros((1, 3 * nseg + 1)), np.eye(1)))\n",
    "    Dv = []\n",
    "    dDv = []\n",
    "\n",
    "    # 1 - We compute the mass schedule and related quantities\n",
    "\n",
    "    for i in range(nseg):\n",
    "        Dv.append(c / m[i] * u[i])\n",
    "        un = np.sqrt(u[i][0][0] ** 2 + u[i][0][1] ** 2 + u[i][0][2] ** 2)\n",
    "        Dvn = c / m[i] * un\n",
    "        dDv.append(\n",
    "            c / m[i] * du[i]\n",
    "            - c / m[i] ** 2 * u[i].T @ dm[i]\n",
    "            + max_thrust / m[i] * u[i].T @ dtof / nseg\n",
    "        )\n",
    "        dDvn = (\n",
    "            c / m[i] / un * u[i] @ du[i]\n",
    "            - c / m[i] ** 2 * un * dm[i]\n",
    "            + max_thrust / m[i] * un * dtof / nseg\n",
    "        )\n",
    "        m.append(m[i] * np.exp(-Dvn * a))\n",
    "        dm.append(-m[i + 1] * a * dDvn + np.exp(-Dvn * a) * dm[i])\n",
    "\n",
    "    M = []\n",
    "    f = []\n",
    "    rv_it = [[xs, ys, zs], [vxs, vys, vzs]]\n",
    "    tofs = [dt] * (nseg + 1)\n",
    "    tofs[0] /= 2.0\n",
    "    tofs[-1] /= 2.0\n",
    "\n",
    "    # 2 - We compute the state transition matrices\n",
    "    for i in range(nseg + 1):\n",
    "        rv_it, M_it = pk.propagate_lagrangian(rv=rv_it, tof=tofs[i], mu=mu, stm=True)\n",
    "        M.append(M_it)\n",
    "        # We compute f (before impulse)\n",
    "        r = rv_it[0]\n",
    "        f.append(dyn(r, rv_it[1], mu))\n",
    "        # And add the impulse if needed\n",
    "        if i < nseg:\n",
    "            rv_it[1] = [a + b for a, b in zip(rv_it[1], Dv[i].flatten())]\n",
    "\n",
    "    # 3 - We assemble the gradients\n",
    "    Iv = np.diag((0, 0, 0, 1, 1, 1))[:, 3:]\n",
    "\n",
    "    # Mc will contain [Mn@..@M0,Mn@..@M1, Mn]\n",
    "    Mc = [0] * (nseg + 1)\n",
    "    Mc[-1] = M[-1]\n",
    "    for i in range(1, len(M)):\n",
    "        Mc[-1 - i] = Mc[-1 - i + 1] @ M[-1 - i]\n",
    "\n",
    "    # grad_tof\n",
    "    grad_tof = 0.5 * f[-1]\n",
    "    for i in range(nseg - 1):\n",
    "        grad_tof += Mc[i + 2] @ f[i + 1]\n",
    "\n",
    "    grad_tof += 0.5 * Mc[1] @ f[0]\n",
    "    grad_tof /= nseg\n",
    "    for i in range(nseg):\n",
    "        grad_tof += Mc[i + 1] @ Iv @ dDv[i][:, -1:]\n",
    "\n",
    "    # grad u\n",
    "    grad_u = 0\n",
    "    for i in range(nseg):\n",
    "        grad_u += Mc[i + 1] @ Iv @ dDv[i][:, :-2]\n",
    "\n",
    "    # grad ms\n",
    "    grad_ms = 0\n",
    "    for i in range(nseg):\n",
    "        grad_ms += Mc[i + 1] @ Iv @ dDv[i][:, -2:-1]\n",
    "\n",
    "    # grad xs\n",
    "    grad_xs = Mc[0]\n",
    "\n",
    "    # Assembling te return value\n",
    "    # grad will contain the gradient of the final posvelm with respect to the throttles and the tof\n",
    "    grad = np.hstack((grad_u, grad_tof))\n",
    "    grad = np.vstack((grad, dm[-1][:, :-1]))\n",
    "    grad[-1, -1] = dm[-1][:, -1][0]\n",
    "    # grad_ic will contain the gradient of the final posvelm with respect to the initial posvelm\n",
    "    grad_ic = np.vstack((grad_xs, np.zeros((1, 6))))\n",
    "    grad_ic = np.hstack((grad_ic, np.zeros((7, 1))))\n",
    "    grad_ic[:6, -1:] = grad_ms\n",
    "    grad_ic[-1, -1] = dm[-1][:, -2][0]\n",
    "    return (grad, grad_ic)\n",
    "\n",
    "\n",
    "def gradients_fwd(xs, ys, zs, vxs, vys, vzs, ms, throttles_fwd, tof, veff):\n",
    "    return gradients_multiple_impulses(xs, ys, zs, vxs, vys, vzs, ms, throttles_fwd, tof, veff)\n",
    "\n",
    "\n",
    "def gradients_bck(xf, yf, zf, vxf, vyf, vzf, mf, throttles_bck, tof, veff):\n",
    "    throttles_bck_l = list(throttles_bck)\n",
    "    throttles_bck_l.reverse()\n",
    "    for i in range(int(len(throttles_bck_l) / 3)):\n",
    "        throttles_bck_l[3 * i : 3 * i + 3] = throttles_bck_l[3 * i : 3 * i + 3][::-1]\n",
    "\n",
    "    grad, grad_ic = gradients_multiple_impulses(xf, yf, zf, -vxf, -vyf, -vzf, mf, np.array(throttles_bck_l), tof, -veff)\n",
    "    grad_ic[3:6, :] *= -1\n",
    "    grad_ic[:, 3:6] *= -1\n",
    "    grad[3:6, :] *= -1\n",
    "    grad[:, :-1]*=-1\n",
    "\n",
    "    # Note that the throttles in xgrad are ordered in reverse. Before returning we must restore the forward order\n",
    "    grad[:, :-1] = np.flip(grad[:, :-1], axis=1)\n",
    "    for i in range(int(len(throttles_bck_l) / 3)):\n",
    "        grad[:, 3 * i : i * 3 + 3] = np.flip(grad[:, 3 * i : i * 3 + 3], axis=1)\n",
    "\n",
    "    # We return\n",
    "    return (grad, grad_ic)\n",
    "\n",
    "\n",
    "def grad_mc(rs, vs, ms, rf, vf, mf, throttles, tof):\n",
    "    grad_fwd, grad_ic_fwd = gradients_fwd(*rs, *vs, ms, np.array(throttles[: nseg_fwd * 3]), tof / nseg * nseg_fwd, veff)\n",
    "    grad_bck, grad_ic_bck = gradients_bck(*rf, *vf, mf, np.array(throttles[nseg_fwd * 3 :]), tof / nseg * nseg_bck, veff)\n",
    "    return (grad_fwd, grad_bck, grad_ic_bck)"
   ]
  },
  {
   "cell_type": "code",
   "execution_count": 18,
   "metadata": {},
   "outputs": [
    {
     "name": "stdout",
     "output_type": "stream",
     "text": [
      "220 μs ± 1.81 μs per loop (mean ± std. dev. of 7 runs, 1,000 loops each)\n"
     ]
    }
   ],
   "source": [
    "%%timeit\n",
    "grad_mc(list(rs),list(vs),ms,list(rf),list(vf),mf, throttles, tof)"
   ]
  },
  {
   "cell_type": "markdown",
   "metadata": {},
   "source": [
    "Let us perform the computation and check that is the same"
   ]
  },
  {
   "cell_type": "code",
   "execution_count": 19,
   "metadata": {},
   "outputs": [],
   "source": [
    "fwd, bck, ic_bck = grad_mc(list(rs),list(vs),ms,list(rf),list(vf),mf, throttles, tof)\n",
    "# This is the actual gradient to compare with the c++ code\n",
    "res = np.hstack((fwd[:,:-1], bck[:,:-1], fwd[:,-1:]*nseg_fwd/nseg - bck[:,-1:]*nseg_bck/nseg, ic_bck[:,-1:]))\n",
    "# This is without the last column mf\n",
    "res_no_hy = np.hstack((fwd[:,:-1], bck[:,:-1], fwd[:,-1:]*nseg_fwd/nseg - bck[:,-1:]*nseg_bck/nseg,))"
   ]
  },
  {
   "cell_type": "code",
   "execution_count": 20,
   "metadata": {},
   "outputs": [
    {
     "name": "stdout",
     "output_type": "stream",
     "text": [
      "Compare this to the result of the C++ code in the leg_sims_flanagan_test.cpp (grad_test):  [ 3.27858926e-02  9.23774757e-03 -6.27370268e-04  2.42975689e-02\n",
      " -5.16519045e-04  6.38519017e-04  1.02031523e-02 -1.58197319e-04\n",
      "  2.34809677e-05 -7.81363717e-03  4.77353349e-05 -2.14219032e-05\n",
      " -2.90780417e-02  3.56703937e-03 -9.91240785e-04 -2.92171589e-03\n",
      " -5.61091576e-06]\n"
     ]
    }
   ],
   "source": [
    "# In the C++ we have non dimensional units for the mc so we need to rescale the gradient too\n",
    "res[:3,:]/=pk.AU\n",
    "res[3:6,:]/=pk.EARTH_VELOCITY\n",
    "res[7:,:]/=1e8\n",
    "res[:, -2] = res[:, -2] * pk.DAY2SEC\n",
    "print(\"Compare this to the result of the C++ code in the leg_sims_flanagan_test.cpp (grad_test): \", res[0,:])"
   ]
  },
  {
   "cell_type": "markdown",
   "metadata": {},
   "source": [
    "Here we compare the heyoka to the numerical computations."
   ]
  },
  {
   "cell_type": "code",
   "execution_count": 21,
   "metadata": {},
   "outputs": [
    {
     "data": {
      "text/plain": [
       "array([[ 3.88881836e-16, -8.62618161e-16, -6.35083397e-15,\n",
       "         1.57421158e-15,  2.19843289e-14,  3.43197049e-15,\n",
       "         2.34299614e-15, -1.76300528e-14, -7.05245564e-14,\n",
       "        -2.03967721e-16,  8.35974007e-14,  6.56787841e-14,\n",
       "        -0.00000000e+00,  2.79245895e-15,  6.23027515e-15,\n",
       "        -3.59567572e-16],\n",
       "       [ 1.32469822e-15,  9.58542907e-16,  1.38949418e-15,\n",
       "        -7.77650104e-14,  8.83208958e-16,  3.14926601e-15,\n",
       "        -4.74314201e-14,  1.05132106e-15,  1.61431258e-14,\n",
       "        -6.12423716e-15, -0.00000000e+00,  5.38695304e-15,\n",
       "         4.32155119e-16, -4.25460174e-16, -1.74935833e-16,\n",
       "         1.83421533e-14],\n",
       "       [ 2.41725018e-15,  1.62513618e-15, -5.55242706e-16,\n",
       "        -6.46724494e-15,  2.29024779e-15,  1.30505730e-16,\n",
       "        -9.74267754e-14,  1.04130477e-14,  7.84480153e-16,\n",
       "         5.06696393e-14, -4.42022831e-14, -2.04039306e-16,\n",
       "         7.69899046e-16, -4.55402714e-15, -4.73758448e-16,\n",
       "        -4.29941981e-15],\n",
       "       [-2.20526621e-14,  7.47781343e-15,  3.03920985e-15,\n",
       "        -8.22795541e-16,  4.85565320e-15,  1.76808162e-15,\n",
       "        -4.25166566e-16,  4.56319489e-15,  6.43070776e-15,\n",
       "         0.00000000e+00,  1.29882001e-15,  0.00000000e+00,\n",
       "         1.16532792e-16, -0.00000000e+00,  4.25277845e-16,\n",
       "         2.75332118e-15],\n",
       "       [ 4.78922381e-16,  1.00092170e-15,  1.18966354e-15,\n",
       "         5.33025025e-16,  9.50773852e-16,  2.55848062e-15,\n",
       "        -6.58837381e-15,  3.81007823e-16,  5.16400600e-15,\n",
       "        -2.20399702e-15,  1.33039695e-16, -1.27413491e-16,\n",
       "         1.78191496e-16, -3.89227898e-16, -7.33886643e-16,\n",
       "         3.91125401e-16],\n",
       "       [ 2.32956201e-15,  1.51763848e-15, -6.28829043e-15,\n",
       "         0.00000000e+00,  2.60907445e-15, -1.03849263e-15,\n",
       "        -4.11361291e-15,  3.17132494e-15, -2.16638528e-16,\n",
       "        -7.24579470e-16,  3.82267692e-16,  0.00000000e+00,\n",
       "         3.82938292e-16, -1.22749309e-15, -1.33274618e-16,\n",
       "         2.04468237e-16],\n",
       "       [-3.52640886e-16, -3.20582624e-16, -4.40801108e-16,\n",
       "        -0.00000000e+00,  1.64507307e-16,  1.53540154e-16,\n",
       "        -5.41323284e-16, -5.09480738e-16, -4.81176252e-16,\n",
       "        -2.61122875e-16, -1.24033365e-16, -1.18127015e-16,\n",
       "        -0.00000000e+00, -2.35968223e-16, -2.26136214e-16,\n",
       "        -3.63856554e-16]])"
      ]
     },
     "execution_count": 21,
     "metadata": {},
     "output_type": "execute_result"
    }
   ],
   "source": [
    "(res_no_hy-mcg_th_tof_hy)/mcg_th_tof_hy"
   ]
  }
 ],
 "metadata": {
  "kernelspec": {
   "display_name": "kep3_devel",
   "language": "python",
   "name": "python3"
  },
  "language_info": {
   "codemirror_mode": {
    "name": "ipython",
    "version": 3
   },
   "file_extension": ".py",
   "mimetype": "text/x-python",
   "name": "python",
   "nbconvert_exporter": "python",
   "pygments_lexer": "ipython3",
   "version": "3.11.9"
  }
 },
 "nbformat": 4,
 "nbformat_minor": 2
}
