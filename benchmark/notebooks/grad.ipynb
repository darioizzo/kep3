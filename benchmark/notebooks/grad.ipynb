{
 "cells": [
  {
   "cell_type": "markdown",
   "metadata": {},
   "source": [
    "# The Sims-Flanagan gradients\n",
    "This notebook is the result of a few days of blood shed with manual derivatives assembly. \n",
    "It benchmarks a python version of the computation of a sims-flanagan forward only leg and the same done using heyoka."
   ]
  },
  {
   "cell_type": "code",
   "execution_count": 2,
   "metadata": {},
   "outputs": [],
   "source": [
    "import heyoka as hy\n",
    "import numpy as np\n",
    "import pykep as pk\n",
    "\n",
    "from numba import njit"
   ]
  },
  {
   "cell_type": "markdown",
   "metadata": {},
   "source": [
    "## Problem data"
   ]
  },
  {
   "cell_type": "code",
   "execution_count": 37,
   "metadata": {},
   "outputs": [],
   "source": [
    "# Problem data\n",
    "mu = pk.MU_SUN\n",
    "max_thrust = np.random.random()\n",
    "isp = 3000.0*np.random.random()\n",
    "veff = isp * 9.80665\n",
    "\n",
    "# Initial state\n",
    "ms = 1500.0 * np.random.random()\n",
    "rs = np.array([1, 0.1, -0.1]) * pk.AU\n",
    "vs = np.array([0.2, 1, -0.2]) * pk.EARTH_VELOCITY\n",
    "\n",
    "# Variables\n",
    "nseg = 5\n",
    "tof = 324.0 * pk.DAY2SEC * (np.random.random() + 1)\n",
    "throttles = (0.5-np.random.random(3*nseg))\n",
    "\n",
    "# C++ test\n",
    "ms = 1500.0\n",
    "rs = np.array([1, 0.1, -0.1]) * pk.AU\n",
    "vs = np.array([0.2, 1, -0.2]) * pk.EARTH_VELOCITY\n",
    "throttles = np.array([0.01] * 3 * nseg)\n",
    "tof = 324.0 * pk.DAY2SEC\n",
    "max_thrust = 0.01\n",
    "isp = 3000\n",
    "veff = isp * 9.80665\n"
   ]
  },
  {
   "cell_type": "code",
   "execution_count": 38,
   "metadata": {},
   "outputs": [
    {
     "data": {
      "text/plain": [
       "27993600.0"
      ]
     },
     "execution_count": 38,
     "metadata": {},
     "output_type": "execute_result"
    }
   ],
   "source": [
    "tof"
   ]
  },
  {
   "cell_type": "markdown",
   "metadata": {},
   "source": [
    "## The forward computation"
   ]
  },
  {
   "cell_type": "code",
   "execution_count": 35,
   "metadata": {},
   "outputs": [],
   "source": [
    "# The dynamics\n",
    "def dyn(r, v, mu):\n",
    "    R3 = np.linalg.norm(r) ** 3\n",
    "    f = [v[0], v[1], v[2], -mu / R3 * r[0], -mu / R3 * r[1], -mu / R3 * r[2]]\n",
    "    return np.array(f).reshape(-1, 1)"
   ]
  },
  {
   "cell_type": "code",
   "execution_count": 36,
   "metadata": {},
   "outputs": [],
   "source": [
    "# This is the main computation to be ported in C++. Manual assembly of the gradients.\n",
    "xs, ys, zs, vxs, vys, vzs, ms, throttles, tof = rs[0], rs[1], rs[2], vs[0], vs[1], vs[2], ms, throttles, tof\n",
    "nseg = int(throttles.shape[0] / 3)\n",
    "c = max_thrust * tof / nseg\n",
    "a = 1. / veff\n",
    "dt = tof / nseg\n",
    "m0=ms\n",
    "# We define the indepedent variables\n",
    "u = []\n",
    "du = []\n",
    "m = [m0]\n",
    "for i in range(nseg):\n",
    "    u.append(np.array(throttles[i*3:i*3+3]).reshape(1,3))\n",
    "    du.append(np.zeros((3, 3*nseg+2)))\n",
    "    du[i][:, 3*i:3*i+3] = np.eye(3)\n",
    "dm = [np.hstack((np.zeros((1, 3*nseg)), np.eye(1), np.zeros((1, 1))))]\n",
    "dtof = np.hstack((np.zeros((1, 3*nseg+1)), np.eye(1)))\n",
    "Dv = []\n",
    "dDv = []\n",
    "\n",
    "# 1 - We compute the mass schedule and related quantities\n",
    "for i in range(nseg):\n",
    "    Dv.append(c / m[i] * u[i])\n",
    "    un = np.sqrt(u[i][0][0]**2+u[i][0][1]**2+u[i][0][2]**2)\n",
    "    Dvn = c / m[i] * un\n",
    "    dDv.append(c / m[i] * du[i] - c / m[i]**2 * u[i].T@dm[i] + max_thrust / m[i] * u[i].T@dtof / nseg)\n",
    "    dDvn = c / m[i] / un * u[i] @ du[i] - c / m[i]**2 * un * dm[i] + max_thrust / m[i] * un * dtof / nseg\n",
    "    m.append(m[i] * np.exp(-Dvn * a))\n",
    "    dm.append(-m[i+1] * a * dDvn + np.exp(-Dvn * a) * dm[i])\n",
    "\n",
    "M=[]\n",
    "f=[]\n",
    "rv_it = [[xs, ys,zs],[vxs,vys,vzs]]\n",
    "tofs = [dt]*(nseg+1)\n",
    "tofs[0]/=2.\n",
    "tofs[-1]/=2.\n",
    "\n",
    "# 2 - We compute the state transition matrices\n",
    "for i in range(nseg+1):\n",
    "    rv_it, M_it = pk.propagate_lagrangian(\n",
    "        rv=rv_it, tof=tofs[i], mu=mu, stm=True)\n",
    "    M.append(M_it)\n",
    "    #We compute f\n",
    "    r = rv_it[0]\n",
    "    f.append(dyn(r, rv_it[1], mu))\n",
    "    #And add the impulse if needed\n",
    "    if i<nseg:\n",
    "        rv_it[1] = [a + b for a, b in zip(rv_it[1], Dv[i].flatten())]\n",
    "\n",
    "\n",
    "# 3 - We assemble the gradients\n",
    "Iv = np.diag((0, 0, 0, 1, 1, 1))[:, 3:]\n",
    "# Mc will contain [Mn@..@M0,Mn@..@M1, Mn]\n",
    "Mc=[0]*(nseg+1)\n",
    "Mc[-1] = M[-1]\n",
    "for i in range(1, len(M)):\n",
    "    Mc[-1-i] = Mc[-1-i+1]@M[-1-i]\n",
    "# grad_tof \n",
    "grad_tof = 0.5 * f[-1]\n",
    "for i in range(nseg-1):\n",
    "    grad_tof+= Mc[i+2]@f[i+1]\n",
    "grad_tof+= 0.5 * Mc[1]@f[0]\n",
    "grad_tof/=nseg\n",
    "for i in range(nseg):\n",
    "    grad_tof+=Mc[i+1]@Iv@dDv[i][:, -1:]\n",
    "\n",
    "# grad u\n",
    "grad_u=0\n",
    "for i in range(nseg):\n",
    "    grad_u += Mc[i+1]@Iv@dDv[i][:, :-2]\n",
    "\n",
    "# grad ms\n",
    "grad_ms=0\n",
    "for i in range(nseg):\n",
    "    grad_ms += Mc[i+1]@Iv@dDv[i][:, -2:-1]\n",
    "\n",
    "# grad xs\n",
    "grad_xs = Mc[0]\n",
    "\n",
    "# Assembling te return value\n",
    "# grad will contain the gradient of the final posvelm with respect to the throttles and the tof\n",
    "grad = np.hstack((grad_u, grad_tof))\n",
    "grad = np.vstack((grad, dm[-1][:,:-1]))\n",
    "grad[-1,-1] = dm[-1][:,-1][0]\n",
    "# grad_ic will contain the gradient of the final posvelm with respect to the initial posvelm\n",
    "grad_ic = np.vstack((grad_xs, np.zeros((1,6))))\n",
    "grad_ic = np.hstack((grad_ic, np.zeros((7,1))))\n",
    "grad_ic[:6,-1:] = grad_ms\n",
    "grad_ic[-1,-1] = dm[-1][:,-2][0]\n"
   ]
  },
  {
   "cell_type": "code",
   "execution_count": 6,
   "metadata": {},
   "outputs": [
    {
     "data": {
      "text/plain": [
       "6"
      ]
     },
     "execution_count": 6,
     "metadata": {},
     "output_type": "execute_result"
    }
   ],
   "source": [
    "len(m)"
   ]
  },
  {
   "cell_type": "code",
   "execution_count": 7,
   "metadata": {},
   "outputs": [],
   "source": [
    "# This is the main computation to be ported in C++. Manual assembly of the gradients.\n",
    "def manual(xs, ys, zs, vxs, vys, vzs, ms, throttles, tof): \n",
    "    nseg = int(throttles.shape[0] / 3)\n",
    "    c = max_thrust * tof / nseg\n",
    "    a = 1. / veff\n",
    "    dt = tof / nseg\n",
    "    m0=ms\n",
    "    # We define the indepedent variables\n",
    "    u = []\n",
    "    un = []\n",
    "    du = []\n",
    "    m = [m0]\n",
    "    for i in range(nseg):\n",
    "        u.append(np.array(throttles[i*3:i*3+3]).reshape(1,3))\n",
    "        du.append(np.zeros((3, 3*nseg+2)))\n",
    "        du[i][:, 3*i:3*i+3] = np.eye(3)\n",
    "    dm = [np.hstack((np.zeros((1, 3*nseg)), np.eye(1), np.zeros((1, 1))))]\n",
    "    dtof = np.hstack((np.zeros((1, 3*nseg+1)), np.eye(1)))\n",
    "    Dv = []\n",
    "    dDv = []\n",
    "\n",
    "    # 1 - We compute the mass schedule and related quantities\n",
    "    for i in range(nseg):\n",
    "        Dv.append(c / m[i] * u[i])\n",
    "        un = np.sqrt(u[i][0][0]**2+u[i][0][1]**2+u[i][0][2]**2)\n",
    "        Dvn = c / m[i] * un\n",
    "        dDv.append(c / m[i] * du[i] - c / m[i]**2 * u[i].T@dm[i] + max_thrust / m[i] * u[i].T@dtof / nseg)\n",
    "        dDvn = c / m[i] / un * u[i] @ du[i] - c / m[i]**2 * un * dm[i] + max_thrust / m[i] * un * dtof / nseg\n",
    "        m.append(m[i] * np.exp(-Dvn * a))\n",
    "        dm.append(-m[i+1] * a * dDvn + np.exp(-Dvn * a) * dm[i])\n",
    "\n",
    "    M=[]\n",
    "    f=[]\n",
    "    rv_it = [[xs, ys,zs],[vxs,vys,vzs]]\n",
    "    tofs = [dt]*(nseg+1)\n",
    "    tofs[0]/=2.\n",
    "    tofs[-1]/=2.\n",
    "\n",
    "    # 2 - We compute the state transition matrices\n",
    "    for i in range(nseg+1):\n",
    "        rv_it, M_it = pk.propagate_lagrangian(\n",
    "            rv=rv_it, tof=tofs[i], mu=mu, stm=True)\n",
    "        M.append(M_it)\n",
    "        #We compute f\n",
    "        r = rv_it[0]\n",
    "        f.append(dyn(r, rv_it[1], mu))\n",
    "        #And add the impulse if needed\n",
    "        if i<nseg:\n",
    "            rv_it[1] = [a + b for a, b in zip(rv_it[1], Dv[i].flatten())]\n",
    "\n",
    "\n",
    "    # 3 - We assemble the gradients\n",
    "    Iv = np.diag((0, 0, 0, 1, 1, 1))[:, 3:]\n",
    "    # Mc will contain [Mn@..@M0,Mn@..@M1, Mn]\n",
    "    Mc=[0]*(nseg+1)\n",
    "    Mc[-1] = M[-1]\n",
    "    for i in range(1, len(M)):\n",
    "        Mc[-1-i] = Mc[-1-i+1]@M[-1-i]\n",
    "    # grad_tof \n",
    "    grad_tof = 0.5 * f[-1]\n",
    "    for i in range(nseg-1):\n",
    "        grad_tof+= Mc[i+2]@f[i+1]\n",
    "    grad_tof+= 0.5 * Mc[1]@f[0]\n",
    "    grad_tof/=nseg\n",
    "    for i in range(nseg):\n",
    "        grad_tof+=Mc[i+1]@Iv@dDv[i][:, -1:]\n",
    "\n",
    "    # grad u\n",
    "    grad_u=0\n",
    "    for i in range(nseg):\n",
    "        grad_u += Mc[i+1]@Iv@dDv[i][:, :-2]\n",
    "\n",
    "    # grad ms\n",
    "    grad_ms=0\n",
    "    for i in range(nseg):\n",
    "        grad_ms += Mc[i+1]@Iv@dDv[i][:, -2:-1]\n",
    "\n",
    "    # grad xs\n",
    "    grad_xs = Mc[0]\n",
    "\n",
    "    # Assembling te return value\n",
    "    # grad will contain the gradient of the final posvelm with respect to the throttles and the tof\n",
    "    grad = np.hstack((grad_u, grad_tof))\n",
    "    grad = np.vstack((grad, dm[-1][:,:-1]))\n",
    "    grad[-1,-1] = dm[-1][:,-1][0]\n",
    "    # grad_ic will contain the gradient of the final posvelm with respect to the initial posvelm\n",
    "    grad_ic = np.vstack((grad_xs, np.zeros((1,6))))\n",
    "    grad_ic = np.hstack((grad_ic, np.zeros((7,1))))\n",
    "    grad_ic[:6,-1:] = grad_ms\n",
    "    grad_ic[-1,-1] = dm[-1][:,-2][0]\n",
    "    return (grad, grad_ic)"
   ]
  },
  {
   "cell_type": "code",
   "execution_count": 8,
   "metadata": {},
   "outputs": [
    {
     "name": "stdout",
     "output_type": "stream",
     "text": [
      "663 µs ± 24.6 µs per loop (mean ± std. dev. of 7 runs, 1,000 loops each)\n"
     ]
    }
   ],
   "source": [
    "%%timeit\n",
    "grad, grad_ic = manual(rs[0], rs[1], rs[2], vs[0], vs[1], vs[2], ms, throttles, tof)"
   ]
  },
  {
   "cell_type": "code",
   "execution_count": 9,
   "metadata": {},
   "outputs": [],
   "source": [
    "grad, grad_ic = manual(rs[0], rs[1], rs[2], vs[0], vs[1], vs[2], ms, throttles, tof)"
   ]
  },
  {
   "cell_type": "markdown",
   "metadata": {},
   "source": [
    "# Test with heyoka\n",
    "We compile the same function bu using heyoka"
   ]
  },
  {
   "cell_type": "code",
   "execution_count": 10,
   "metadata": {},
   "outputs": [],
   "source": [
    "def propagate_lagrangian_heyoka(pos_0, vel_0, mu, tof):\n",
    "    x0, y0, z0 = pos_0\n",
    "    vx0, vy0, vz0 = vel_0\n",
    "    v02 = vx0**2 + vy0**2 + vz0**2\n",
    "    r0 = hy.sqrt(x0**2 + y0**2 + z0**2)\n",
    "    eps = v02 * 0.5 - mu / r0\n",
    "    a = -mu / (2.0 * eps)\n",
    "\n",
    "    sigma0 = np.dot(pos_0, vel_0) / np.sqrt(mu)\n",
    "    s0 = sigma0 / hy.sqrt(a)\n",
    "    c0 = 1.0 - r0 / a\n",
    "\n",
    "    n = hy.sqrt(mu / (a * a * a))\n",
    "    DM = n * tof\n",
    "\n",
    "    DE = hy.kepDE(s0, c0, DM)\n",
    "\n",
    "    # Compute cos(DE) and sin(DE).\n",
    "    cDE = hy.cos(DE)\n",
    "    sDE = hy.sin(DE)\n",
    "\n",
    "    r = a + (r0 - a) * cDE + sigma0 * hy.sqrt(a) * sDE\n",
    "\n",
    "    F = 1.0 - a / r0 * (1.0 - cDE)\n",
    "    G = a * sigma0 / np.sqrt(mu) * (1.0 - cDE) + r0 * hy.sqrt(a / mu) * sDE\n",
    "    Ft = -hy.sqrt(mu * a) / (r * r0) * sDE\n",
    "    Gt = 1 - a / r * (1.0 - cDE)\n",
    "\n",
    "    pos = F * pos_0 + G * vel_0\n",
    "    vel = Ft * pos_0 + Gt * vel_0\n",
    "\n",
    "    return [pos, vel]\n",
    "\n",
    "def ground_truth(xs, ys, zs, vxs, vys, vzs, ms, throttles_vars, tof):\n",
    "    nseg = int(len(throttles) / 3)\n",
    "    dt = tof / nseg\n",
    "    c = max_thrust * dt\n",
    "    \n",
    "    pos = np.array([xs, ys, zs])\n",
    "    vel = np.array([vxs, vys, vzs])\n",
    "    m=ms\n",
    "\n",
    "    for i in range(nseg):\n",
    "        ux, uy, uz = throttles_vars[3*i:3*i+3]\n",
    "        if i == 0:\n",
    "            pos, vel = propagate_lagrangian_heyoka(pos, vel, mu, dt/2)\n",
    "        else:\n",
    "            pos, vel = propagate_lagrangian_heyoka(pos, vel, mu, dt)  \n",
    "        vel = vel + np.array([ux, uy, uz]) * c / m\n",
    "        m = m * hy.exp(-hy.sqrt(ux**2+uy**2+uz**2) * c / veff / m)\n",
    "    # 4\n",
    "    pos, vel = propagate_lagrangian_heyoka(pos, vel, mu, dt/2)\n",
    "    retval = np.hstack([pos, vel, m])\n",
    "    return retval"
   ]
  },
  {
   "cell_type": "code",
   "execution_count": 11,
   "metadata": {},
   "outputs": [],
   "source": [
    "# The symbolic variables\n",
    "xs_var, ys_var, zs_var = hy.make_vars(\"xs\", \"ys\", \"zs\")\n",
    "vxs_var, vys_var, vzs_var = hy.make_vars(\"vxs\", \"vys\", \"vzs\")\n",
    "ms_var, = hy.make_vars(\"ms\")\n",
    "tof_var, = hy.make_vars(\"t\")\n",
    "throttles_symbols = []\n",
    "for i in range(nseg):\n",
    "    throttles_symbols.extend([\"ux\"+str(i), \"uy\"+str(i), \"uz\"+str(i)])\n",
    "throttles_vars = hy.make_vars(*throttles_symbols)"
   ]
  },
  {
   "cell_type": "code",
   "execution_count": 12,
   "metadata": {},
   "outputs": [],
   "source": [
    "# Here we compile the two functions for the two gradients\n",
    "xf = ground_truth(xs_var, ys_var, zs_var, vxs_var, vys_var, vzs_var, ms_var, throttles_vars, tof_var)\n",
    "\n",
    "dtens_ic = hy.diff_tensors(xf,\n",
    "                    diff_args=[xs_var, ys_var, zs_var, vxs_var, vys_var, vzs_var, ms_var],\n",
    "                    diff_order=1\n",
    "                    )\n",
    "dtens = hy.diff_tensors(xf,\n",
    "                    diff_args=[*throttles_vars, tof_var],\n",
    "                    diff_order=1\n",
    "                    )\n",
    "jac_ic = dtens_ic.jacobian   \n",
    "jac = dtens.jacobian   \n",
    "\n",
    "d_cf = hy.make_cfunc(jac.flatten(),\n",
    "                       # Specify the order in which the input\n",
    "                       # variables are passed to the compiled\n",
    "                       # function.\n",
    "                       vars=[xs_var, ys_var, zs_var, vxs_var, vys_var, vzs_var, ms_var, *throttles_vars, tof_var])\n",
    "\n",
    "d_cf_ic = hy.make_cfunc(jac_ic.flatten(),\n",
    "                       # Specify the order in which the input\n",
    "                       # variables are passed to the compiled\n",
    "                       # function.\n",
    "                       vars=[xs_var, ys_var, zs_var, vxs_var, vys_var, vzs_var, ms_var, *throttles_vars, tof_var])\n"
   ]
  },
  {
   "cell_type": "code",
   "execution_count": 13,
   "metadata": {},
   "outputs": [
    {
     "name": "stdout",
     "output_type": "stream",
     "text": [
      "18.2 µs ± 157 ns per loop (mean ± std. dev. of 7 runs, 100,000 loops each)\n"
     ]
    }
   ],
   "source": [
    "%%timeit\n",
    "analytical_grad_ic = d_cf_ic([rs[0], rs[1], rs[2], vs[0], vs[1], vs[2], ms] + throttles.tolist() + [tof])\n",
    "analytical_grad = d_cf([rs[0], rs[1], rs[2], vs[0], vs[1], vs[2], ms] + throttles.tolist() + [tof])"
   ]
  },
  {
   "cell_type": "code",
   "execution_count": 14,
   "metadata": {},
   "outputs": [],
   "source": [
    "analytical_grad_ic = d_cf_ic([rs[0], rs[1], rs[2], vs[0], vs[1], vs[2], ms] + throttles.tolist() + [tof])\n",
    "analytical_grad = d_cf([rs[0], rs[1], rs[2], vs[0], vs[1], vs[2], ms] + throttles.tolist() + [tof])"
   ]
  },
  {
   "cell_type": "code",
   "execution_count": 15,
   "metadata": {},
   "outputs": [],
   "source": [
    "## Lets check the difference in he values computed is zero / small"
   ]
  },
  {
   "cell_type": "code",
   "execution_count": 16,
   "metadata": {},
   "outputs": [
    {
     "data": {
      "text/plain": [
       "array([[            nan,             nan,             nan,\n",
       "                    nan,             nan,             nan,\n",
       "                    nan,             nan,             nan,\n",
       "                    nan,             nan,             nan,\n",
       "                    nan,             nan,             nan,\n",
       "                    nan],\n",
       "       [            nan,             nan,             nan,\n",
       "                    nan,             nan,             nan,\n",
       "                    nan,             nan,             nan,\n",
       "                    nan,             nan,             nan,\n",
       "                    nan,             nan,             nan,\n",
       "                    nan],\n",
       "       [            nan,             nan,             nan,\n",
       "                    nan,             nan,             nan,\n",
       "                    nan,             nan,             nan,\n",
       "                    nan,             nan,             nan,\n",
       "                    nan,             nan,             nan,\n",
       "                    nan],\n",
       "       [            nan,             nan,             nan,\n",
       "                    nan,             nan,             nan,\n",
       "                    nan,             nan,             nan,\n",
       "                    nan,             nan,             nan,\n",
       "                    nan,             nan,             nan,\n",
       "                    nan],\n",
       "       [            nan,             nan,             nan,\n",
       "                    nan,             nan,             nan,\n",
       "                    nan,             nan,             nan,\n",
       "                    nan,             nan,             nan,\n",
       "                    nan,             nan,             nan,\n",
       "                    nan],\n",
       "       [            nan,             nan,             nan,\n",
       "                    nan,             nan,             nan,\n",
       "                    nan,             nan,             nan,\n",
       "                    nan,             nan,             nan,\n",
       "                    nan,             nan,             nan,\n",
       "                    nan],\n",
       "       [-6.61995499e-15, -6.59775734e-15, -6.80815674e-15,\n",
       "        -6.68659617e-15, -6.56634052e-15, -6.64422889e-15,\n",
       "        -7.23845654e-15, -7.25260747e-15, -7.55510169e-15,\n",
       "        -7.00505577e-15, -7.11482988e-15, -7.04574087e-15,\n",
       "        -7.15334227e-15, -7.21621834e-15, -7.13355812e-15,\n",
       "        -7.10330029e-15]])"
      ]
     },
     "execution_count": 16,
     "metadata": {},
     "output_type": "execute_result"
    }
   ],
   "source": [
    "(analytical_grad.reshape(7,-1)-grad)/grad"
   ]
  },
  {
   "cell_type": "code",
   "execution_count": 17,
   "metadata": {},
   "outputs": [
    {
     "name": "stderr",
     "output_type": "stream",
     "text": [
      "/tmp/ipykernel_2060112/645163605.py:1: RuntimeWarning: invalid value encountered in divide\n",
      "  (analytical_grad_ic.reshape(7,-1)-grad_ic)/grad_ic\n"
     ]
    },
    {
     "data": {
      "text/plain": [
       "array([[            nan,             nan,             nan,\n",
       "                    nan,             nan,             nan,\n",
       "                    nan],\n",
       "       [            nan,             nan,             nan,\n",
       "                    nan,             nan,             nan,\n",
       "                    nan],\n",
       "       [            nan,             nan,             nan,\n",
       "                    nan,             nan,             nan,\n",
       "                    nan],\n",
       "       [            nan,             nan,             nan,\n",
       "                    nan,             nan,             nan,\n",
       "                    nan],\n",
       "       [            nan,             nan,             nan,\n",
       "                    nan,             nan,             nan,\n",
       "                    nan],\n",
       "       [            nan,             nan,             nan,\n",
       "                    nan,             nan,             nan,\n",
       "                    nan],\n",
       "       [            nan,             nan,             nan,\n",
       "                    nan,             nan,             nan,\n",
       "        -7.24043758e-15]])"
      ]
     },
     "execution_count": 17,
     "metadata": {},
     "output_type": "execute_result"
    }
   ],
   "source": [
    "(analytical_grad_ic.reshape(7,-1)-grad_ic)/grad_ic"
   ]
  }
 ],
 "metadata": {
  "kernelspec": {
   "display_name": "kep3_devel",
   "language": "python",
   "name": "python3"
  },
  "language_info": {
   "codemirror_mode": {
    "name": "ipython",
    "version": 3
   },
   "file_extension": ".py",
   "mimetype": "text/x-python",
   "name": "python",
   "nbconvert_exporter": "python",
   "pygments_lexer": "ipython3",
   "version": "3.11.6"
  }
 },
 "nbformat": 4,
 "nbformat_minor": 2
}
