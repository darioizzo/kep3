{
 "cells": [
  {
   "cell_type": "markdown",
   "metadata": {},
   "source": [
    "# The Sims-Flanagan gradients\n",
    "This notebook is the result of a few days of blood shed with manual derivatives assembly. \n",
    "It benchmarks a python version of the computation of a sims-flanagan forward only leg and the same done using heyoka."
   ]
  },
  {
   "cell_type": "code",
   "execution_count": 1,
   "metadata": {},
   "outputs": [],
   "source": [
    "import heyoka as hy\n",
    "import numpy as np\n",
    "import pykep as pk\n",
    "\n",
    "from numba import njit"
   ]
  },
  {
   "cell_type": "markdown",
   "metadata": {},
   "source": [
    "## Problem data"
   ]
  },
  {
   "cell_type": "code",
   "execution_count": 2,
   "metadata": {},
   "outputs": [],
   "source": [
    "# Problem data\n",
    "mu = pk.MU_SUN\n",
    "max_thrust = np.random.random()\n",
    "isp = 3000.0*np.random.random()\n",
    "veff = isp * 9.80665\n",
    "\n",
    "# Initial state\n",
    "ms = 1500.0 * np.random.random()\n",
    "rs = np.array([1, 0.1, -0.1]) * pk.AU\n",
    "vs = np.array([0.2, 1, -0.2]) * pk.EARTH_VELOCITY\n",
    "\n",
    "# Variables\n",
    "nseg = 5\n",
    "tof = 324.0 * pk.DAY2SEC * (np.random.random() + 1)\n",
    "throttles = (0.5-np.random.random(3*nseg))\n",
    "\n",
    "# C++ test\n",
    "ms = 1500.0\n",
    "rs = np.array([1, 0.1, -0.1]) * pk.AU\n",
    "vs = np.array([0.2, 1, -0.2]) * pk.EARTH_VELOCITY\n",
    "throttles = np.array([0.01] * 3 * nseg)\n",
    "tof = 324.0 * pk.DAY2SEC\n",
    "max_thrust = 0.01\n",
    "isp = 3000\n",
    "veff = isp * 9.80665\n"
   ]
  },
  {
   "cell_type": "markdown",
   "metadata": {},
   "source": [
    "## The forward computation"
   ]
  },
  {
   "cell_type": "code",
   "execution_count": 3,
   "metadata": {},
   "outputs": [],
   "source": [
    "# The dynamics\n",
    "def dyn(r, v, mu):\n",
    "    R3 = np.linalg.norm(r) ** 3\n",
    "    f = [v[0], v[1], v[2], -mu / R3 * r[0], -mu / R3 * r[1], -mu / R3 * r[2]]\n",
    "    return np.array(f).reshape(-1, 1)"
   ]
  },
  {
   "cell_type": "code",
   "execution_count": 4,
   "metadata": {},
   "outputs": [],
   "source": [
    "# This is the main computation to be ported in C++. Manual assembly of the gradients.\n",
    "xs, ys, zs, vxs, vys, vzs, ms, throttles, tof = rs[0], rs[1], rs[2], vs[0], vs[1], vs[2], ms, throttles, tof\n",
    "nseg = int(throttles.shape[0] / 3)\n",
    "c = max_thrust * tof / nseg\n",
    "a = 1. / veff\n",
    "dt = tof / nseg\n",
    "m0=ms\n",
    "# We define the indepedent variables\n",
    "u = []\n",
    "du = []\n",
    "m = [m0]\n",
    "for i in range(nseg):\n",
    "    u.append(np.array(throttles[i*3:i*3+3]).reshape(1,3))\n",
    "    du.append(np.zeros((3, 3*nseg+2)))\n",
    "    du[i][:, 3*i:3*i+3] = np.eye(3)\n",
    "dm = [np.hstack((np.zeros((1, 3*nseg)), np.eye(1), np.zeros((1, 1))))]\n",
    "dtof = np.hstack((np.zeros((1, 3*nseg+1)), np.eye(1)))\n",
    "Dv = []\n",
    "dDv = []\n",
    "\n",
    "# 1 - We compute the mass schedule and related quantities\n",
    "for i in range(nseg):\n",
    "    Dv.append(c / m[i] * u[i])\n",
    "    un = np.sqrt(u[i][0][0]**2+u[i][0][1]**2+u[i][0][2]**2)\n",
    "    Dvn = c / m[i] * un\n",
    "    dDv.append(c / m[i] * du[i] - c / m[i]**2 * u[i].T@dm[i] + max_thrust / m[i] * u[i].T@dtof / nseg)\n",
    "    dDvn = c / m[i] / un * u[i] @ du[i] - c / m[i]**2 * un * dm[i] + max_thrust / m[i] * un * dtof / nseg\n",
    "    m.append(m[i] * np.exp(-Dvn * a))\n",
    "    dm.append(-m[i+1] * a * dDvn + np.exp(-Dvn * a) * dm[i])\n",
    "\n",
    "M=[]\n",
    "f=[]\n",
    "rv_it = [[xs, ys,zs],[vxs,vys,vzs]]\n",
    "tofs = [dt]*(nseg+1)\n",
    "tofs[0]/=2.\n",
    "tofs[-1]/=2.\n",
    "\n",
    "# 2 - We compute the state transition matrices\n",
    "for i in range(nseg+1):\n",
    "    rv_it, M_it = pk.propagate_lagrangian(\n",
    "        rv=rv_it, tof=tofs[i], mu=mu, stm=True)\n",
    "    M.append(M_it)\n",
    "    #We compute f\n",
    "    r = rv_it[0]\n",
    "    f.append(dyn(r, rv_it[1], mu))\n",
    "    #And add the impulse if needed\n",
    "    if i<nseg:\n",
    "        rv_it[1] = [a + b for a, b in zip(rv_it[1], Dv[i].flatten())]\n",
    "\n",
    "\n",
    "# 3 - We assemble the gradients\n",
    "Iv = np.diag((0, 0, 0, 1, 1, 1))[:, 3:]\n",
    "# Mc will contain [Mn@..@M0,Mn@..@M1, Mn]\n",
    "Mc=[0]*(nseg+1)\n",
    "Mc[-1] = M[-1]\n",
    "for i in range(1, len(M)):\n",
    "    Mc[-1-i] = Mc[-1-i+1]@M[-1-i]\n",
    "# grad_tof \n",
    "grad_tof = 0.5 * f[-1]\n",
    "for i in range(nseg-1):\n",
    "    grad_tof+= Mc[i+2]@f[i+1]\n",
    "grad_tof+= 0.5 * Mc[1]@f[0]\n",
    "grad_tof/=nseg\n",
    "for i in range(nseg):\n",
    "    grad_tof+=Mc[i+1]@Iv@dDv[i][:, -1:]\n",
    "\n",
    "# grad u\n",
    "grad_u=0\n",
    "for i in range(nseg):\n",
    "    grad_u += Mc[i+1]@Iv@dDv[i][:, :-2]\n",
    "\n",
    "# grad ms\n",
    "grad_ms=0\n",
    "for i in range(nseg):\n",
    "    grad_ms += (Mc[i+1]@Iv)@dDv[i][:, -2:-1]\n",
    "\n",
    "# grad xs\n",
    "grad_xs = Mc[0]\n",
    "\n",
    "# Assembling the return value\n",
    "# grad will contain the gradient of the final posvelm with respect to the throttles and the tof\n",
    "grad = np.hstack((grad_u, grad_tof))\n",
    "grad = np.vstack((grad, dm[-1][:,:-1]))\n",
    "grad[-1,-1] = dm[-1][:,-1][0]\n",
    "# grad_ic will contain the gradient of the final posvelm with respect to the initial posvelm\n",
    "grad_ic = np.vstack((grad_xs, np.zeros((1,6))))\n",
    "grad_ic = np.hstack((grad_ic, np.zeros((7,1))))\n",
    "grad_ic[:6,-1:] = grad_ms\n",
    "grad_ic[-1,-1] = dm[-1][:,-2][0]\n"
   ]
  },
  {
   "cell_type": "code",
   "execution_count": 22,
   "metadata": {},
   "outputs": [
    {
     "data": {
      "text/plain": [
       "array([[-1.97130266e+01, -3.03035109e+00,  2.11700403e+00,\n",
       "        -2.97365302e+07, -1.09788233e+08,  2.24141894e+07,\n",
       "         8.93207871e+03],\n",
       "       [ 1.40590316e+01,  3.62723337e+00, -1.92464383e+00,\n",
       "         2.99728083e+07,  7.67915444e+07, -1.69454499e+07,\n",
       "        -2.01714310e+04],\n",
       "       [-1.02071680e+00, -5.29208723e-01, -4.21824949e-01,\n",
       "        -3.25123131e+06, -5.52931050e+06, -8.73290382e+05,\n",
       "        -2.43022320e+03],\n",
       "       [-4.45876902e-06, -6.62331893e-07,  5.03352887e-07,\n",
       "        -6.75147696e+00, -2.44159753e+01,  4.96257551e+00,\n",
       "         1.41932283e-03],\n",
       "       [-2.69161287e-06, -6.79191237e-07,  3.84120727e-07,\n",
       "        -5.79362955e+00, -1.41410827e+01,  2.90682902e+00,\n",
       "         2.43523040e-03],\n",
       "       [ 8.76229637e-07,  2.18450358e-07,  1.04052367e-07,\n",
       "         1.54296045e+00,  4.42877439e+00, -1.82800631e+00,\n",
       "         4.92143816e-04],\n",
       "       [ 0.00000000e+00,  0.00000000e+00,  0.00000000e+00,\n",
       "         0.00000000e+00,  0.00000000e+00,  0.00000000e+00,\n",
       "         9.99999999e-01]])"
      ]
     },
     "execution_count": 22,
     "metadata": {},
     "output_type": "execute_result"
    }
   ],
   "source": [
    "grad_ic"
   ]
  },
  {
   "cell_type": "code",
   "execution_count": 6,
   "metadata": {},
   "outputs": [
    {
     "data": {
      "text/plain": [
       "array([[-1.09869373e+00, -1.09869373e+00, -1.09869373e+00,\n",
       "        -1.09869373e+00, -1.09869373e+00, -1.09869373e+00,\n",
       "        -1.09869373e+00, -1.09869373e+00, -1.09869373e+00,\n",
       "        -1.09869373e+00, -1.09869373e+00, -1.09869373e+00,\n",
       "        -1.09869373e+00, -1.09869373e+00, -1.09869373e+00,\n",
       "         9.99999999e-01, -5.88720492e-09]])"
      ]
     },
     "execution_count": 6,
     "metadata": {},
     "output_type": "execute_result"
    }
   ],
   "source": [
    "dm[-1]"
   ]
  },
  {
   "cell_type": "code",
   "execution_count": 7,
   "metadata": {},
   "outputs": [
    {
     "data": {
      "text/plain": [
       "(7, 16)"
      ]
     },
     "execution_count": 7,
     "metadata": {},
     "output_type": "execute_result"
    }
   ],
   "source": [
    "grad.shape"
   ]
  },
  {
   "cell_type": "code",
   "execution_count": 8,
   "metadata": {},
   "outputs": [],
   "source": [
    "# This is the main computation to be ported in C++. Manual assembly of the gradients.\n",
    "def manual(xs, ys, zs, vxs, vys, vzs, ms, throttles, tof): \n",
    "    nseg = int(throttles.shape[0] / 3)\n",
    "    c = max_thrust * tof / nseg\n",
    "    a = 1. / veff\n",
    "    dt = tof / nseg\n",
    "    m0=ms\n",
    "    # We define the indepedent variables\n",
    "    u = []\n",
    "    un = []\n",
    "    du = []\n",
    "    m = [m0]\n",
    "    for i in range(nseg):\n",
    "        u.append(np.array(throttles[i*3:i*3+3]).reshape(1,3))\n",
    "        du.append(np.zeros((3, 3*nseg+2)))\n",
    "        du[i][:, 3*i:3*i+3] = np.eye(3)\n",
    "    dm = [np.hstack((np.zeros((1, 3*nseg)), np.eye(1), np.zeros((1, 1))))]\n",
    "    dtof = np.hstack((np.zeros((1, 3*nseg+1)), np.eye(1)))\n",
    "    Dv = []\n",
    "    dDv = []\n",
    "\n",
    "    # 1 - We compute the mass schedule and related quantities\n",
    "    for i in range(nseg):\n",
    "        Dv.append(c / m[i] * u[i])\n",
    "        un = np.sqrt(u[i][0][0]**2+u[i][0][1]**2+u[i][0][2]**2)\n",
    "        Dvn = c / m[i] * un\n",
    "        dDv.append(c / m[i] * du[i] - c / m[i]**2 * u[i].T@dm[i] + max_thrust / m[i] * u[i].T@dtof / nseg)\n",
    "        dDvn = c / m[i] / un * u[i] @ du[i] - c / m[i]**2 * un * dm[i] + max_thrust / m[i] * un * dtof / nseg\n",
    "        m.append(m[i] * np.exp(-Dvn * a))\n",
    "        dm.append(-m[i+1] * a * dDvn + np.exp(-Dvn * a) * dm[i])\n",
    "\n",
    "    M=[]\n",
    "    f=[]\n",
    "    rv_it = [[xs, ys,zs],[vxs,vys,vzs]]\n",
    "    tofs = [dt]*(nseg+1)\n",
    "    tofs[0]/=2.\n",
    "    tofs[-1]/=2.\n",
    "\n",
    "    # 2 - We compute the state transition matrices\n",
    "    for i in range(nseg+1):\n",
    "        rv_it, M_it = pk.propagate_lagrangian(\n",
    "            rv=rv_it, tof=tofs[i], mu=mu, stm=True)\n",
    "        M.append(M_it)\n",
    "        #We compute f\n",
    "        r = rv_it[0]\n",
    "        f.append(dyn(r, rv_it[1], mu))\n",
    "        #And add the impulse if needed\n",
    "        if i<nseg:\n",
    "            rv_it[1] = [a + b for a, b in zip(rv_it[1], Dv[i].flatten())]\n",
    "\n",
    "\n",
    "    # 3 - We assemble the gradients\n",
    "    Iv = np.diag((0, 0, 0, 1, 1, 1))[:, 3:]\n",
    "    # Mc will contain [Mn@..@M0,Mn@..@M1, Mn]\n",
    "    Mc=[0]*(nseg+1)\n",
    "    Mc[-1] = M[-1]\n",
    "    for i in range(1, len(M)):\n",
    "        Mc[-1-i] = Mc[-1-i+1]@M[-1-i]\n",
    "    # grad_tof \n",
    "    grad_tof = 0.5 * f[-1]\n",
    "    for i in range(nseg-1):\n",
    "        grad_tof+= Mc[i+2]@f[i+1]\n",
    "    grad_tof+= 0.5 * Mc[1]@f[0]\n",
    "    grad_tof/=nseg\n",
    "    for i in range(nseg):\n",
    "        grad_tof+=Mc[i+1]@Iv@dDv[i][:, -1:]\n",
    "\n",
    "    # grad u\n",
    "    grad_u=0\n",
    "    for i in range(nseg):\n",
    "        grad_u += Mc[i+1]@Iv@dDv[i][:, :-2]\n",
    "\n",
    "    # grad ms\n",
    "    grad_ms=0\n",
    "    for i in range(nseg):\n",
    "        grad_ms += Mc[i+1]@Iv@dDv[i][:, -2:-1]\n",
    "\n",
    "    # grad xs\n",
    "    grad_xs = Mc[0]\n",
    "\n",
    "    # Assembling te return value\n",
    "    # grad will contain the gradient of the final posvelm with respect to the throttles and the tof\n",
    "    grad = np.hstack((grad_u, grad_tof))\n",
    "    grad = np.vstack((grad, dm[-1][:,:-1]))\n",
    "    grad[-1,-1] = dm[-1][:,-1][0]\n",
    "    # grad_ic will contain the gradient of the final posvelm with respect to the initial posvelm\n",
    "    grad_ic = np.vstack((grad_xs, np.zeros((1,6))))\n",
    "    grad_ic = np.hstack((grad_ic, np.zeros((7,1))))\n",
    "    grad_ic[:6,-1:] = grad_ms\n",
    "    grad_ic[-1,-1] = dm[-1][:,-2][0]\n",
    "    return (grad, grad_ic)"
   ]
  },
  {
   "cell_type": "code",
   "execution_count": 9,
   "metadata": {},
   "outputs": [
    {
     "name": "stdout",
     "output_type": "stream",
     "text": [
      "557 µs ± 4.78 µs per loop (mean ± std. dev. of 7 runs, 1,000 loops each)\n"
     ]
    }
   ],
   "source": [
    "%%timeit\n",
    "grad, grad_ic = manual(rs[0], rs[1], rs[2], vs[0], vs[1], vs[2], ms, throttles, tof)"
   ]
  },
  {
   "cell_type": "code",
   "execution_count": 10,
   "metadata": {},
   "outputs": [],
   "source": [
    "grad, grad_ic = manual(rs[0], rs[1], rs[2], vs[0], vs[1], vs[2], ms, throttles, tof)"
   ]
  },
  {
   "cell_type": "markdown",
   "metadata": {},
   "source": [
    "# Test with heyoka\n",
    "We compile the same function bu using heyoka"
   ]
  },
  {
   "cell_type": "code",
   "execution_count": 11,
   "metadata": {},
   "outputs": [],
   "source": [
    "def propagate_lagrangian_heyoka(pos_0, vel_0, mu, tof):\n",
    "    x0, y0, z0 = pos_0\n",
    "    vx0, vy0, vz0 = vel_0\n",
    "    v02 = vx0**2 + vy0**2 + vz0**2\n",
    "    r0 = hy.sqrt(x0**2 + y0**2 + z0**2)\n",
    "    eps = v02 * 0.5 - mu / r0\n",
    "    a = -mu / (2.0 * eps)\n",
    "\n",
    "    sigma0 = np.dot(pos_0, vel_0) / np.sqrt(mu)\n",
    "    s0 = sigma0 / hy.sqrt(a)\n",
    "    c0 = 1.0 - r0 / a\n",
    "\n",
    "    n = hy.sqrt(mu / (a * a * a))\n",
    "    DM = n * tof\n",
    "\n",
    "    DE = hy.kepDE(s0, c0, DM)\n",
    "\n",
    "    # Compute cos(DE) and sin(DE).\n",
    "    cDE = hy.cos(DE)\n",
    "    sDE = hy.sin(DE)\n",
    "\n",
    "    r = a + (r0 - a) * cDE + sigma0 * hy.sqrt(a) * sDE\n",
    "\n",
    "    F = 1.0 - a / r0 * (1.0 - cDE)\n",
    "    G = a * sigma0 / np.sqrt(mu) * (1.0 - cDE) + r0 * hy.sqrt(a / mu) * sDE\n",
    "    Ft = -hy.sqrt(mu * a) / (r * r0) * sDE\n",
    "    Gt = 1 - a / r * (1.0 - cDE)\n",
    "\n",
    "    pos = F * pos_0 + G * vel_0\n",
    "    vel = Ft * pos_0 + Gt * vel_0\n",
    "\n",
    "    return [pos, vel]\n",
    "\n",
    "def ground_truth(xs, ys, zs, vxs, vys, vzs, ms, throttles_vars, tof):\n",
    "    nseg = int(len(throttles) / 3)\n",
    "    dt = tof / nseg\n",
    "    c = max_thrust * dt\n",
    "    \n",
    "    pos = np.array([xs, ys, zs])\n",
    "    vel = np.array([vxs, vys, vzs])\n",
    "    m=ms\n",
    "\n",
    "    for i in range(nseg):\n",
    "        ux, uy, uz = throttles_vars[3*i:3*i+3]\n",
    "        if i == 0:\n",
    "            pos, vel = propagate_lagrangian_heyoka(pos, vel, mu, dt/2)\n",
    "        else:\n",
    "            pos, vel = propagate_lagrangian_heyoka(pos, vel, mu, dt)  \n",
    "        vel = vel + np.array([ux, uy, uz]) * c / m\n",
    "        m = m * hy.exp(-hy.sqrt(ux**2+uy**2+uz**2) * c / veff / m)\n",
    "    # 4\n",
    "    pos, vel = propagate_lagrangian_heyoka(pos, vel, mu, dt/2)\n",
    "    retval = np.hstack([pos, vel, m])\n",
    "    return retval"
   ]
  },
  {
   "cell_type": "code",
   "execution_count": 12,
   "metadata": {},
   "outputs": [],
   "source": [
    "# The symbolic variables\n",
    "xs_var, ys_var, zs_var = hy.make_vars(\"xs\", \"ys\", \"zs\")\n",
    "vxs_var, vys_var, vzs_var = hy.make_vars(\"vxs\", \"vys\", \"vzs\")\n",
    "ms_var, = hy.make_vars(\"ms\")\n",
    "tof_var, = hy.make_vars(\"t\")\n",
    "throttles_symbols = []\n",
    "for i in range(nseg):\n",
    "    throttles_symbols.extend([\"ux\"+str(i), \"uy\"+str(i), \"uz\"+str(i)])\n",
    "throttles_vars = hy.make_vars(*throttles_symbols)"
   ]
  },
  {
   "cell_type": "code",
   "execution_count": 13,
   "metadata": {},
   "outputs": [],
   "source": [
    "# Here we compile the two functions for the two gradients\n",
    "xf = ground_truth(xs_var, ys_var, zs_var, vxs_var, vys_var, vzs_var, ms_var, throttles_vars, tof_var)\n",
    "\n",
    "dtens_ic = hy.diff_tensors(xf,\n",
    "                    diff_args=[xs_var, ys_var, zs_var, vxs_var, vys_var, vzs_var, ms_var],\n",
    "                    diff_order=1\n",
    "                    )\n",
    "dtens = hy.diff_tensors(xf,\n",
    "                    diff_args=[*throttles_vars, tof_var],\n",
    "                    diff_order=1\n",
    "                    )\n",
    "jac_ic = dtens_ic.jacobian   \n",
    "jac = dtens.jacobian   \n",
    "\n",
    "d_cf = hy.make_cfunc(jac.flatten(),\n",
    "                       # Specify the order in which the input\n",
    "                       # variables are passed to the compiled\n",
    "                       # function.\n",
    "                       vars=[xs_var, ys_var, zs_var, vxs_var, vys_var, vzs_var, ms_var, *throttles_vars, tof_var])\n",
    "\n",
    "d_cf_ic = hy.make_cfunc(jac_ic.flatten(),\n",
    "                       # Specify the order in which the input\n",
    "                       # variables are passed to the compiled\n",
    "                       # function.\n",
    "                       vars=[xs_var, ys_var, zs_var, vxs_var, vys_var, vzs_var, ms_var, *throttles_vars, tof_var])\n"
   ]
  },
  {
   "cell_type": "code",
   "execution_count": 14,
   "metadata": {},
   "outputs": [
    {
     "name": "stdout",
     "output_type": "stream",
     "text": [
      "14.1 µs ± 321 ns per loop (mean ± std. dev. of 7 runs, 100,000 loops each)\n"
     ]
    }
   ],
   "source": [
    "%%timeit\n",
    "analytical_grad_ic = d_cf_ic([rs[0], rs[1], rs[2], vs[0], vs[1], vs[2], ms] + throttles.tolist() + [tof])\n",
    "analytical_grad = d_cf([rs[0], rs[1], rs[2], vs[0], vs[1], vs[2], ms] + throttles.tolist() + [tof])"
   ]
  },
  {
   "cell_type": "code",
   "execution_count": 15,
   "metadata": {},
   "outputs": [],
   "source": [
    "analytical_grad_ic = d_cf_ic([rs[0], rs[1], rs[2], vs[0], vs[1], vs[2], ms] + throttles.tolist() + [tof])\n",
    "analytical_grad = d_cf([rs[0], rs[1], rs[2], vs[0], vs[1], vs[2], ms] + throttles.tolist() + [tof])"
   ]
  },
  {
   "cell_type": "code",
   "execution_count": 16,
   "metadata": {},
   "outputs": [],
   "source": [
    "## Lets check the difference in he values computed is zero / small"
   ]
  },
  {
   "cell_type": "code",
   "execution_count": 17,
   "metadata": {},
   "outputs": [
    {
     "data": {
      "text/plain": [
       "array([[ 9.63067919e-16, -2.08708771e-15, -2.21062336e-15,\n",
       "        -2.06493595e-15, -3.09101614e-15, -2.99466263e-15,\n",
       "        -2.57756326e-15, -2.79216175e-15,  3.90388367e-16,\n",
       "        -2.21333078e-15,  2.87513954e-15, -9.47595152e-15,\n",
       "         1.28633131e-16, -4.74347584e-14, -1.68746249e-14,\n",
       "        -2.42747355e-15],\n",
       "       [-3.33903509e-15,  1.46712644e-15,  1.39744817e-15,\n",
       "         1.49530772e-15,  1.09923362e-15,  2.08477297e-16,\n",
       "         1.14396487e-15,  1.65737012e-15,  1.25050330e-15,\n",
       "         8.60328234e-15,  2.37422948e-15,  3.79467427e-15,\n",
       "        -1.92595195e-14,  1.78869131e-15,  1.63784225e-14,\n",
       "         2.19120562e-15],\n",
       "       [-1.58336586e-15,  9.60376435e-15,  3.91392129e-14,\n",
       "        -1.42869523e-14,  1.51508035e-14,  6.69708091e-15,\n",
       "        -9.14405887e-15,  1.08869550e-13,  3.03915066e-15,\n",
       "        -5.94717640e-15, -3.68937875e-13,  1.67899790e-15,\n",
       "        -8.77219343e-15,  1.46676025e-14,  3.02976676e-16,\n",
       "         7.04503086e-15],\n",
       "       [-2.45640421e-15, -2.08462682e-15, -2.21966613e-15,\n",
       "        -2.97771379e-15, -2.85542706e-15, -2.23349776e-15,\n",
       "        -3.53810235e-15, -1.82539715e-15, -1.50281639e-14,\n",
       "        -3.12412415e-15, -5.91726884e-13, -6.72270333e-15,\n",
       "        -2.88507932e-16, -1.34624449e-14, -7.76821150e-15,\n",
       "        -2.00505787e-15],\n",
       "       [ 1.49933963e-14, -9.24134234e-15, -9.90783769e-15,\n",
       "        -1.51382485e-14, -1.00759860e-14, -1.24491438e-14,\n",
       "        -1.54333556e-14, -9.69092925e-15, -1.12622614e-14,\n",
       "        -1.35877067e-14,  2.71757292e-14, -1.37270814e-14,\n",
       "        -8.26409134e-15, -8.42580698e-16, -1.29784427e-14,\n",
       "        -7.52213538e-15],\n",
       "       [-8.13285339e-15, -6.12640010e-15, -2.50484102e-15,\n",
       "        -6.90482450e-15, -6.99037301e-15, -3.28841293e-15,\n",
       "        -7.41538430e-15, -6.83323450e-15, -4.50737912e-15,\n",
       "        -7.48184127e-15, -2.89084399e-14, -3.28357357e-14,\n",
       "        -5.25363669e-15, -1.74767942e-14,  1.28856832e-15,\n",
       "        -4.25090875e-15],\n",
       "       [-2.02098727e-16, -2.02098727e-16, -2.02098727e-16,\n",
       "        -6.06296182e-16, -6.06296182e-16, -6.06296182e-16,\n",
       "        -2.02098727e-16, -2.02098727e-16, -2.02098727e-16,\n",
       "        -2.02098727e-16, -2.02098727e-16, -2.02098727e-16,\n",
       "         2.02098727e-16,  2.02098727e-16,  2.02098727e-16,\n",
       "        -1.40504811e-16]])"
      ]
     },
     "execution_count": 17,
     "metadata": {},
     "output_type": "execute_result"
    }
   ],
   "source": [
    "(analytical_grad.reshape(7,-1)-grad)/grad"
   ]
  },
  {
   "cell_type": "code",
   "execution_count": 18,
   "metadata": {},
   "outputs": [
    {
     "name": "stderr",
     "output_type": "stream",
     "text": [
      "/tmp/ipykernel_2203569/645163605.py:1: RuntimeWarning: invalid value encountered in divide\n",
      "  (analytical_grad_ic.reshape(7,-1)-grad_ic)/grad_ic\n"
     ]
    },
    {
     "data": {
      "text/plain": [
       "array([[-2.88354599e-15, -6.15497883e-15, -2.72704239e-15,\n",
       "        -3.88357345e-15, -2.85025432e-15, -2.32683249e-15,\n",
       "        -3.86928953e-15],\n",
       "       [ 1.38984859e-15,  8.57023563e-16,  1.61516870e-15,\n",
       "         1.24288998e-15,  1.35832830e-15,  1.75872122e-15,\n",
       "         1.08211821e-15],\n",
       "       [ 8.91905457e-15,  4.40557430e-15,  3.28994002e-15,\n",
       "         5.15614079e-15,  8.25325438e-15, -1.83963029e-14,\n",
       "         4.30379773e-15],\n",
       "       [-2.27964160e-15, -2.55772961e-15, -1.68278154e-15,\n",
       "        -1.57863844e-15, -2.18261628e-15, -1.96872825e-15,\n",
       "         2.13888343e-15],\n",
       "       [-8.81141668e-15, -7.32682976e-15, -7.16664551e-15,\n",
       "        -7.35852435e-15, -9.42125618e-15, -8.86091820e-15,\n",
       "        -6.41110234e-15],\n",
       "       [-5.92090998e-15, -4.96799810e-15, -6.35972547e-16,\n",
       "        -5.32460206e-15, -6.41751123e-15, -2.67230003e-15,\n",
       "        -4.84664178e-15],\n",
       "       [            nan,             nan,             nan,\n",
       "                    nan,             nan,             nan,\n",
       "        -1.11022303e-16]])"
      ]
     },
     "execution_count": 18,
     "metadata": {},
     "output_type": "execute_result"
    }
   ],
   "source": [
    "(analytical_grad_ic.reshape(7,-1)-grad_ic)/grad_ic"
   ]
  },
  {
   "cell_type": "code",
   "execution_count": 20,
   "metadata": {},
   "outputs": [
    {
     "data": {
      "text/plain": [
       "array([-1.97130266e+01, -3.03035109e+00,  2.11700403e+00, -2.97365302e+07,\n",
       "       -1.09788233e+08,  2.24141894e+07,  8.93207871e+03,  1.40590316e+01,\n",
       "        3.62723337e+00, -1.92464383e+00,  2.99728083e+07,  7.67915444e+07,\n",
       "       -1.69454499e+07, -2.01714310e+04, -1.02071680e+00, -5.29208723e-01,\n",
       "       -4.21824949e-01, -3.25123131e+06, -5.52931050e+06, -8.73290382e+05,\n",
       "       -2.43022320e+03, -4.45876902e-06, -6.62331893e-07,  5.03352887e-07,\n",
       "       -6.75147696e+00, -2.44159753e+01,  4.96257551e+00,  1.41932283e-03,\n",
       "       -2.69161287e-06, -6.79191237e-07,  3.84120727e-07, -5.79362955e+00,\n",
       "       -1.41410827e+01,  2.90682902e+00,  2.43523040e-03,  8.76229637e-07,\n",
       "        2.18450358e-07,  1.04052367e-07,  1.54296045e+00,  4.42877439e+00,\n",
       "       -1.82800631e+00,  4.92143816e-04,  0.00000000e+00,  0.00000000e+00,\n",
       "        0.00000000e+00,  0.00000000e+00,  0.00000000e+00,  0.00000000e+00,\n",
       "        9.99999999e-01])"
      ]
     },
     "execution_count": 20,
     "metadata": {},
     "output_type": "execute_result"
    }
   ],
   "source": [
    "analytical_grad_ic"
   ]
  }
 ],
 "metadata": {
  "kernelspec": {
   "display_name": "kep3_devel",
   "language": "python",
   "name": "python3"
  },
  "language_info": {
   "codemirror_mode": {
    "name": "ipython",
    "version": 3
   },
   "file_extension": ".py",
   "mimetype": "text/x-python",
   "name": "python",
   "nbconvert_exporter": "python",
   "pygments_lexer": "ipython3",
   "version": "3.11.6"
  }
 },
 "nbformat": 4,
 "nbformat_minor": 2
}
