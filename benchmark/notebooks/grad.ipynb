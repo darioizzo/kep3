{
 "cells": [
  {
   "cell_type": "markdown",
   "metadata": {},
   "source": [
    "# The Sims-Flanagan gradients\n",
    "This notebook is the result of a few days of blood shed with manual derivatives assembly. \n",
    "It benchmarks a python version of the computation of a sims-flanagan forward only leg and the same done using heyoka."
   ]
  },
  {
   "cell_type": "code",
   "execution_count": 1,
   "metadata": {},
   "outputs": [],
   "source": [
    "import heyoka as hy\n",
    "import numpy as np\n",
    "import pykep as pk\n",
    "\n",
    "from numba import njit"
   ]
  },
  {
   "cell_type": "markdown",
   "metadata": {},
   "source": [
    "## Problem data\n",
    "We define here a specific test instance."
   ]
  },
  {
   "cell_type": "code",
   "execution_count": 2,
   "metadata": {},
   "outputs": [],
   "source": [
    "# Problem data\n",
    "mu = pk.MU_SUN\n",
    "max_thrust = np.random.random()\n",
    "isp = 3000.0*np.random.random()\n",
    "veff = isp * 9.80665\n",
    "\n",
    "# Initial state\n",
    "ms = 1500.0 * np.random.random()\n",
    "rs = np.array([1, 0.1, -0.1]) * pk.AU\n",
    "vs = np.array([0.2, 1, -0.2]) * pk.EARTH_VELOCITY\n",
    "\n",
    "# Variables\n",
    "nseg = 5\n",
    "tof = 324.0 * pk.DAY2SEC * (np.random.random() + 1)\n",
    "throttles = (0.5-np.random.random(3*nseg))\n",
    "\n",
    "# C++ test\n",
    "ms = 1500.0\n",
    "rs = np.array([1, 0.1, -0.1]) * pk.AU\n",
    "vs = np.array([0.2, 1, -0.2]) * pk.EARTH_VELOCITY\n",
    "throttles = np.array([0.010, 0.011, 0.012, 0.013, 0.014, 0.015, 0.016, 0.017, 0.018, 0.019, 0.02, 0.021, 0.022, 0.023, 0.024])\n",
    "throttles_bck = np.array([0.022, 0.023, 0.024, 0.019, 0.02, 0.021, 0.016, 0.017, 0.018, 0.013, 0.014, 0.015,0.010, 0.011, 0.012])\n",
    "tof = 324.0 * pk.DAY2SEC\n",
    "max_thrust = 0.01\n",
    "isp = 3000\n",
    "veff = isp * 9.80665\n"
   ]
  },
  {
   "cell_type": "markdown",
   "metadata": {},
   "source": [
    "## A single shooting\n",
    "This code is thought in forward mode, but backwards will be similar"
   ]
  },
  {
   "cell_type": "code",
   "execution_count": 3,
   "metadata": {},
   "outputs": [],
   "source": [
    "# The dynamics\n",
    "def dyn(r, v, mu):\n",
    "    R3 = np.linalg.norm(r) ** 3\n",
    "    f = [v[0], v[1], v[2], -mu / R3 * r[0], -mu / R3 * r[1], -mu / R3 * r[2]]\n",
    "    return np.array(f).reshape(-1, 1)"
   ]
  },
  {
   "cell_type": "code",
   "execution_count": 4,
   "metadata": {},
   "outputs": [],
   "source": [
    "# This is the main computation ported to C++. Manual assembly of the gradients.\n",
    "def gradients_multiple_impulses(xs, ys, zs, vxs, vys, vzs, ms, throttles, tof, veff): \n",
    "    nseg = int(throttles.shape[0] / 3)\n",
    "    c = max_thrust * tof / nseg\n",
    "    a = 1. / veff\n",
    "    dt = tof / nseg\n",
    "    m0=ms\n",
    "    # We define the indepedent variables\n",
    "    u = []\n",
    "    un = []\n",
    "    du = []\n",
    "    m = [m0]\n",
    "    for i in range(nseg):\n",
    "        u.append(np.array(throttles[i*3:i*3+3]).reshape(1,3))\n",
    "        du.append(np.zeros((3, 3*nseg+2)))\n",
    "        du[i][:, 3*i:3*i+3] = np.eye(3)\n",
    "    dm = [np.hstack((np.zeros((1, 3*nseg)), np.eye(1), np.zeros((1, 1))))]\n",
    "    dtof = np.hstack((np.zeros((1, 3*nseg+1)), np.eye(1)))\n",
    "    Dv = []\n",
    "    dDv = []\n",
    "\n",
    "    # 1 - We compute the mass schedule and related quantities\n",
    "    for i in range(nseg):\n",
    "        Dv.append(c / m[i] * u[i])\n",
    "        un = np.sqrt(u[i][0][0]**2+u[i][0][1]**2+u[i][0][2]**2)\n",
    "        Dvn = c / m[i] * un\n",
    "        dDv.append(c / m[i] * du[i] - c / m[i]**2 * u[i].T@dm[i] + max_thrust / m[i] * u[i].T@dtof / nseg)\n",
    "        dDvn = c / m[i] / un * u[i] @ du[i] - c / m[i]**2 * un * dm[i] + max_thrust / m[i] * un * dtof / nseg\n",
    "        m.append(m[i] * np.exp(-Dvn * a))\n",
    "        dm.append(-m[i+1] * a * dDvn + np.exp(-Dvn * a) * dm[i])\n",
    "\n",
    "    M=[]\n",
    "    f=[]\n",
    "    rv_it = [[xs, ys,zs],[vxs,vys,vzs]]\n",
    "    tofs = [dt]*(nseg+1)\n",
    "    tofs[0]/=2.\n",
    "    tofs[-1]/=2.\n",
    "\n",
    "    # 2 - We compute the state transition matrices\n",
    "    for i in range(nseg+1):\n",
    "        rv_it, M_it = pk.propagate_lagrangian(\n",
    "            rv=rv_it, tof=tofs[i], mu=mu, stm=True)\n",
    "        M.append(M_it)\n",
    "        #We compute f (before impulse)\n",
    "        r = rv_it[0]\n",
    "        f.append(dyn(r, rv_it[1], mu))\n",
    "        #And add the impulse if needed\n",
    "        if i<nseg:\n",
    "            rv_it[1] = [a + b for a, b in zip(rv_it[1], Dv[i].flatten())]\n",
    "\n",
    "\n",
    "    # 3 - We assemble the gradients\n",
    "    Iv = np.diag((0, 0, 0, 1, 1, 1))[:, 3:]\n",
    "\n",
    "    # Mc will contain [Mn@..@M0,Mn@..@M1, Mn]\n",
    "    Mc=[0]*(nseg+1)\n",
    "    Mc[-1] = M[-1]\n",
    "    for i in range(1, len(M)):\n",
    "        Mc[-1-i] = Mc[-1-i+1]@M[-1-i]\n",
    "\n",
    "    # grad_tof \n",
    "    grad_tof = 0.5 * f[-1]\n",
    "    for i in range(nseg-1):\n",
    "        grad_tof+= Mc[i+2]@f[i+1]\n",
    "    grad_tof+= 0.5 * Mc[1]@f[0]\n",
    "    grad_tof/=nseg\n",
    "    for i in range(nseg):\n",
    "        grad_tof+=Mc[i+1]@Iv@dDv[i][:, -1:]\n",
    "\n",
    "    # grad u\n",
    "    grad_u=0\n",
    "    for i in range(nseg):\n",
    "        grad_u += Mc[i+1]@Iv@dDv[i][:, :-2]\n",
    "\n",
    "    # grad ms\n",
    "    grad_ms=0\n",
    "    for i in range(nseg):\n",
    "        grad_ms += Mc[i+1]@Iv@dDv[i][:, -2:-1]\n",
    "\n",
    "    # grad xs\n",
    "    grad_xs = Mc[0]\n",
    "\n",
    "    # Assembling te return value\n",
    "    # grad will contain the gradient of the final posvelm with respect to the throttles and the tof\n",
    "    grad = np.hstack((grad_u, grad_tof))\n",
    "    grad = np.vstack((grad, dm[-1][:,:-1]))\n",
    "    grad[-1,-1] = dm[-1][:,-1][0]\n",
    "\n",
    "    # grad_ic will contain the gradient of the final posvelm with respect to the initial posvelm\n",
    "    grad_ic = np.vstack((grad_xs, np.zeros((1,6))))\n",
    "    grad_ic = np.hstack((grad_ic, np.zeros((7,1))))\n",
    "    grad_ic[:6,-1:] = grad_ms\n",
    "    grad_ic[-1,-1] = dm[-1][:,-2][0]\n",
    "    return (grad, grad_ic)\n"
   ]
  },
  {
   "cell_type": "code",
   "execution_count": 6,
   "metadata": {},
   "outputs": [],
   "source": [
    "def gradients_fwd(xs, ys, zs, vxs, vys, vzs, ms, throttles_fwd, tof, veff):\n",
    "    return gradients_multiple_impulses(xs, ys, zs, vxs, vys, vzs, ms, throttles_fwd, tof, veff)\n",
    "\n",
    "def gradients_bck(xf, yf, zf, vxf, vyf, vzf, mf, throttles_bck, tof, veff):\n",
    "    grad, grad_ic = gradients_multiple_impulses(xf, yf, zf, -vxf, -vyf, -vzf, mf, -throttles_bck, tof, -veff)\n",
    "    grad_ic[3:6,:]*=-1\n",
    "    grad_ic[:,3:6]*=-1\n",
    "    grad[:, :-1]*=-1\n",
    "    grad[3:6, :]*=-1\n",
    "\n",
    "    return (grad, grad_ic)"
   ]
  },
  {
   "cell_type": "code",
   "execution_count": 7,
   "metadata": {},
   "outputs": [
    {
     "name": "stdout",
     "output_type": "stream",
     "text": [
      "567 µs ± 1.55 µs per loop (mean ± std. dev. of 7 runs, 1,000 loops each)\n"
     ]
    }
   ],
   "source": [
    "%%timeit\n",
    "grad, grad_ic = gradients_fwd(rs[0], rs[1], rs[2], vs[0], vs[1], vs[2], ms, throttles, tof, veff)"
   ]
  },
  {
   "cell_type": "code",
   "execution_count": 8,
   "metadata": {},
   "outputs": [],
   "source": [
    "grad, grad_ic = gradients_fwd(rs[0], rs[1], rs[2], vs[0], vs[1], vs[2], ms, throttles, tof, veff)"
   ]
  },
  {
   "cell_type": "code",
   "execution_count": 9,
   "metadata": {},
   "outputs": [
    {
     "data": {
      "text/plain": [
       "array([[-1.97136415e+01, -3.03053217e+00,  2.11726965e+00,\n",
       "        -2.97384315e+07, -1.09791311e+08,  2.24140294e+07,\n",
       "         5.82966847e+03],\n",
       "       [ 1.40595638e+01,  3.62733934e+00, -1.92475642e+00,\n",
       "         2.99739124e+07,  7.67944235e+07, -1.69455639e+07,\n",
       "        -2.62781138e+04],\n",
       "       [-1.01994457e+00, -5.29080681e-01, -4.21923232e-01,\n",
       "        -3.25006102e+06, -5.52482843e+06, -8.74094818e+05,\n",
       "        -5.98621920e+03],\n",
       "       [-4.45929416e-06, -6.62436240e-07,  5.03477699e-07,\n",
       "        -6.75253996e+00, -2.44188095e+01,  4.96298674e+00,\n",
       "         2.47113110e-04],\n",
       "       [-2.69183825e-06, -6.79261012e-07,  3.84169599e-07,\n",
       "        -5.79422489e+00, -1.41422541e+01,  2.90702927e+00,\n",
       "         2.35440983e-03],\n",
       "       [ 8.76526389e-07,  2.18488935e-07,  1.04025433e-07,\n",
       "         1.54337030e+00,  4.43044250e+00, -1.82831237e+00,\n",
       "         8.77429582e-04],\n",
       "       [ 0.00000000e+00,  0.00000000e+00,  0.00000000e+00,\n",
       "         0.00000000e+00,  0.00000000e+00,  0.00000000e+00,\n",
       "         9.99999996e-01]])"
      ]
     },
     "execution_count": 9,
     "metadata": {},
     "output_type": "execute_result"
    }
   ],
   "source": [
    "grad_ic"
   ]
  },
  {
   "cell_type": "markdown",
   "metadata": {},
   "source": [
    "# Test with heyoka\n",
    "We compile the same function bu using heyoka"
   ]
  },
  {
   "cell_type": "code",
   "execution_count": 10,
   "metadata": {},
   "outputs": [],
   "source": [
    "def propagate_lagrangian_heyoka(pos_0, vel_0, mu, tof):\n",
    "    x0, y0, z0 = pos_0\n",
    "    vx0, vy0, vz0 = vel_0\n",
    "    v02 = vx0**2 + vy0**2 + vz0**2\n",
    "    r0 = hy.sqrt(x0**2 + y0**2 + z0**2)\n",
    "    eps = v02 * 0.5 - mu / r0\n",
    "    a = -mu / (2.0 * eps)\n",
    "\n",
    "    sigma0 = np.dot(pos_0, vel_0) / np.sqrt(mu)\n",
    "    s0 = sigma0 / hy.sqrt(a)\n",
    "    c0 = 1.0 - r0 / a\n",
    "\n",
    "    n = hy.sqrt(mu / (a * a * a))\n",
    "    DM = n * tof\n",
    "\n",
    "    DE = hy.kepDE(s0, c0, DM)\n",
    "\n",
    "    # Compute cos(DE) and sin(DE).\n",
    "    cDE = hy.cos(DE)\n",
    "    sDE = hy.sin(DE)\n",
    "\n",
    "    r = a + (r0 - a) * cDE + sigma0 * hy.sqrt(a) * sDE\n",
    "\n",
    "    F = 1.0 - a / r0 * (1.0 - cDE)\n",
    "    G = a * sigma0 / np.sqrt(mu) * (1.0 - cDE) + r0 * hy.sqrt(a / mu) * sDE\n",
    "    Ft = -hy.sqrt(mu * a) / (r * r0) * sDE\n",
    "    Gt = 1 - a / r * (1.0 - cDE)\n",
    "\n",
    "    pos = F * pos_0 + G * vel_0\n",
    "    vel = Ft * pos_0 + Gt * vel_0\n",
    "\n",
    "    return [pos, vel]\n",
    "\n",
    "def gradients_fwd_heyoka(xs, ys, zs, vxs, vys, vzs, ms, throttles_vars, tof, vef):\n",
    "    nseg = int(len(throttles) / 3)\n",
    "    dt = tof / nseg\n",
    "    c = max_thrust * dt\n",
    "    \n",
    "    pos = np.array([xs, ys, zs])\n",
    "    vel = np.array([vxs, vys, vzs])\n",
    "    m=ms\n",
    "\n",
    "    for i in range(nseg):\n",
    "        ux, uy, uz = throttles_vars[3*i:3*i+3]\n",
    "        if i == 0:\n",
    "            pos, vel = propagate_lagrangian_heyoka(pos, vel, mu, dt/2)\n",
    "        else:\n",
    "            pos, vel = propagate_lagrangian_heyoka(pos, vel, mu, dt)  \n",
    "        vel = vel + np.array([ux, uy, uz]) * c / m\n",
    "        m = m * hy.exp(-hy.sqrt(ux**2+uy**2+uz**2) * c / veff / m)\n",
    "    # 4\n",
    "    pos, vel = propagate_lagrangian_heyoka(pos, vel, mu, dt/2)\n",
    "    retval = np.hstack([pos, vel, m])\n",
    "    return retval\n",
    "\n",
    "def gradients_bck_heyoka(xf, yf, zf, vxf, vyf, vzf, mf, throttles_vars, tof, veff):\n",
    "    nseg = int(len(throttles) / 3)\n",
    "    dt = tof / nseg\n",
    "    c = max_thrust * dt\n",
    "    \n",
    "    pos = np.array([xf, yf, zf])\n",
    "    vel = np.array([-vxf, -vyf, -vzf])\n",
    "    m=mf\n",
    "\n",
    "    for i in range(nseg):\n",
    "        ux, uy, uz = throttles_vars[3*i:3*i+3]\n",
    "        if i == 0:\n",
    "            pos, vel = propagate_lagrangian_heyoka(pos, vel, mu, dt/2)\n",
    "        else:\n",
    "            pos, vel = propagate_lagrangian_heyoka(pos, vel, mu, dt)  \n",
    "        vel = vel - np.array([ux, uy, uz]) * c / m\n",
    "        m = m * hy.exp(hy.sqrt(ux**2+uy**2+uz**2) * c / veff / m)\n",
    "    # 4\n",
    "    pos, vel = propagate_lagrangian_heyoka(pos, vel, mu, dt/2)\n",
    "    retval = np.hstack([pos, -vel, m])\n",
    "    return retval"
   ]
  },
  {
   "cell_type": "code",
   "execution_count": 11,
   "metadata": {},
   "outputs": [],
   "source": [
    "# The symbolic variables\n",
    "xs_var, ys_var, zs_var = hy.make_vars(\"xs\", \"ys\", \"zs\")\n",
    "vxs_var, vys_var, vzs_var = hy.make_vars(\"vxs\", \"vys\", \"vzs\")\n",
    "ms_var, = hy.make_vars(\"ms\")\n",
    "tof_var, = hy.make_vars(\"t\")\n",
    "throttles_symbols = []\n",
    "for i in range(nseg):\n",
    "    throttles_symbols.extend([\"ux\"+str(i), \"uy\"+str(i), \"uz\"+str(i)])\n",
    "throttles_vars = hy.make_vars(*throttles_symbols)"
   ]
  },
  {
   "cell_type": "code",
   "execution_count": 12,
   "metadata": {},
   "outputs": [],
   "source": [
    "# Here we compile the two functions for the two gradients\n",
    "xf = gradients_fwd_heyoka(xs_var, ys_var, zs_var, vxs_var, vys_var, vzs_var, ms_var, throttles_vars, tof_var, veff)\n",
    "\n",
    "dtens_ic = hy.diff_tensors(xf,\n",
    "                    diff_args=[xs_var, ys_var, zs_var, vxs_var, vys_var, vzs_var, ms_var],\n",
    "                    diff_order=1\n",
    "                    )\n",
    "dtens = hy.diff_tensors(xf,\n",
    "                    diff_args=[*throttles_vars, tof_var],\n",
    "                    diff_order=1\n",
    "                    )\n",
    "jac_ic = dtens_ic.jacobian   \n",
    "jac = dtens.jacobian   \n",
    "\n",
    "d_cf = hy.make_cfunc(jac.flatten(),\n",
    "                       # Specify the order in which the input\n",
    "                       # variables are passed to the compiled\n",
    "                       # function.\n",
    "                       vars=[xs_var, ys_var, zs_var, vxs_var, vys_var, vzs_var, ms_var, *throttles_vars, tof_var])\n",
    "\n",
    "d_cf_ic = hy.make_cfunc(jac_ic.flatten(),\n",
    "                       # Specify the order in which the input\n",
    "                       # variables are passed to the compiled\n",
    "                       # function.\n",
    "                       vars=[xs_var, ys_var, zs_var, vxs_var, vys_var, vzs_var, ms_var, *throttles_vars, tof_var])\n"
   ]
  },
  {
   "cell_type": "code",
   "execution_count": 13,
   "metadata": {},
   "outputs": [
    {
     "name": "stdout",
     "output_type": "stream",
     "text": [
      "13.6 µs ± 33.7 ns per loop (mean ± std. dev. of 7 runs, 100,000 loops each)\n"
     ]
    }
   ],
   "source": [
    "%%timeit\n",
    "analytical_grad_ic = d_cf_ic([rs[0], rs[1], rs[2], vs[0], vs[1], vs[2], ms] + throttles.tolist() + [tof])\n",
    "analytical_grad = d_cf([rs[0], rs[1], rs[2], vs[0], vs[1], vs[2], ms] + throttles.tolist() + [tof])"
   ]
  },
  {
   "cell_type": "code",
   "execution_count": 14,
   "metadata": {},
   "outputs": [],
   "source": [
    "analytical_grad_ic = d_cf_ic([rs[0], rs[1], rs[2], vs[0], vs[1], vs[2], ms] + throttles.tolist() + [tof])\n",
    "analytical_grad = d_cf([rs[0], rs[1], rs[2], vs[0], vs[1], vs[2], ms] + throttles.tolist() + [tof])"
   ]
  },
  {
   "cell_type": "code",
   "execution_count": 15,
   "metadata": {},
   "outputs": [],
   "source": [
    "## Lets check the difference in the values computed is zero / small"
   ]
  },
  {
   "cell_type": "code",
   "execution_count": 16,
   "metadata": {},
   "outputs": [
    {
     "data": {
      "text/plain": [
       "array([[ 1.78865446e-15, -1.94790061e-15, -2.61265240e-15,\n",
       "        -1.20454473e-15, -1.96695803e-15, -2.42464804e-15,\n",
       "        -1.07397152e-15, -1.71815840e-15,  6.51236793e-16,\n",
       "        -6.63974835e-16,  5.03035721e-15, -7.28345697e-15,\n",
       "         3.85875624e-16, -1.97346396e-14, -5.62196705e-15,\n",
       "        -1.61822769e-15],\n",
       "       [-7.38056674e-15,  4.19161735e-16,  6.98743897e-16,\n",
       "         1.34570508e-15,  1.09918249e-15, -2.08498259e-16,\n",
       "         1.57278892e-15,  1.40231879e-15,  3.75253136e-16,\n",
       "         8.59858557e-15,  2.24919949e-15,  7.72879569e-15,\n",
       "        -1.52688821e-14,  1.34146660e-15,  2.92371451e-15,\n",
       "         1.09559282e-15],\n",
       "       [-1.43906050e-15,  5.98181553e-15,  2.91438581e-14,\n",
       "        -9.21490340e-15,  8.70340543e-15,  4.96881543e-15,\n",
       "        -6.16087083e-15,  5.82715711e-14,  2.48652347e-15,\n",
       "        -3.69468149e-15, -1.65116254e-13,  1.67895243e-15,\n",
       "        -7.05225300e-15,  9.87490547e-15,  6.05926298e-16,\n",
       "         4.84515013e-15],\n",
       "       [-7.22463158e-16, -1.63773870e-15, -1.33174516e-15,\n",
       "        -1.57631643e-15, -1.50268542e-15, -9.30823389e-16,\n",
       "        -2.28917095e-15, -1.21673972e-16, -1.07064191e-14,\n",
       "        -1.56190698e-15, -6.87200517e-13, -5.28918444e-15,\n",
       "         1.44240849e-16, -1.02940521e-14, -5.12721842e-15,\n",
       "        -8.01911232e-16],\n",
       "       [ 1.12952385e-14, -6.79456302e-15, -6.81132526e-15,\n",
       "        -9.93910245e-15, -6.57075823e-15, -8.16395109e-15,\n",
       "        -1.06698640e-14, -5.94595032e-15, -1.02762069e-14,\n",
       "        -8.99712999e-15, -9.79394256e-15, -1.09382672e-14,\n",
       "        -6.56831160e-15, -2.10642520e-16, -6.80296211e-15,\n",
       "        -4.70094967e-15],\n",
       "       [-4.44957371e-15, -3.93681584e-15, -1.15594151e-15,\n",
       "        -4.40518403e-15, -4.31928539e-15, -1.53449446e-15,\n",
       "        -4.70011927e-15, -3.16154983e-15, -2.70427968e-15,\n",
       "        -4.37743069e-15, -2.52463497e-14, -2.06302351e-14,\n",
       "        -3.68978164e-15, -8.65328749e-15,  8.19973392e-16,\n",
       "        -2.20344086e-15],\n",
       "       [-2.22920684e-16, -2.02655168e-16, -1.85767237e-16,\n",
       "        -0.00000000e+00, -0.00000000e+00, -1.88947669e-16,\n",
       "         2.14980742e-16,  2.02334816e-16,  1.91093993e-16,\n",
       "         4.25834791e-16,  2.02271526e-16,  3.85279097e-16,\n",
       "         2.11424174e-16,  4.04463636e-16,  3.87610985e-16,\n",
       "        -1.65099163e-16]])"
      ]
     },
     "execution_count": 16,
     "metadata": {},
     "output_type": "execute_result"
    }
   ],
   "source": [
    "(analytical_grad.reshape(7,-1)-grad)/grad"
   ]
  },
  {
   "cell_type": "code",
   "execution_count": 17,
   "metadata": {},
   "outputs": [
    {
     "name": "stderr",
     "output_type": "stream",
     "text": [
      "/tmp/ipykernel_2272366/645163605.py:1: RuntimeWarning: invalid value encountered in divide\n",
      "  (analytical_grad_ic.reshape(7,-1)-grad_ic)/grad_ic\n"
     ]
    },
    {
     "data": {
      "text/plain": [
       "array([[-1.98237603e-15, -4.54268912e-15, -2.09746175e-15,\n",
       "        -3.00644529e-15, -2.44300663e-15, -2.16064559e-15,\n",
       "        -7.17652410e-15],\n",
       "       [ 7.58070534e-16,  0.00000000e+00,  1.03826200e-15,\n",
       "         2.48568838e-16,  1.94039626e-16,  8.79354698e-16,\n",
       "         6.92206989e-16],\n",
       "       [ 5.87797071e-15,  2.51808028e-15,  3.42074060e-15,\n",
       "         3.15210953e-15,  5.05711220e-15, -1.19865474e-14,\n",
       "         3.03862813e-15],\n",
       "       [-9.49738811e-16, -3.19665839e-16, -6.30886643e-16,\n",
       "        -6.57662469e-16, -1.30941777e-15, -1.25272326e-15,\n",
       "         9.65244127e-15],\n",
       "       [-5.66400788e-15, -4.36447148e-15, -4.68528748e-15,\n",
       "        -4.90517886e-15, -6.65713627e-15, -6.41608496e-15,\n",
       "        -4.05238671e-15],\n",
       "       [-3.62381965e-15, -3.27103085e-15, -1.27227443e-16,\n",
       "        -3.45287876e-15, -4.20990608e-15, -1.82171774e-15,\n",
       "        -4.44836589e-15],\n",
       "       [            nan,             nan,             nan,\n",
       "                    nan,             nan,             nan,\n",
       "        -4.44089211e-16]])"
      ]
     },
     "execution_count": 17,
     "metadata": {},
     "output_type": "execute_result"
    }
   ],
   "source": [
    "(analytical_grad_ic.reshape(7,-1)-grad_ic)/grad_ic"
   ]
  },
  {
   "cell_type": "markdown",
   "metadata": {},
   "source": [
    "# Now the backward part\n"
   ]
  },
  {
   "cell_type": "code",
   "execution_count": 18,
   "metadata": {},
   "outputs": [],
   "source": [
    "# Here we compile the two functions for the two gradients\n",
    "xf_bck = gradients_bck_heyoka(xs_var, ys_var, zs_var, vxs_var, vys_var, vzs_var, ms_var, throttles_vars, tof_var, veff)\n",
    "\n",
    "dtens_ic_bck = hy.diff_tensors(xf_bck,\n",
    "                    diff_args=[xs_var, ys_var, zs_var, vxs_var, vys_var, vzs_var, ms_var],\n",
    "                    diff_order=1\n",
    "                    )\n",
    "dtens_bck = hy.diff_tensors(xf_bck,\n",
    "                    diff_args=[*throttles_vars, tof_var],\n",
    "                    diff_order=1\n",
    "                    )\n",
    "jac_ic_bck = dtens_ic_bck.jacobian   \n",
    "jac_bck = dtens_bck.jacobian   \n",
    "\n",
    "d_cf_bck = hy.make_cfunc(jac_bck.flatten(),\n",
    "                       # Specify the order in which the input\n",
    "                       # variables are passed to the compiled\n",
    "                       # function.\n",
    "                       vars=[xs_var, ys_var, zs_var, vxs_var, vys_var, vzs_var, ms_var, *throttles_vars, tof_var])\n",
    "\n",
    "d_cf_ic_bck = hy.make_cfunc(jac_ic_bck.flatten(),\n",
    "                       # Specify the order in which the input\n",
    "                       # variables are passed to the compiled\n",
    "                       # function.\n",
    "                       vars=[xs_var, ys_var, zs_var, vxs_var, vys_var, vzs_var, ms_var, *throttles_vars, tof_var])"
   ]
  },
  {
   "cell_type": "code",
   "execution_count": 19,
   "metadata": {},
   "outputs": [],
   "source": [
    "analytical_grad_ic_bck = d_cf_ic_bck([rs[0], rs[1], rs[2], vs[0], vs[1], vs[2], ms] + throttles_bck.tolist() + [tof])\n",
    "analytical_grad_bck = d_cf_bck([rs[0], rs[1], rs[2], vs[0], vs[1], vs[2], ms] + throttles_bck.tolist() + [tof])"
   ]
  },
  {
   "cell_type": "code",
   "execution_count": 21,
   "metadata": {},
   "outputs": [],
   "source": [
    "grad_bck, grad_ic_bck = gradients_bck(rs[0], rs[1], rs[2], vs[0], vs[1], vs[2], ms, throttles_bck, tof, veff)"
   ]
  },
  {
   "cell_type": "code",
   "execution_count": 22,
   "metadata": {},
   "outputs": [
    {
     "data": {
      "text/plain": [
       "array([[ 5.91109796e-16, -4.00372778e-16, -2.03144637e-16,\n",
       "        -1.51041573e-16,  1.48789559e-15, -2.06935554e-15,\n",
       "         6.22546119e-16, -2.03641027e-15, -2.35628415e-15,\n",
       "        -0.00000000e+00,  3.83838315e-15,  1.87332050e-14,\n",
       "        -2.02912508e-15, -1.10293302e-14, -8.23363140e-14,\n",
       "         9.47750345e-16],\n",
       "       [-2.54768834e-15, -6.20382210e-15, -5.13038942e-15,\n",
       "        -3.42188355e-15, -5.42804866e-16, -4.37966800e-13,\n",
       "        -3.41406290e-15, -1.44119644e-15, -3.92755680e-15,\n",
       "        -7.86349767e-15, -1.32086958e-15, -5.78670222e-15,\n",
       "         1.26017526e-13, -1.10615095e-15, -4.21732073e-15,\n",
       "        -7.65762775e-15],\n",
       "       [-7.82318922e-15, -3.02035692e-14,  5.02699005e-16,\n",
       "        -4.77084466e-15, -1.93405821e-15,  6.38905851e-15,\n",
       "        -3.64493077e-15, -3.81188746e-15,  2.22427945e-15,\n",
       "        -4.53375715e-15, -6.76861369e-15,  8.76397901e-16,\n",
       "         1.22722963e-14, -1.08883000e-14, -4.34520916e-16,\n",
       "        -4.83022727e-14],\n",
       "       [-5.30219046e-14, -1.66709546e-14, -2.09310363e-14,\n",
       "        -2.96060233e-13,  1.36747193e-14, -1.26925917e-14,\n",
       "         3.12110103e-14,  2.87496537e-14,  5.35990813e-14,\n",
       "         4.38819177e-15, -3.04889926e-14, -2.44837439e-14,\n",
       "         7.98177624e-16, -1.58199213e-14, -1.39036927e-14,\n",
       "        -1.12846454e-14],\n",
       "       [-4.07147518e-15, -5.50691064e-15, -4.98754126e-15,\n",
       "        -4.56291312e-15, -2.84684095e-15,  3.33067340e-15,\n",
       "        -4.30573573e-15, -3.58785755e-15, -5.15066678e-15,\n",
       "         4.28724840e-15, -3.12235388e-15, -6.27660471e-15,\n",
       "         1.92718518e-15, -8.69812027e-16, -8.16608319e-15,\n",
       "        -1.09696250e-15],\n",
       "       [-5.12946386e-15, -6.90000476e-15, -1.40873193e-15,\n",
       "        -6.24912663e-15, -4.18232175e-15, -3.89982097e-15,\n",
       "        -5.71918382e-15, -5.61102676e-15,  5.00517975e-14,\n",
       "        -5.67204918e-15, -7.20023936e-15,  3.67654617e-15,\n",
       "         8.24493490e-15, -9.58382963e-15,  5.98733065e-16,\n",
       "        -6.23949681e-15],\n",
       "       [ 2.11402789e-16,  0.00000000e+00,  0.00000000e+00,\n",
       "         0.00000000e+00,  4.04507465e-16,  1.92622602e-16,\n",
       "        -2.14964662e-16, -2.02319682e-16,  0.00000000e+00,\n",
       "         0.00000000e+00, -2.02431455e-16, -1.88936024e-16,\n",
       "        -2.22909878e-16, -4.05290688e-16,  0.00000000e+00,\n",
       "        -1.65086048e-16]])"
      ]
     },
     "execution_count": 22,
     "metadata": {},
     "output_type": "execute_result"
    }
   ],
   "source": [
    "(analytical_grad_bck.reshape(7,-1)- grad_bck)/grad_bck"
   ]
  },
  {
   "cell_type": "code",
   "execution_count": 23,
   "metadata": {},
   "outputs": [
    {
     "name": "stderr",
     "output_type": "stream",
     "text": [
      "/tmp/ipykernel_2272366/3054604412.py:1: RuntimeWarning: invalid value encountered in divide\n",
      "  (analytical_grad_ic_bck.reshape(7,-1)- grad_ic_bck)/ grad_ic_bck\n"
     ]
    },
    {
     "data": {
      "text/plain": [
       "array([[-4.15657024e-16, -2.78066223e-15,  3.83325739e-16,\n",
       "        -1.52104989e-15, -1.75791037e-15, -1.24551930e-15,\n",
       "         4.06031192e-16],\n",
       "       [-4.48661944e-15, -1.52848899e-15, -1.58319212e-15,\n",
       "        -3.50356600e-15, -7.88085108e-15, -6.67658088e-15,\n",
       "        -5.37974076e-15],\n",
       "       [-1.12290263e-14, -9.82895490e-16, -1.22440105e-14,\n",
       "        -1.00879446e-14, -5.15376316e-14,  1.33365089e-15,\n",
       "        -3.48588287e-15],\n",
       "       [-1.43463386e-14,  3.64986308e-15, -7.23618737e-13,\n",
       "         4.62278065e-15, -1.44135703e-14, -1.63629696e-14,\n",
       "        -4.03408449e-14],\n",
       "       [-3.97818355e-15, -8.61095785e-15, -3.58042427e-15,\n",
       "        -8.70666210e-15, -7.28655133e-15, -6.03017517e-15,\n",
       "        -5.65303569e-15],\n",
       "       [-5.82456599e-15,  1.83100307e-14, -1.86342293e-15,\n",
       "        -1.01952599e-14, -7.97174957e-15, -3.11740196e-15,\n",
       "        -4.54229588e-15],\n",
       "       [            nan,             nan,             nan,\n",
       "                    nan,             nan,             nan,\n",
       "        -3.33066909e-16]])"
      ]
     },
     "execution_count": 23,
     "metadata": {},
     "output_type": "execute_result"
    }
   ],
   "source": [
    "(analytical_grad_ic_bck.reshape(7,-1)- grad_ic_bck)/ grad_ic_bck"
   ]
  },
  {
   "cell_type": "code",
   "execution_count": 62,
   "metadata": {},
   "outputs": [
    {
     "data": {
      "text/plain": [
       "array([[-1.28208359e+01, -5.58971967e-01,  1.15851654e+00,\n",
       "        -4.89831442e+06, -7.62896977e+07,  1.49547674e+07,\n",
       "         7.16788046e+04],\n",
       "       [ 8.71031096e+00,  1.59797727e+00, -9.81758448e-01,\n",
       "         1.11644959e+07,  4.72701522e+07, -8.36945668e+06,\n",
       "        -4.05742094e+04],\n",
       "       [-5.43789504e-01, -2.25908662e-01,  2.06285136e-01,\n",
       "        -1.10784419e+06, -1.23332726e+06,  6.98325610e+06,\n",
       "         8.08814776e+03],\n",
       "       [-4.13292256e-07,  1.16036263e-07,  7.38453344e-10,\n",
       "         6.00408666e-01, -2.46483945e+00,  4.34238254e-01,\n",
       "         7.74029960e-04],\n",
       "       [-1.80981595e-06, -1.44476336e-07,  1.47858341e-07,\n",
       "        -1.12212493e+00, -9.75142703e+00,  1.95157914e+00,\n",
       "         7.51821278e-03],\n",
       "       [ 3.54471529e-07, -9.21597828e-09, -1.70459078e-07,\n",
       "         1.87845601e-01,  2.06119129e+00, -1.89197925e-02,\n",
       "        -1.62309435e-03],\n",
       "       [ 0.00000000e+00,  0.00000000e+00,  0.00000000e+00,\n",
       "         0.00000000e+00,  0.00000000e+00,  0.00000000e+00,\n",
       "         9.99999996e-01]])"
      ]
     },
     "execution_count": 62,
     "metadata": {},
     "output_type": "execute_result"
    }
   ],
   "source": [
    "analytical_grad_ic_bck.reshape(7,7)"
   ]
  },
  {
   "cell_type": "code",
   "execution_count": 24,
   "metadata": {},
   "outputs": [
    {
     "data": {
      "text/plain": [
       "array([[-1.61336240e+09, -2.38196593e+09,  5.86819771e+08,\n",
       "        -1.57849639e+09,  3.20477567e+08,  6.12073989e+07,\n",
       "        -4.78716701e+08,  2.04886274e+08, -2.37150322e+07,\n",
       "        -2.73800931e+08,  1.45580450e+07, -2.18746303e+06,\n",
       "        -1.02810940e+08, -7.38854707e+05,  1.45985184e+05,\n",
       "         1.91927063e+04],\n",
       "       [ 1.49731708e+09,  1.57566764e+09, -3.71774631e+08,\n",
       "         1.74186655e+09, -8.78468835e+08, -4.14129727e+05,\n",
       "         3.31712767e+08, -9.09870539e+08,  8.34680600e+07,\n",
       "         1.94235324e+07, -4.06127760e+08,  2.38193942e+07,\n",
       "        -7.31651681e+05, -1.07769459e+08,  9.93747419e+05,\n",
       "        -9.02650267e+03],\n",
       "       [-1.25713007e+08, -5.52560541e+07,  2.37138503e+08,\n",
       "        -1.99896325e+08,  1.15569126e+08, -1.11950100e+08,\n",
       "        -4.70141587e+07,  9.38191046e+07, -3.21567390e+08,\n",
       "        -3.08129398e+06,  2.42165945e+07, -2.72043759e+08,\n",
       "         1.44661897e+05,  9.94335654e+05, -1.02879935e+08,\n",
       "         9.06156792e+01],\n",
       "       [-1.38699607e+01, -6.56372620e+01,  1.29846699e+01,\n",
       "        -2.67599314e+00, -1.61076980e+01,  1.48699272e+00,\n",
       "         6.65898823e+00, -6.82747114e+00,  5.67549110e-01,\n",
       "         2.26690145e+01,  2.21396491e+00, -5.07867503e-01,\n",
       "         3.56082513e+01,  1.05268194e+00, -2.11605008e-01,\n",
       "         7.97444467e-04],\n",
       "       [-2.51304870e+02, -3.09665923e+02,  7.69303064e+01,\n",
       "        -2.86527181e+02,  1.29786746e+02, -4.26666112e+00,\n",
       "        -5.44573837e+01,  1.42589488e+02, -2.20722564e+01,\n",
       "        -1.24300484e+00,  7.28212382e+01, -9.33940855e+00,\n",
       "         1.03695351e+00,  4.08446143e+01, -1.08764312e+00,\n",
       "         2.76742922e-03],\n",
       "       [ 4.70974232e+01,  6.17862822e+01, -1.76534621e+01,\n",
       "         5.11662269e+01, -2.63332500e+01, -2.00418690e+01,\n",
       "         9.31788641e+00, -2.59598229e+01,  2.26251112e+00,\n",
       "         1.27228263e-01, -9.62161302e+00,  2.31916381e+01,\n",
       "        -2.08715497e-01, -1.08892758e+00,  3.56023131e+01,\n",
       "        -5.73422389e-04],\n",
       "       [ 1.05033905e+00,  1.09808174e+00,  1.14582442e+00,\n",
       "         1.04295912e+00,  1.09785171e+00,  1.15274429e+00,\n",
       "         1.03293538e+00,  1.09749384e+00,  1.16205230e+00,\n",
       "         1.01853873e+00,  1.09688786e+00,  1.17523699e+00,\n",
       "         9.96118282e-01,  1.09573011e+00,  1.19534194e+00,\n",
       "         1.00212056e-08]])"
      ]
     },
     "execution_count": 24,
     "metadata": {},
     "output_type": "execute_result"
    }
   ],
   "source": [
    "analytical_grad_bck.reshape(7,-1)"
   ]
  }
 ],
 "metadata": {
  "kernelspec": {
   "display_name": "kep3_devel",
   "language": "python",
   "name": "python3"
  },
  "language_info": {
   "codemirror_mode": {
    "name": "ipython",
    "version": 3
   },
   "file_extension": ".py",
   "mimetype": "text/x-python",
   "name": "python",
   "nbconvert_exporter": "python",
   "pygments_lexer": "ipython3",
   "version": "3.11.6"
  }
 },
 "nbformat": 4,
 "nbformat_minor": 2
}
